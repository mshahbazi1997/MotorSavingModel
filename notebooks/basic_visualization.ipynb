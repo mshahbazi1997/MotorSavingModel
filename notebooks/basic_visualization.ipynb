{
 "cells": [
  {
   "cell_type": "code",
   "execution_count": null,
   "metadata": {},
   "outputs": [],
   "source": [
    "effector = mn.effector.RigidTendonArm26(muscle=mn.muscle.ReluMuscle()) \n",
    "env = MyCustomEnv(effector=effector,max_ep_duration=1.,name='env')\n",
    "\n",
    "lb = np.array(effector.pos_lower_bound)\n",
    "ub = np.array(effector.pos_upper_bound)\n",
    "start_position = lb + (ub - lb) / 2\n",
    "start_position = start_position.reshape(1,-1)\n",
    "start_jpv = th.from_numpy(np.concatenate([start_position, np.zeros_like(start_position)], axis=1)) # joint position and velocity\n",
    "start_cpv = env.effector.joint2cartesian(start_jpv).numpy()\n",
    "\n",
    "angle = np.deg2rad(np.arange(0,360,45))\n",
    "reaching_distance = 0.1\n",
    "end_cp = reaching_distance * np.stack([np.cos(angle), np.sin(angle)], axis=-1)\n",
    "\n",
    "goal_states = start_cpv + np.concatenate([end_cp, np.zeros_like(end_cp)], axis=-1)\n",
    "goal_states = goal_states[:,:2]"
   ]
  },
  {
   "cell_type": "code",
   "execution_count": null,
   "metadata": {},
   "outputs": [],
   "source": [
    "plt.scatter(pos[:, 0],pos[:, 1])\n",
    "plt.scatter(goal_states[:, 0],goal_states[:, 1])"
   ]
  },
  {
   "cell_type": "code",
   "execution_count": null,
   "metadata": {},
   "outputs": [],
   "source": [
    "\n",
    "# log_file = list(Path(data_dir).glob(f'{model_name}_phase={phase}_*_log.json'))[0]\n",
    "# log = json.load(open(log_file,'r'))\n",
    "# plot.plot_training_log(log,'position',w=20)"
   ]
  }
 ],
 "metadata": {
  "language_info": {
   "name": "python"
  },
  "orig_nbformat": 4
 },
 "nbformat": 4,
 "nbformat_minor": 2
}
