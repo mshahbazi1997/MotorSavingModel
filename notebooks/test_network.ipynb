{
 "cells": [
  {
   "cell_type": "code",
   "execution_count": 1,
   "metadata": {},
   "outputs": [],
   "source": [
    "import os\n",
    "import sys \n",
    "sys.path.append(os.path.abspath('..'))\n",
    "import json\n",
    "from pathlib import Path\n",
    "from get_utils import get_data,get_dir\n",
    "from model import test\n",
    "import plot as plot\n",
    "import numpy as np\n",
    "import matplotlib.pyplot as plt\n",
    "\n",
    "\n",
    "#%matplotlib widget\n",
    "%matplotlib qt"
   ]
  },
  {
   "cell_type": "code",
   "execution_count": 2,
   "metadata": {},
   "outputs": [],
   "source": [
    "model_name = \"model{:02d}\".format(0)\n",
    "phase = 'FF2'\n",
    "ff_coef = -8\n",
    "folder_name = 'Sim_all_inv2'\n",
    "\n",
    "\n",
    "# _,_,loss_file = get_dir(folder_name, model_name, phase, ff_coef=ff_coef)\n",
    "# loss_dic = json.load(open(loss_file,'r'))\n",
    "# w=10\n",
    "# for loss in loss_dic.keys():\n",
    "#     fig,ax = plot.plot_training_log(log=loss_dic,loss_type=loss, w=w)\n",
    "#     ax.set_title(f\"{loss} (w={w})\")\n",
    "#fig.savefig(os.path.join(data_dir,'loss_FF1.png'),dpi=300)"
   ]
  },
  {
   "cell_type": "code",
   "execution_count": 3,
   "metadata": {},
   "outputs": [],
   "source": [
    "# 9, 10, 11, 16, 17, 18, 19, 20, 21, 23, 26\n",
    "\n",
    "folder_name = 'Sim_all_inv2'\n",
    "model_name = 'model00'\n",
    "\n",
    "phase = {'NF1':[0],'NF2':[0]}\n",
    "ff_coef = None#[8,8]\n",
    "data = get_data(folder_name,model_name,phase,ff_coef,is_channel=False)"
   ]
  },
  {
   "cell_type": "code",
   "execution_count": 6,
   "metadata": {},
   "outputs": [],
   "source": [
    "n_phase = len(phase)\n",
    "fig,ax = plt.subplots(1,n_phase,figsize=(5*n_phase,5))\n",
    "if len(phase) == 1:\n",
    "    ax = [ax]\n",
    "for i,p in enumerate(phase.keys()):\n",
    "    plot.plot_simulations(ax[i],xy=data[i]['xy'],target_xy=data[i]['tg'],vel=None,plot_lat=False)\n",
    "    ax[i].set_title(f'Phase {p}')\n",
    "plt.tight_layout()\n",
    "plt.show()\n",
    "#fig.savefig(os.path.join(data_dir,f'{model_name}_trajectory.png'),dpi=300)"
   ]
  },
  {
   "cell_type": "code",
   "execution_count": null,
   "metadata": {},
   "outputs": [],
   "source": []
  },
  {
   "cell_type": "code",
   "execution_count": 5,
   "metadata": {},
   "outputs": [],
   "source": [
    "i=1\n",
    "fig, ax = plot.plot_activation(data[1]['all_hidden'],data[1]['all_muscle']-data[0]['all_muscle'],figsize=(10,15))"
   ]
  },
  {
   "cell_type": "code",
   "execution_count": 7,
   "metadata": {},
   "outputs": [],
   "source": [
    "labels = list(phase.keys())\n",
    "fig, ax = plot.plot_force(data,labels,figsize=(5,7.5))\n",
    "#fig.savefig(os.path.join(data_dir,'lat_force.png'),dpi=300)"
   ]
  },
  {
   "cell_type": "code",
   "execution_count": 8,
   "metadata": {},
   "outputs": [],
   "source": [
    "fig, ax = plot.plot_kinematic(data[i]['vel'],data[i]['xy'],data[i]['tg'],figsize=(10,7.5)) # data[i]['vel']\n",
    "#fig.savefig(os.path.join(data_dir,'kinematic.png'),dpi=300)"
   ]
  },
  {
   "cell_type": "code",
   "execution_count": 9,
   "metadata": {},
   "outputs": [],
   "source": [
    "labels = list(phase.keys())\n",
    "fg, ax = plot.plot_epforce(data,labels,figsize=(5,15))"
   ]
  },
  {
   "cell_type": "code",
   "execution_count": null,
   "metadata": {},
   "outputs": [],
   "source": []
  }
 ],
 "metadata": {
  "kernelspec": {
   "display_name": "dl",
   "language": "python",
   "name": "python3"
  },
  "language_info": {
   "codemirror_mode": {
    "name": "ipython",
    "version": 3
   },
   "file_extension": ".py",
   "mimetype": "text/x-python",
   "name": "python",
   "nbconvert_exporter": "python",
   "pygments_lexer": "ipython3",
   "version": "3.11.5"
  },
  "orig_nbformat": 4
 },
 "nbformat": 4,
 "nbformat_minor": 2
}
