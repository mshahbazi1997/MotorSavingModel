{
 "cells": [
  {
   "cell_type": "code",
   "execution_count": 2,
   "metadata": {},
   "outputs": [],
   "source": [
    "import os\n",
    "import sys \n",
    "sys.path.append(os.path.abspath('..'))\n",
    "from get_utils import get_data\n",
    "import numpy as np\n",
    "import matplotlib.pyplot as plt\n",
    "import pandas as pd\n",
    "import seaborn as sb\n",
    "import scipy.stats as stats\n",
    "from tdr import build_tdr, project_onto_map, orth_wrt_tdr\n",
    "import torch as th\n",
    "#%matplotlib widget\n",
    "#%matplotlib qt\n",
    "%matplotlib inline"
   ]
  },
  {
   "cell_type": "code",
   "execution_count": 21,
   "metadata": {},
   "outputs": [],
   "source": [
    "folder_name = 'Sim_all'\n",
    "seed = 100\n",
    "\n",
    "T = pd.DataFrame()\n",
    "\n",
    "N_idx = 15 # 16\n",
    "F_idx = 24 # 25\n",
    "\n",
    "t_disturb_hidden = N_idx/100\n",
    "\n",
    "loss_type = 'lateral'\n",
    "is_channel = False\n",
    "\n",
    "for mn in range(0,20):\n",
    "    model_name = \"model{:02d}\".format(mn)\n",
    "\n",
    "    # 1. Estimating TDR axes\n",
    "    U2 = get_data(folder_name,model_name,{'NF1':[0]},[0],\n",
    "                  batch_size=300,catch_trial_perc=0,condition='train',go_cue_random=False,seed=seed)#batch_size=300,catch_trial_perc=0,condition='train',go_cue_random=False,seed=seed\n",
    "    N = np.array(U2[0]['all_hidden'])[:,N_idx,:]\n",
    "    X = np.array(U2[0]['endpoint_force'])[:,F_idx,:]\n",
    "\n",
    "    tdr = build_tdr(X,N)\n",
    "\n",
    "    # 2. calculate uniform shift\n",
    "    U = get_data(folder_name,model_name,{'NF1':[0],'FF1':[8]},[0,8])\n",
    "    data = []\n",
    "    for i in range(len(U)):\n",
    "        data.append(np.array(U[i]['all_hidden'])[:,N_idx,:])\n",
    "    \n",
    "    us = np.mean(data[1]-data[0],axis=0).reshape(-1,1)\n",
    "    us = orth_wrt_tdr(us,tdr)\n",
    "\n",
    "\n",
    "    # 3. perturb hidden\n",
    "    d_hidden = th.from_numpy(us.T*1) # 0.6\n",
    "\n",
    "    # now lets perturb or not and calculate the saving in behavior\n",
    "    data_p, loss_p = get_data(folder_name,model_name,{'NF2':[0]},[8],\n",
    "                              is_channel=is_channel,disturb_hidden=True,t_disturb_hidden=t_disturb_hidden,d_hidden=d_hidden,return_loss=True,batch=None) # ,batch=[3000]\n",
    "\n",
    "    data_np, loss_np = get_data(folder_name,model_name,{'NF1':[0],'NF2':[0]},[8,8],\n",
    "                                is_channel=is_channel,return_loss=True,batch=[None,None]) #,batch=[None,3000]\n",
    "    \n",
    "    loss_ff1 = loss_np[0][loss_type].item()\n",
    "    loss_ff2_np = loss_np[1][loss_type].item()\n",
    "    loss_ff2_p = loss_p[0][loss_type].item()\n",
    "\n",
    "    d = {'m':[mn]*3,'loss':[loss_ff1,loss_ff2_np,loss_ff2_p],'phase':['ff1','ff2','ff2_p']}\n",
    "    T = pd.concat([T,pd.DataFrame(d)],ignore_index=True)\n",
    "\n",
    "    # # plot\n",
    "    # n_fig = 1\n",
    "    # fig,ax = plt.subplots(1,n_fig,figsize=(7*n_fig,5))\n",
    "    # ax = [ax]\n",
    "\n",
    "    # plot.plot_simulations(ax[0],xy=data_np[1]['xy'],target_xy=data_np[1]['tg'],vel=None,plot_lat=False)\n",
    "    # plot.plot_simulations(ax[0],xy=data_p[0]['xy'],target_xy=data_p[0]['tg'],vel=None,plot_lat=False,cmap='plasma')\n",
    "\n",
    "    # fig, ax = plot.plot_activation(data_p[0]['all_hidden'],data_p[0]['all_muscle']-data_np[1]['all_muscle'],figsize=(15,15))\n",
    "\n",
    "    # #fig, ax = plot.plot_force([data_np[1],data_p[0]],['np','p'],figsize=(10,15))"
   ]
  },
  {
   "cell_type": "code",
   "execution_count": 22,
   "metadata": {},
   "outputs": [
    {
     "name": "stdout",
     "output_type": "stream",
     "text": [
      "T-statistic: 3.0708800650407184\n",
      "P-value: 0.006290066159525833\n"
     ]
    },
    {
     "data": {
      "image/png": "[encoded data removed]",
      "text/plain": [
       "<Figure size 500x500 with 1 Axes>"
      ]
     },
     "metadata": {},
     "output_type": "display_data"
    }
   ],
   "source": [
    "fig,ax = plt.subplots(1,1,figsize=(5,5))\n",
    "\n",
    "ax = sb.barplot(x='phase',y='loss',data=T,hue='phase',width=0.5)\n",
    "\n",
    "#ax.set_ylim([33,37])\n",
    "ax.set_ylim([0.03,0.035])\n",
    "#ax.set_ylim([14,16])\n",
    "\n",
    "L = T.pivot_table(index='m',columns='phase',values='loss')\n",
    "t_statistic, p_value = stats.ttest_rel(L['ff2'],L['ff2_p'])\n",
    "print(\"T-statistic:\", t_statistic)\n",
    "print(\"P-value:\", p_value)"
   ]
  },
  {
   "cell_type": "code",
   "execution_count": 31,
   "metadata": {},
   "outputs": [
    {
     "name": "stdout",
     "output_type": "stream",
     "text": [
      "T-statistic: -3.261950476481988\n",
      "P-value: 0.004102022491171881\n"
     ]
    },
    {
     "data": {
      "image/png": "[encoded data removed]",
      "text/plain": [
       "<Figure size 500x500 with 1 Axes>"
      ]
     },
     "metadata": {},
     "output_type": "display_data"
    }
   ],
   "source": [
    "fig,ax = plt.subplots(1,1,figsize=(5,5))\n",
    "\n",
    "ax = sb.barplot(x='phase',y='loss',data=results,hue='phase',width=0.5)\n",
    "\n",
    "ax.set_ylim([33,37])\n",
    "#ax.set_ylim([0.03,0.035])\n",
    "#ax.set_ylim([14,16])\n",
    "\n",
    "T = results.pivot_table(index='m',columns='phase',values='loss')\n",
    "t_statistic, p_value = stats.ttest_rel(T['ff2'],T['ff2_p'])\n",
    "print(\"T-statistic:\", t_statistic)\n",
    "print(\"P-value:\", p_value)"
   ]
  },
  {
   "cell_type": "code",
   "execution_count": 20,
   "metadata": {},
   "outputs": [],
   "source": [
    "t_statistic, p_value = stats.ttest_rel(T['ff2'],T['ff2_p'])"
   ]
  },
  {
   "cell_type": "code",
   "execution_count": 38,
   "metadata": {},
   "outputs": [
    {
     "name": "stdout",
     "output_type": "stream",
     "text": [
      "T-statistic: 0.927251732376347\n",
      "P-value: 0.3654257640171489\n"
     ]
    }
   ],
   "source": [
    "t_statistic, p_value = stats.ttest_rel(T['ff1'],T['ff2'])\n",
    "print(\"T-statistic:\", t_statistic)\n",
    "print(\"P-value:\", p_value)"
   ]
  },
  {
   "cell_type": "code",
   "execution_count": null,
   "metadata": {},
   "outputs": [],
   "source": []
  }
 ],
 "metadata": {
  "kernelspec": {
   "display_name": "dl",
   "language": "python",
   "name": "python3"
  },
  "language_info": {
   "codemirror_mode": {
    "name": "ipython",
    "version": 3
   },
   "file_extension": ".py",
   "mimetype": "text/x-python",
   "name": "python",
   "nbconvert_exporter": "python",
   "pygments_lexer": "ipython3",
   "version": "3.11.5"
  }
 },
 "nbformat": 4,
 "nbformat_minor": 2
}
