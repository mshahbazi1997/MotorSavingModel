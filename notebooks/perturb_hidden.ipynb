{
 "cells": [
  {
   "cell_type": "code",
   "execution_count": 1,
   "metadata": {},
   "outputs": [],
   "source": [
    "import os\n",
    "import sys \n",
    "sys.path.append(os.path.abspath('..'))\n",
    "from get_utils import return_ignore, get_data, get_dir\n",
    "import matplotlib.pyplot as plt\n",
    "import pandas as pd\n",
    "import seaborn as sb\n",
    "import numpy as np\n",
    "from tdr import build_tdr, project_onto_map, orth_wrt_map\n",
    "import torch as th\n",
    "import scipy.stats as stats\n",
    "import plot as plot\n",
    "from matplotlib.colors import ListedColormap\n",
    "\n",
    "\n",
    "\n",
    "\n",
    "#%matplotlib qt\n",
    "#%matplotlib widget\n",
    "%matplotlib inline"
   ]
  },
  {
   "cell_type": "code",
   "execution_count": 8,
   "metadata": {},
   "outputs": [],
   "source": [
    "loss_type = 'lateral' # I chose lateral deviation as the loss function\n",
    "\n",
    "\n",
    "phases = {'NF1':[0],'FF1':[8],'NF2':[0],'FF2':[8]}\n",
    "labels = ['NF1','FF1','NF2','FF2']\n",
    "palette_colors = {'FF1':(0,0.5,0),'FF2':(0.4,0.4,0.8),'NF1':(0,0,0),'NF2':(0,0,0)}\n",
    "\n",
    "\n",
    "\n",
    "fontsize_label = 7\n",
    "fontsize_tick = 7\n",
    "fontsize_legend = 7\n",
    "\n",
    "base_dir = os.path.join(os.path.expanduser('~'),'Documents','Data','MotorNet')\n",
    "save_fig = '/Users/mahdiyar/Dropbox (Personal)/MotorSavings/paper/figures_raw'\n",
    "if not os.path.exists(save_fig):\n",
    "    save_fig = os.getcwd()  # Set current directory as save_dir if save_dir doesn't exist"
   ]
  },
  {
   "cell_type": "code",
   "execution_count": 3,
   "metadata": {},
   "outputs": [],
   "source": [
    "n_model = 40 # number of simulated networks\n",
    "network_siz = 128\n",
    "folder_name = f'Sim_fixed_{network_siz}'\n",
    "n_muscle = 6\n",
    "\n",
    "palette_colors = {'FF1':(0,0.5,0),'FF2':(0.4,0.4,0.8),'NF1':(0,0,0),'NF2':(0,0,0)}"
   ]
  },
  {
   "cell_type": "code",
   "execution_count": 4,
   "metadata": {},
   "outputs": [
    {
     "data": {
      "text/plain": [
       "array([ 5.,  9., 13., 17., 21., 25., 29., 33., 37., 41., 45.])"
      ]
     },
     "execution_count": 4,
     "metadata": {},
     "output_type": "execute_result"
    }
   ],
   "source": [
    "np.linspace(5,45,11)"
   ]
  },
  {
   "cell_type": "code",
   "execution_count": 4,
   "metadata": {},
   "outputs": [
    {
     "name": "stdout",
     "output_type": "stream",
     "text": [
      "Network size: 128\n"
     ]
    }
   ],
   "source": [
    "N_idx = 16#16 # 16 # time point just before the reach onset\n",
    "F_idx = 59#25 # 25 # time point just after the reach onset\n",
    "\n",
    "T = pd.DataFrame()\n",
    "\n",
    "for s in [128]:\n",
    "    print(f'Network size: {s}')\n",
    "    network_siz = s\n",
    "    folder_name = f'Sim_fixed_{network_siz}'\n",
    "    ignore = return_ignore(folder_name,n_model) # sometimes some of cpus fail so we want to ignore those models\n",
    "\n",
    "\n",
    "    for mn in range(n_model):\n",
    "        model_name = \"model{:02d}\".format(mn)\n",
    "        if mn in ignore:\n",
    "            continue\n",
    "\n",
    "\n",
    "        # 0. Load weights\n",
    "        weight_file,_,_= get_dir(folder_name,model_name,'NF1',0)\n",
    "        W = th.load(weight_file)['fc.weight'].numpy()\n",
    "        U, S, Vh = np.linalg.svd(W, full_matrices=True)\n",
    "        V = Vh.T\n",
    "        P = V[:,:n_muscle] # output potent\n",
    "        N = V[:,n_muscle:] # output null\n",
    "        \n",
    "        # 1. Load data\n",
    "        U = get_data(folder_name,model_name,phases,n_hidden=network_siz)\n",
    "\n",
    "        for N_idx in [16]:\n",
    "            data = []\n",
    "            force = []\n",
    "            for i in range(len(U)):\n",
    "                data.append(np.array(U[i]['all_hidden'])[:,int(N_idx),:])\n",
    "                force.append(np.array(U[i]['endpoint_force'])[:,F_idx,:])\n",
    "\n",
    "            # 1 build TDR\n",
    "            combined_N = np.vstack(data)\n",
    "            mean_N = np.mean(combined_N, axis=0)\n",
    "\n",
    "            X = force[0] # NF1 force \n",
    "            N = data[0]-mean_N # NF1 hidden activity\n",
    "\n",
    "            tdr = build_tdr(X,N)\n",
    "\n",
    "            # 2 uniform shift from NF1 to FF1\n",
    "            us = np.mean(data[1]-data[0],axis=0).reshape(-1,1)\n",
    "            us_orth_norm = orth_wrt_map(us,tdr)\n",
    "            #us_orth_norm = orth_wrt_map(us,P)\n",
    "            #us_orth_norm = us\n",
    "\n",
    "\n",
    "            # 2.1 Baseline FF1\n",
    "            _, loss_np = get_data(folder_name,model_name,{'NF1':[0]},[8],n_hidden=network_siz,return_loss=True) \n",
    "            loss_ff1 = loss_np[0][loss_type].mean()\n",
    "\n",
    "            # 3. perturb hidden\n",
    "            for mag in [-1.0,1.0,0]:#np.linspace(-1.5,1.5,7): # positive and negative perturbation\n",
    "                d_hidden = th.from_numpy(mag*us_orth_norm.T)\n",
    "\n",
    "                # now lets perturb or not and calculate the saving in behavior\n",
    "                _, loss_p = get_data(folder_name,model_name,{'NF2':[0]},[8],n_hidden=network_siz,disturb_hidden=True,t_disturb_hidden=N_idx/100,d_hidden=d_hidden,return_loss=True)\n",
    "\n",
    "                loss_ff2 = loss_p[0][loss_type].mean()\n",
    "\n",
    "                d = {'size':[network_siz]*2,'N':[N_idx]*2,'m':[mn]*2,'loss':[loss_ff1,loss_ff2],'phase':['FF1','FF2'],'mag':[0,mag]}\n",
    "                T = pd.concat([T,pd.DataFrame(d)],ignore_index=True)\n",
    "\n",
    "T.to_csv(base_dir+'/perturb.csv',index=False)"
   ]
  },
  {
   "cell_type": "code",
   "execution_count": 6,
   "metadata": {},
   "outputs": [
    {
     "data": {
      "text/plain": [
       "<Axes: xlabel='N', ylabel='loss'>"
      ]
     },
     "execution_count": 6,
     "metadata": {},
     "output_type": "execute_result"
    },
    {
     "data": {
      "image/png": "[encoded data removed]",
      "text/plain": [
       "<Figure size 640x480 with 1 Axes>"
      ]
     },
     "metadata": {},
     "output_type": "display_data"
    }
   ],
   "source": [
    "T = pd.read_csv(base_dir+'/perturb3.csv')\n",
    "\n",
    "filter_condition = (\n",
    "    (T['phase'] == 'FF2'))\n",
    "T = T[filter_condition].reset_index(drop=True)\n",
    "T\n",
    "sb.pointplot(x='N', y='loss', data=T,hue='mag') #,errorbar=None\n"
   ]
  },
  {
   "cell_type": "code",
   "execution_count": 6,
   "metadata": {},
   "outputs": [],
   "source": [
    "from sklearn.utils import resample\n",
    "import numpy as np\n",
    "\n",
    "def bootstrap_ci(data, n_boot=1000, ci=95):\n",
    "    \"\"\"\n",
    "    Calculate the bootstrap confidence interval.\n",
    "    \"\"\"\n",
    "    boot_means = []\n",
    "    for _ in range(n_boot):\n",
    "        boot_sample = resample(data)\n",
    "        boot_means.append(np.mean(boot_sample))\n",
    "    \n",
    "    lower = np.percentile(boot_means, (100-ci)/2)\n",
    "    upper = np.percentile(boot_means, 100-(100-ci)/2)\n",
    "    \n",
    "    return (lower, upper)\n",
    "\n",
    "def ci_func(values):\n",
    "    \"\"\"\n",
    "    Compute the lower and upper confidence interval from bootstrap sampling.\n",
    "    \"\"\"\n",
    "    ci_low, ci_high = bootstrap_ci(values)\n",
    "    return ci_low, ci_high"
   ]
  },
  {
   "cell_type": "markdown",
   "metadata": {},
   "source": [
    "# plot"
   ]
  },
  {
   "cell_type": "code",
   "execution_count": 9,
   "metadata": {},
   "outputs": [
    {
     "data": {
      "image/png": "[encoded data removed]",
      "text/plain": [
       "<Figure size 300x200 with 1 Axes>"
      ]
     },
     "metadata": {},
     "output_type": "display_data"
    }
   ],
   "source": [
    "T = pd.read_csv(base_dir+'/perturb.csv')\n",
    "\n",
    "\n",
    "filter_condition = (\n",
    "    (T['mag'].isin([-1,-0.5,0,0.5,1])) &\n",
    "    (T['size'] == 128)\n",
    ")\n",
    "T = T[filter_condition].reset_index(drop=True)\n",
    "\n",
    "fig, ax = plt.subplots(1, 1, figsize=(3, 2))\n",
    "sb.pointplot(x='mag', y='loss', data=T, ax=ax,hue='phase',palette=palette_colors,errorbar=ci_func) #,errorbar=None\n",
    "\n",
    "\n",
    "ax.spines['top'].set_visible(False)\n",
    "ax.spines['right'].set_visible(False)\n",
    "ax.xaxis.set_tick_params(labelsize=fontsize_tick)\n",
    "ax.yaxis.set_tick_params(labelsize=fontsize_tick)\n",
    "ax.tick_params(bottom = False) \n",
    "ax.set_xlabel('Perturbation magnitude', fontsize = fontsize_label)\n",
    "ax.set_ylabel('Initial lateral deviation', fontsize = fontsize_label)\n",
    "\n",
    "ax.legend(fontsize=fontsize_legend,loc='upper right',frameon = False)\n",
    "fig.savefig(os.path.join(save_fig,'perturbation.pdf'),dpi=300,bbox_inches='tight')"
   ]
  },
  {
   "cell_type": "code",
   "execution_count": null,
   "metadata": {},
   "outputs": [],
   "source": []
  }
 ],
 "metadata": {
  "kernelspec": {
   "display_name": "dl",
   "language": "python",
   "name": "python3"
  },
  "language_info": {
   "codemirror_mode": {
    "name": "ipython",
    "version": 3
   },
   "file_extension": ".py",
   "mimetype": "text/x-python",
   "name": "python",
   "nbconvert_exporter": "python",
   "pygments_lexer": "ipython3",
   "version": "3.11.5"
  }
 },
 "nbformat": 4,
 "nbformat_minor": 2
}
