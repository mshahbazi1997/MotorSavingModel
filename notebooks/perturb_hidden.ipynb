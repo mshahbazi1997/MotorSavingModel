{
 "cells": [
  {
   "cell_type": "code",
   "execution_count": 1,
   "metadata": {},
   "outputs": [],
   "source": [
    "import os\n",
    "import sys \n",
    "sys.path.append(os.path.abspath('..'))\n",
    "from get_utils import get_data, get_dir\n",
    "import numpy as np\n",
    "import torch as th\n",
    "import plot as plot\n",
    "import matplotlib.pyplot as plt\n",
    "import pandas as pd\n",
    "import seaborn as sb\n",
    "from tdr import build_tdr, orth_wrt_map\n",
    "import scipy.stats as stats\n",
    "\n",
    "base_dir = os.path.join(os.path.expanduser('~'),'Documents','Data','MotorNet')\n"
   ]
  },
  {
   "cell_type": "code",
   "execution_count": 26,
   "metadata": {},
   "outputs": [],
   "source": [
    "# Load hidden\n",
    "#folder_name = 'Sim_simple3'\n",
    "#folder_name = 'Sim_simple_16'\n",
    "#num_hidden = 16\n",
    "\n",
    "loss_type = 'angle'\n",
    "is_channel = False\n",
    "T = pd.DataFrame()\n",
    "\n",
    "N_idx = 16 # 16\n",
    "F_idx = 25 # 25\n",
    "\n",
    "\n",
    "for s in [32]:\n",
    "    folder_name = 'Sim_all_' + str(s)\n",
    "    num_hidden = s\n",
    "    for mn in range(0,20):\n",
    "        model_name = \"model{:02d}\".format(mn)\n",
    "\n",
    "        # 0. load muscle space\n",
    "        n_muscle = 6\n",
    "        weight_file,_,_= get_dir(folder_name,model_name,'NF1',0)\n",
    "        W = th.load(weight_file)['fc.weight'].numpy()\n",
    "        _, _, Vh = np.linalg.svd(W, full_matrices=True)\n",
    "        V = Vh.T\n",
    "        P = V[:,:n_muscle] # output potent:  neurons x n_muscle\n",
    "        #N = V[:,n_muscle:].T # output null space: ...x neurons\n",
    "\n",
    "        # 1. Load data\n",
    "        U = get_data(folder_name,model_name,{'NF1':[0],'FF1':[8],'NF2':[0],'FF2':[8]},[0,8,0,8],num_hidden=num_hidden) # ,batch_size=300,catch_trial_perc=0,condition='train',go_cue_random=False,seed=seed\n",
    "        data = []\n",
    "        force = []\n",
    "        for i in range(len(U)):\n",
    "            data.append(np.array(U[i]['all_hidden'])[:,N_idx,:])\n",
    "            force.append(np.array(U[i]['endpoint_force'])[:,F_idx,:])\n",
    "        \n",
    "        # 1.1 build TDR\n",
    "        combined_N = np.vstack(data)\n",
    "        mean_N = np.mean(combined_N, axis=0)\n",
    "\n",
    "        X = force[0] # NF1 force \n",
    "        N = data[0]-mean_N # NF1 hidden activity\n",
    "\n",
    "        tdr = build_tdr(X,N)\n",
    "\n",
    "        # 2.2 uniform shift from NF1 to FF1\n",
    "        us = np.mean(data[1]-data[0],axis=0).reshape(-1,1)\n",
    "        us_orth_norm = orth_wrt_map(us,tdr) \n",
    "        #us_orth_norm = orth_wrt_map(us,P) # hear i want to try something different\n",
    "\n",
    "\n",
    "        # 3. perturb hidden\n",
    "        loss_ff2_p = []\n",
    "        for dir in [1,-1]:\n",
    "            d_hidden = th.from_numpy(dir*us_orth_norm.T*0.4) # 0.6\n",
    "\n",
    "            # now lets perturb or not and calculate the saving in behavior\n",
    "            data_p, loss_p = get_data(folder_name,model_name,{'NF2':[0]},[8],num_hidden=num_hidden,\n",
    "                                    is_channel=is_channel,disturb_hidden=True,t_disturb_hidden=N_idx/100,d_hidden=d_hidden,return_loss=True,batch=[None]) # ,batch=[3000] batch=None\n",
    "            loss_ff2_p.append(loss_p[0][loss_type].item())\n",
    "\n",
    "        \n",
    "        data_np, loss_np = get_data(folder_name,model_name,{'NF1':[0],'NF2':[0]},[8,8],num_hidden=num_hidden,\n",
    "                                    is_channel=is_channel,return_loss=True,batch=[None,None]) #,batch=[None,3000] [None,None]\n",
    "        \n",
    "\n",
    "        loss_ff1 = loss_np[0][loss_type].item()\n",
    "        loss_ff2_np = loss_np[1][loss_type].item()\n",
    "        \n",
    "\n",
    "        d = {'size':[s]*4,'N':[N_idx]*4,'m':[mn]*4,'loss':[loss_ff1,loss_ff2_np,loss_ff2_p[0],loss_ff2_p[1]],'phase':['ff1','ff2','ff2_p+','ff2_p-']}\n",
    "        T = pd.concat([T,pd.DataFrame(d)],ignore_index=True)\n",
    "\n",
    "        \n",
    "        # # plot\n",
    "        # n_fig = 1\n",
    "        # fig,ax = plt.subplots(1,n_fig,figsize=(7*n_fig,5))\n",
    "        # ax = [ax]\n",
    "\n",
    "        # plot.plot_simulations(ax[0],xy=data_np[1]['xy'],target_xy=data_np[1]['tg'],vel=None,plot_lat=False)\n",
    "        # plot.plot_simulations(ax[0],xy=data_p[0]['xy'],target_xy=data_p[0]['tg'],vel=None,plot_lat=False,cmap='plasma')\n",
    "\n",
    "        # fig, ax = plot.plot_activation(data_p[0]['all_hidden'],data_p[0]['all_muscle']-data_np[1]['all_muscle'],figsize=(15,15))\n",
    "\n",
    "        #fig, ax = plot.plot_force([data_np[1],data_p[0]],['np','p'],figsize=(10,15))\n",
    "#T.to_csv(base_dir+'/perturb_hidden.csv',index=False)"
   ]
  },
  {
   "cell_type": "code",
   "execution_count": 2,
   "metadata": {},
   "outputs": [],
   "source": [
    "#%matplotlib widget\n",
    "\n",
    "#fig,ax = plt.subplots(1,1,figsize=(10,5))\n",
    "#ax = sb.lineplot(x='N',y='loss',data=T,hue='phase')\n",
    "\n",
    "T = pd.read_csv(base_dir+'/perturb_hidden.csv')"
   ]
  },
  {
   "cell_type": "code",
   "execution_count": 29,
   "metadata": {},
   "outputs": [
    {
     "data": {
      "image/png": "[encoded data removed]",
      "text/plain": [
       "<Figure size 1200x500 with 1 Axes>"
      ]
     },
     "metadata": {},
     "output_type": "display_data"
    }
   ],
   "source": [
    "fig,ax = plt.subplots(1,1,figsize=(12,5))\n",
    "\n",
    "# Plot for T_pos on the first subplot\n",
    "sb.barplot(x='size', y='loss', data=T, hue='phase', ax=ax)\n",
    "\n",
    "\n",
    "#ax.set_ylim([0.035, 0.05])\n",
    "#ax.set_ylim([40, 50])  \n",
    "ax.set_ylim([15, 17])  \n",
    "\n",
    "\n",
    "# Display the plot\n",
    "plt.tight_layout()  # Adjust the layout\n",
    "plt.show()\n",
    "\n",
    "\n",
    "# L = T.pivot_table(index='m',columns='phase',values='loss')\n",
    "# t_statistic, p_value = stats.ttest_rel(L['ff2'],L['ff2_p'])\n",
    "# print(\"T-statistic:\", t_statistic)\n",
    "# print(\"P-value:\", p_value)"
   ]
  },
  {
   "cell_type": "code",
   "execution_count": 37,
   "metadata": {},
   "outputs": [
    {
     "ename": "KeyError",
     "evalue": "'ff2'",
     "output_type": "error",
     "traceback": [
      "\u001b[0;31m---------------------------------------------------------------------------\u001b[0m",
      "\u001b[0;31mKeyError\u001b[0m                                  Traceback (most recent call last)",
      "File \u001b[0;32m~/miniconda3/envs/dl/lib/python3.11/site-packages/pandas/core/indexes/base.py:3790\u001b[0m, in \u001b[0;36mIndex.get_loc\u001b[0;34m(self, key)\u001b[0m\n\u001b[1;32m   3789\u001b[0m \u001b[38;5;28;01mtry\u001b[39;00m:\n\u001b[0;32m-> 3790\u001b[0m     \u001b[38;5;28;01mreturn\u001b[39;00m \u001b[38;5;28;43mself\u001b[39;49m\u001b[38;5;241;43m.\u001b[39;49m\u001b[43m_engine\u001b[49m\u001b[38;5;241;43m.\u001b[39;49m\u001b[43mget_loc\u001b[49m\u001b[43m(\u001b[49m\u001b[43mcasted_key\u001b[49m\u001b[43m)\u001b[49m\n\u001b[1;32m   3791\u001b[0m \u001b[38;5;28;01mexcept\u001b[39;00m \u001b[38;5;167;01mKeyError\u001b[39;00m \u001b[38;5;28;01mas\u001b[39;00m err:\n",
      "File \u001b[0;32mindex.pyx:152\u001b[0m, in \u001b[0;36mpandas._libs.index.IndexEngine.get_loc\u001b[0;34m()\u001b[0m\n",
      "File \u001b[0;32mindex.pyx:181\u001b[0m, in \u001b[0;36mpandas._libs.index.IndexEngine.get_loc\u001b[0;34m()\u001b[0m\n",
      "File \u001b[0;32mpandas/_libs/hashtable_class_helper.pxi:7080\u001b[0m, in \u001b[0;36mpandas._libs.hashtable.PyObjectHashTable.get_item\u001b[0;34m()\u001b[0m\n",
      "File \u001b[0;32mpandas/_libs/hashtable_class_helper.pxi:7088\u001b[0m, in \u001b[0;36mpandas._libs.hashtable.PyObjectHashTable.get_item\u001b[0;34m()\u001b[0m\n",
      "\u001b[0;31mKeyError\u001b[0m: 'ff2'",
      "\nThe above exception was the direct cause of the following exception:\n",
      "\u001b[0;31mKeyError\u001b[0m                                  Traceback (most recent call last)",
      "Cell \u001b[0;32mIn[37], line 1\u001b[0m\n\u001b[0;32m----> 1\u001b[0m t_statistic, p_value \u001b[38;5;241m=\u001b[39m stats\u001b[38;5;241m.\u001b[39mttest_rel(\u001b[43mT\u001b[49m\u001b[43m[\u001b[49m\u001b[38;5;124;43m'\u001b[39;49m\u001b[38;5;124;43mff2\u001b[39;49m\u001b[38;5;124;43m'\u001b[39;49m\u001b[43m]\u001b[49m,T[\u001b[38;5;124m'\u001b[39m\u001b[38;5;124mff2_p\u001b[39m\u001b[38;5;124m'\u001b[39m])\n",
      "File \u001b[0;32m~/miniconda3/envs/dl/lib/python3.11/site-packages/pandas/core/frame.py:3896\u001b[0m, in \u001b[0;36mDataFrame.__getitem__\u001b[0;34m(self, key)\u001b[0m\n\u001b[1;32m   3894\u001b[0m \u001b[38;5;28;01mif\u001b[39;00m \u001b[38;5;28mself\u001b[39m\u001b[38;5;241m.\u001b[39mcolumns\u001b[38;5;241m.\u001b[39mnlevels \u001b[38;5;241m>\u001b[39m \u001b[38;5;241m1\u001b[39m:\n\u001b[1;32m   3895\u001b[0m     \u001b[38;5;28;01mreturn\u001b[39;00m \u001b[38;5;28mself\u001b[39m\u001b[38;5;241m.\u001b[39m_getitem_multilevel(key)\n\u001b[0;32m-> 3896\u001b[0m indexer \u001b[38;5;241m=\u001b[39m \u001b[38;5;28;43mself\u001b[39;49m\u001b[38;5;241;43m.\u001b[39;49m\u001b[43mcolumns\u001b[49m\u001b[38;5;241;43m.\u001b[39;49m\u001b[43mget_loc\u001b[49m\u001b[43m(\u001b[49m\u001b[43mkey\u001b[49m\u001b[43m)\u001b[49m\n\u001b[1;32m   3897\u001b[0m \u001b[38;5;28;01mif\u001b[39;00m is_integer(indexer):\n\u001b[1;32m   3898\u001b[0m     indexer \u001b[38;5;241m=\u001b[39m [indexer]\n",
      "File \u001b[0;32m~/miniconda3/envs/dl/lib/python3.11/site-packages/pandas/core/indexes/base.py:3797\u001b[0m, in \u001b[0;36mIndex.get_loc\u001b[0;34m(self, key)\u001b[0m\n\u001b[1;32m   3792\u001b[0m     \u001b[38;5;28;01mif\u001b[39;00m \u001b[38;5;28misinstance\u001b[39m(casted_key, \u001b[38;5;28mslice\u001b[39m) \u001b[38;5;129;01mor\u001b[39;00m (\n\u001b[1;32m   3793\u001b[0m         \u001b[38;5;28misinstance\u001b[39m(casted_key, abc\u001b[38;5;241m.\u001b[39mIterable)\n\u001b[1;32m   3794\u001b[0m         \u001b[38;5;129;01mand\u001b[39;00m \u001b[38;5;28many\u001b[39m(\u001b[38;5;28misinstance\u001b[39m(x, \u001b[38;5;28mslice\u001b[39m) \u001b[38;5;28;01mfor\u001b[39;00m x \u001b[38;5;129;01min\u001b[39;00m casted_key)\n\u001b[1;32m   3795\u001b[0m     ):\n\u001b[1;32m   3796\u001b[0m         \u001b[38;5;28;01mraise\u001b[39;00m InvalidIndexError(key)\n\u001b[0;32m-> 3797\u001b[0m     \u001b[38;5;28;01mraise\u001b[39;00m \u001b[38;5;167;01mKeyError\u001b[39;00m(key) \u001b[38;5;28;01mfrom\u001b[39;00m \u001b[38;5;21;01merr\u001b[39;00m\n\u001b[1;32m   3798\u001b[0m \u001b[38;5;28;01mexcept\u001b[39;00m \u001b[38;5;167;01mTypeError\u001b[39;00m:\n\u001b[1;32m   3799\u001b[0m     \u001b[38;5;66;03m# If we have a listlike key, _check_indexing_error will raise\u001b[39;00m\n\u001b[1;32m   3800\u001b[0m     \u001b[38;5;66;03m#  InvalidIndexError. Otherwise we fall through and re-raise\u001b[39;00m\n\u001b[1;32m   3801\u001b[0m     \u001b[38;5;66;03m#  the TypeError.\u001b[39;00m\n\u001b[1;32m   3802\u001b[0m     \u001b[38;5;28mself\u001b[39m\u001b[38;5;241m.\u001b[39m_check_indexing_error(key)\n",
      "\u001b[0;31mKeyError\u001b[0m: 'ff2'"
     ]
    }
   ],
   "source": [
    "t_statistic, p_value = stats.ttest_rel(T['ff2'],T['ff2_p'])"
   ]
  },
  {
   "cell_type": "code",
   "execution_count": 38,
   "metadata": {},
   "outputs": [
    {
     "name": "stdout",
     "output_type": "stream",
     "text": [
      "T-statistic: 0.927251732376347\n",
      "P-value: 0.3654257640171489\n"
     ]
    }
   ],
   "source": [
    "t_statistic, p_value = stats.ttest_rel(T['ff1'],T['ff2'])\n",
    "print(\"T-statistic:\", t_statistic)\n",
    "print(\"P-value:\", p_value)"
   ]
  },
  {
   "cell_type": "code",
   "execution_count": null,
   "metadata": {},
   "outputs": [],
   "source": []
  }
 ],
 "metadata": {
  "kernelspec": {
   "display_name": "dl",
   "language": "python",
   "name": "python3"
  },
  "language_info": {
   "codemirror_mode": {
    "name": "ipython",
    "version": 3
   },
   "file_extension": ".py",
   "mimetype": "text/x-python",
   "name": "python",
   "nbconvert_exporter": "python",
   "pygments_lexer": "ipython3",
   "version": "3.11.5"
  }
 },
 "nbformat": 4,
 "nbformat_minor": 2
}
