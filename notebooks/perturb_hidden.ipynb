{
 "cells": [
  {
   "cell_type": "code",
   "execution_count": 1,
   "metadata": {},
   "outputs": [],
   "source": [
    "import os\n",
    "import sys \n",
    "sys.path.append(os.path.abspath('..'))\n",
    "from get_utils import get_hidden, get_force, get_data\n",
    "import numpy as np\n",
    "import torch as th\n",
    "import plot as plot\n",
    "import matplotlib.pyplot as plt\n",
    "import pandas as pd\n",
    "from tdr import gsog\n",
    "import seaborn as sb\n",
    "import scipy.stats as stats"
   ]
  },
  {
   "cell_type": "code",
   "execution_count": 5,
   "metadata": {},
   "outputs": [],
   "source": [
    "# Load hidden\n",
    "folder_name = 'Sim_all'\n",
    "results = pd.DataFrame()\n",
    "\n",
    "for mn in range(0,20): # range(0,20) # [8]\n",
    "    model_name = \"model{:02d}\".format(mn)\n",
    "\n",
    "    #data = get_hidden(folder_name,model_name,phase,ff_coef,demean=False)\n",
    "    #model_name = 'model00'\n",
    "\n",
    "    # find the perturbation direction\n",
    "    data = get_hidden(folder_name,model_name,{'NF1':[0],'FF1':[8]},[0,8],demean=False)\n",
    "    force = get_force(folder_name,model_name,{'NF1':[0],'FF1':[8]},[0,8])\n",
    "\n",
    "    N_idx = 16\n",
    "    F_idx = 25 # index of force\n",
    "    for i in range(len(data)):\n",
    "        data[i] = data[i][:,N_idx,:]\n",
    "        force[i] = force[i][:,F_idx,:]\n",
    "\n",
    "    # remove overall mean\n",
    "    combined_N = np.vstack(data)\n",
    "    mean_N = np.mean(combined_N, axis=0)\n",
    "\n",
    "    for i in range(len(data)):\n",
    "        data[i] = data[i]-mean_N\n",
    "\n",
    "    # use NF1 to project onto TDR axes\n",
    "    X = force[0] # NF1 force \n",
    "    N = data[0] # NF1 hidden activity\n",
    "\n",
    "    X = np.hstack((X,np.ones((X.shape[0],1))))\n",
    "    beta_b2n = np.linalg.pinv(X) @ N\n",
    "\n",
    "    # Compute the TDR axes.\n",
    "    beta_n2b = np.linalg.pinv(beta_b2n)\n",
    "    beta_n2b = beta_n2b[:,:2]\n",
    "\n",
    "    # Orthogonalize the TDR axes before projection.\n",
    "    beta_n2b_orth = gsog(beta_n2b)[0]\n",
    "\n",
    "    # uniform shift from NF1 to FF1\n",
    "    us = np.mean(data[1]-data[0],axis=0)\n",
    "    us = us.reshape(-1,1)\n",
    "    us_orth = us - np.dot(beta_n2b_orth[:,0],us)/np.linalg.norm(beta_n2b_orth[:,0])**2 * beta_n2b_orth[:,0][:,None]\n",
    "    us_orth = us_orth - np.dot(beta_n2b_orth[:,1],us_orth)/np.linalg.norm(beta_n2b_orth[:,1])**2 * beta_n2b_orth[:,1][:,None]\n",
    "    us_orth_norm = us_orth/np.linalg.norm(us_orth)\n",
    "\n",
    "    t_disturb_hidden=N_idx/100\n",
    "    d_hidden = th.from_numpy(us_orth_norm.T*0.6)\n",
    "\n",
    "    # now lets perturb or not and calculate the saving in behavior\n",
    "    data_p, loss_p = get_data(folder_name,model_name,{'NF2':[0]},[8],is_channel=False,\n",
    "                              disturb_hidden=True,t_disturb_hidden=t_disturb_hidden,d_hidden=d_hidden,return_loss=True)\n",
    "\n",
    "    data_np, loss_np = get_data(folder_name,model_name,{'NF1':[0],'NF2':[0]},[8,8],is_channel=False,\n",
    "                                disturb_hidden=False,t_disturb_hidden=t_disturb_hidden,d_hidden=d_hidden,return_loss=True)\n",
    "    \n",
    "    # plot\n",
    "    # n_fig = 1\n",
    "    # fig,ax = plt.subplots(1,n_fig,figsize=(7*n_fig,5))\n",
    "    # ax = [ax]\n",
    "\n",
    "    # plot.plot_simulations(ax[0],xy=data_np[1]['xy'],target_xy=data_np[1]['tg'],vel=None,plot_lat=False)\n",
    "    # plot.plot_simulations(ax[0],xy=data_p[0]['xy'],target_xy=data_p[0]['tg'],vel=None,plot_lat=False,cmap='plasma')\n",
    "\n",
    "    # fig, ax = plot.plot_activation(data_p[0]['all_hidden'],data_p[0]['all_muscle']-data_np[1]['all_muscle'],figsize=(15,15))\n",
    "\n",
    "    loss_type = 'angle'\n",
    "    loss_ff1 = loss_np[0][loss_type].item()\n",
    "    loss_ff2_np = loss_np[1][loss_type].item()\n",
    "    loss_ff2_p = loss_p[0][loss_type].item()\n",
    "\n",
    "    d = {'m':[mn]*3,'loss':[loss_ff1,loss_ff2_np,loss_ff2_p],'phase':['ff1','ff2','ff2_p']}\n",
    "    results = pd.concat([results,pd.DataFrame(d)],ignore_index=True)"
   ]
  },
  {
   "cell_type": "code",
   "execution_count": 6,
   "metadata": {},
   "outputs": [
    {
     "name": "stdout",
     "output_type": "stream",
     "text": [
      "T-statistic: 2.496984328025669\n",
      "P-value: 0.021879033014672134\n"
     ]
    },
    {
     "data": {
      "image/png": "[encoded data removed]",
      "text/plain": [
       "<Figure size 500x500 with 1 Axes>"
      ]
     },
     "metadata": {},
     "output_type": "display_data"
    }
   ],
   "source": [
    "fig,ax = plt.subplots(1,1,figsize=(5,5))\n",
    "\n",
    "ax = sb.barplot(x='phase',y='loss',data=results,hue='phase',width=0.5)\n",
    "\n",
    "#ax.set_ylim([33,38])\n",
    "#ax.set_ylim([0.03,0.035])\n",
    "ax.set_ylim([14,16])\n",
    "\n",
    "T = results.pivot_table(index='m',columns='phase',values='loss')\n",
    "t_statistic, p_value = stats.ttest_rel(T['ff2'],T['ff2_p'])\n",
    "print(\"T-statistic:\", t_statistic)\n",
    "print(\"P-value:\", p_value)"
   ]
  },
  {
   "cell_type": "code",
   "execution_count": 20,
   "metadata": {},
   "outputs": [],
   "source": [
    "t_statistic, p_value = stats.ttest_rel(T['ff2'],T['ff2_p'])"
   ]
  },
  {
   "cell_type": "code",
   "execution_count": 38,
   "metadata": {},
   "outputs": [
    {
     "name": "stdout",
     "output_type": "stream",
     "text": [
      "T-statistic: 0.927251732376347\n",
      "P-value: 0.3654257640171489\n"
     ]
    }
   ],
   "source": [
    "t_statistic, p_value = stats.ttest_rel(T['ff1'],T['ff2'])\n",
    "print(\"T-statistic:\", t_statistic)\n",
    "print(\"P-value:\", p_value)"
   ]
  },
  {
   "cell_type": "code",
   "execution_count": null,
   "metadata": {},
   "outputs": [],
   "source": []
  }
 ],
 "metadata": {
  "kernelspec": {
   "display_name": "dl",
   "language": "python",
   "name": "python3"
  },
  "language_info": {
   "codemirror_mode": {
    "name": "ipython",
    "version": 3
   },
   "file_extension": ".py",
   "mimetype": "text/x-python",
   "name": "python",
   "nbconvert_exporter": "python",
   "pygments_lexer": "ipython3",
   "version": "3.11.5"
  }
 },
 "nbformat": 4,
 "nbformat_minor": 2
}
