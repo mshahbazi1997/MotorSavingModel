{
 "cells": [
  {
   "cell_type": "code",
   "execution_count": 4,
   "metadata": {},
   "outputs": [],
   "source": [
    "import os\n",
    "import sys \n",
    "sys.path.append(os.path.abspath('..'))\n",
    "from get_utils import return_ignore, get_data\n",
    "import matplotlib.pyplot as plt\n",
    "import pandas as pd\n",
    "import seaborn as sb\n",
    "import numpy as np\n",
    "from tdr import build_tdr, project_onto_map, orth_wrt_map\n",
    "import torch as th\n",
    "import scipy.stats as stats\n",
    "import plot as plot\n",
    "from matplotlib.colors import ListedColormap\n",
    "\n",
    "\n",
    "\n",
    "\n",
    "#%matplotlib qt\n",
    "#%matplotlib widget\n",
    "%matplotlib inline"
   ]
  },
  {
   "cell_type": "code",
   "execution_count": 28,
   "metadata": {},
   "outputs": [],
   "source": [
    "loss_type = 'lateral' # I chose lateral deviation as the loss function\n",
    "\n",
    "\n",
    "phases = {'NF1':[0],'FF1':[8],'NF2':[0],'FF2':[8]}\n",
    "labels = ['NF1','FF1','NF2','FF2']\n",
    "palette_colors = {'FF1':(0,0.5,0),'FF2':(0.4,0.4,0.8),'NF1':(0,0,0),'NF2':(0,0,0)}\n",
    "\n",
    "\n",
    "\n",
    "fontsize_label = 8\n",
    "fontsize_tick = 8\n",
    "fontsize_legend = 8\n",
    "\n",
    "base_dir = os.path.join(os.path.expanduser('~'),'Documents','Data','MotorNet')\n",
    "save_fig = '/Users/mahdiyar/Dropbox (Personal)/MotorSavings/paper/figures_raw'\n",
    "if not os.path.exists(save_fig):\n",
    "    save_fig = os.getcwd()  # Set current directory as save_dir if save_dir doesn't exist"
   ]
  },
  {
   "cell_type": "code",
   "execution_count": 17,
   "metadata": {},
   "outputs": [],
   "source": [
    "n_model = 40 # number of simulated networks\n",
    "network_siz = 128\n",
    "folder_name = f'Sim_fixed_{network_siz}'\n",
    "\n",
    "palette_colors = {'FF1':(0,0.5,0),'FF2':(0.4,0.4,0.8),'NF1':(0,0,0),'NF2':(0,0,0)}\n"
   ]
  },
  {
   "cell_type": "code",
   "execution_count": 9,
   "metadata": {},
   "outputs": [
    {
     "name": "stdout",
     "output_type": "stream",
     "text": [
      "Network size: 32\n",
      "Network size: 64\n",
      "Network size: 128\n",
      "Network size: 256\n"
     ]
    }
   ],
   "source": [
    "N_idx = 16 # 16 # time point just before the reach onset\n",
    "F_idx = 25 # 25 # time point just after the reach onset\n",
    "\n",
    "T = pd.DataFrame()\n",
    "\n",
    "for s in [32,64,128,256]:\n",
    "    print(f'Network size: {s}')\n",
    "    network_siz = s\n",
    "    folder_name = f'Sim_fixed_{network_siz}'\n",
    "    ignore = return_ignore(folder_name,n_model) # sometimes some of cpus fail so we want to ignore those models\n",
    "\n",
    "\n",
    "    for mn in range(n_model):\n",
    "        model_name = \"model{:02d}\".format(mn)\n",
    "        if mn in ignore:\n",
    "            continue\n",
    "        \n",
    "        # 1. Load data\n",
    "        U = get_data(folder_name,model_name,phases,n_hidden=network_siz)\n",
    "\n",
    "        data = []\n",
    "        force = []\n",
    "        for i in range(len(U)):\n",
    "            data.append(np.array(U[i]['all_hidden'])[:,N_idx,:])\n",
    "            force.append(np.array(U[i]['endpoint_force'])[:,F_idx,:])\n",
    "\n",
    "        # 1 build TDR\n",
    "        combined_N = np.vstack(data)\n",
    "        mean_N = np.mean(combined_N, axis=0)\n",
    "\n",
    "        X = force[0] # NF1 force \n",
    "        N = data[0]-mean_N # NF1 hidden activity\n",
    "\n",
    "        tdr = build_tdr(X,N)\n",
    "\n",
    "        # 2 uniform shift from NF1 to FF1\n",
    "        us = np.mean(data[1]-data[0],axis=0).reshape(-1,1)\n",
    "        us_orth_norm = orth_wrt_map(us,tdr)\n",
    "\n",
    "\n",
    "        # 2.1 Baseline FF1\n",
    "        _, loss_np = get_data(folder_name,model_name,{'NF1':[0]},[8],n_hidden=network_siz,return_loss=True) \n",
    "        loss_ff1 = loss_np[0][loss_type].mean()\n",
    "\n",
    "        # 3. perturb hidden\n",
    "        for mag in np.linspace(-1.5,1.5,7): # positive and negative perturbation\n",
    "            d_hidden = th.from_numpy(mag*us_orth_norm.T)\n",
    "\n",
    "            # now lets perturb or not and calculate the saving in behavior\n",
    "            _, loss_p = get_data(folder_name,model_name,{'NF2':[0]},[8],n_hidden=network_siz,disturb_hidden=True,t_disturb_hidden=N_idx/100,d_hidden=d_hidden,return_loss=True)\n",
    "\n",
    "            loss_ff2 = loss_p[0][loss_type].mean()\n",
    "\n",
    "            d = {'size':[network_siz]*2,'N':[N_idx]*2,'m':[mn]*2,'loss':[loss_ff1,loss_ff2],'phase':['FF1','FF2'],'mag':[0,mag]}\n",
    "            T = pd.concat([T,pd.DataFrame(d)],ignore_index=True)\n",
    "\n",
    "\n",
    "\n",
    "T.to_csv(base_dir+'/perturb.csv',index=False)"
   ]
  },
  {
   "cell_type": "markdown",
   "metadata": {},
   "source": [
    "# plot"
   ]
  },
  {
   "cell_type": "code",
   "execution_count": 34,
   "metadata": {},
   "outputs": [
    {
     "data": {
      "image/png": "[encoded data removed]",
      "text/plain": [
       "<Figure size 300x200 with 1 Axes>"
      ]
     },
     "metadata": {},
     "output_type": "display_data"
    }
   ],
   "source": [
    "T = pd.read_csv(base_dir+'/perturb.csv')\n",
    "\n",
    "\n",
    "filter_condition = (\n",
    "    (T['mag'].isin([-1,-0.5,0,0.5,1])) &\n",
    "    (T['size'] == 128)\n",
    ")\n",
    "T = T[filter_condition].reset_index(drop=True)\n",
    "\n",
    "fig, ax = plt.subplots(1, 1, figsize=(3, 2))\n",
    "sb.pointplot(x='mag', y='loss', data=T, ax=ax,hue='phase',palette=palette_colors) #,errorbar=None\n",
    "\n",
    "\n",
    "ax.spines['top'].set_visible(False)\n",
    "ax.spines['right'].set_visible(False)\n",
    "ax.xaxis.set_tick_params(labelsize=fontsize_tick)\n",
    "ax.yaxis.set_tick_params(labelsize=fontsize_tick)\n",
    "ax.tick_params(bottom = False) \n",
    "ax.set_xlabel('Perturbation magnitude', fontsize = fontsize_label)\n",
    "ax.set_ylabel('Initial lateral deviation', fontsize = fontsize_label)\n",
    "\n",
    "ax.legend(fontsize=fontsize_legend,loc='upper right',frameon = False)\n",
    "fig.savefig(os.path.join(save_fig,'perturbation.pdf'),dpi=300,bbox_inches='tight')\n"
   ]
  }
 ],
 "metadata": {
  "kernelspec": {
   "display_name": "dl",
   "language": "python",
   "name": "python3"
  },
  "language_info": {
   "codemirror_mode": {
    "name": "ipython",
    "version": 3
   },
   "file_extension": ".py",
   "mimetype": "text/x-python",
   "name": "python",
   "nbconvert_exporter": "python",
   "pygments_lexer": "ipython3",
   "version": "3.11.5"
  }
 },
 "nbformat": 4,
 "nbformat_minor": 2
}
