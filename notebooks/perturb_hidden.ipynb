{
 "cells": [
  {
   "cell_type": "code",
   "execution_count": 1,
   "metadata": {},
   "outputs": [],
   "source": [
    "import os\n",
    "import sys \n",
    "sys.path.append(os.path.abspath('..'))\n",
    "from get_utils import return_ignore, get_data\n",
    "import matplotlib.pyplot as plt\n",
    "import pandas as pd\n",
    "import seaborn as sb\n",
    "import numpy as np\n",
    "from tdr import build_tdr, orth_wrt_map\n",
    "import torch as th\n",
    "import plot as plot\n",
    "\n",
    "#%matplotlib qt\n",
    "#%matplotlib widget\n",
    "%matplotlib inline"
   ]
  },
  {
   "cell_type": "code",
   "execution_count": 2,
   "metadata": {},
   "outputs": [],
   "source": [
    "base_dir = os.path.join(os.path.expanduser('~'),'Documents','Data','MotorNet')\n",
    "save_fig = os.path.join(os.path.expanduser('~'),'Dropbox (Personal)','MotorSavings','paper','figures_raw')"
   ]
  },
  {
   "cell_type": "code",
   "execution_count": 3,
   "metadata": {},
   "outputs": [],
   "source": [
    "loss_type = 'lateral'\n",
    "n_model = 40 # number of simulated networks"
   ]
  },
  {
   "cell_type": "code",
   "execution_count": null,
   "metadata": {},
   "outputs": [],
   "source": [
    "N_idx = 16\n",
    "F_idx = 59\n",
    "\n",
    "T = pd.DataFrame()\n",
    "\n",
    "for s in [128]:\n",
    "    print(f'Network size: {s}')\n",
    "    network_siz = s\n",
    "    folder_name = f'Sim_fixed_{network_siz}'\n",
    "    ignore = return_ignore(folder_name,n_model) # sometimes some of cpus fail so we want to ignore those models\n",
    "\n",
    "\n",
    "    for mn in range(n_model):\n",
    "        model_name = \"model{:02d}\".format(mn)\n",
    "        if mn in ignore:\n",
    "            continue\n",
    "\n",
    "        # 1. Load data\n",
    "        U = get_data(folder_name,model_name,n_hidden=network_siz)\n",
    "\n",
    "        for N_idx in [16]:\n",
    "            data = []\n",
    "            force = []\n",
    "            for i in range(len(U)):\n",
    "                data.append(np.array(U[i]['all_hidden'])[:,int(N_idx),:])\n",
    "                force.append(np.array(U[i]['endpoint_force'])[:,F_idx,:])\n",
    "\n",
    "            # 1 build TDR\n",
    "            combined_N = np.vstack(data)\n",
    "            mean_N = np.mean(combined_N, axis=0)\n",
    "\n",
    "            X = force[0] # NF1 force \n",
    "            N = data[0]-mean_N # NF1 hidden activity\n",
    "\n",
    "            tdr = build_tdr(X,N)\n",
    "\n",
    "            # 2 uniform shift from NF1 to FF1\n",
    "            us = np.mean(data[1]-data[0],axis=0).reshape(-1,1)\n",
    "            us_orth, us_orth_norm = orth_wrt_map(us,tdr)\n",
    "            \n",
    "\n",
    "            # 2.1 Baseline FF1\n",
    "            _, loss_np = get_data(folder_name,model_name,{'NF1':[0]},[8],n_hidden=network_siz,return_loss=True) \n",
    "            loss_ff1 = loss_np[0][loss_type].mean()\n",
    "\n",
    "            # 3. perturb hidden\n",
    "            for mag in np.linspace(-2,2,5): # positive and negative perturbation\n",
    "                d_hidden = th.from_numpy(mag*us_orth.T)\n",
    "\n",
    "                # now lets perturb or not and calculate the saving in behavior\n",
    "                _, loss_p = get_data(folder_name,model_name,{'NF2':[0]},[8],n_hidden=network_siz,disturb_hidden=True,t_disturb_hidden=N_idx/100,d_hidden=d_hidden,return_loss=True)\n",
    "\n",
    "                loss_ff2 = loss_p[0][loss_type].mean()\n",
    "\n",
    "                d = {'size':[network_siz]*2,'N':[N_idx]*2,'m':[mn]*2,'loss':[loss_ff1,loss_ff2],'phase':['FF1','FF2'],'mag':[0,mag]}\n",
    "                T = pd.concat([T,pd.DataFrame(d)],ignore_index=True)\n",
    "\n",
    "T.to_csv(base_dir+'/perturb.csv',index=False)"
   ]
  },
  {
   "cell_type": "markdown",
   "metadata": {},
   "source": [
    "# plot"
   ]
  },
  {
   "cell_type": "code",
   "execution_count": 5,
   "metadata": {},
   "outputs": [
    {
     "data": {
      "text/plain": [
       "(32.0, 36.0)"
      ]
     },
     "execution_count": 5,
     "metadata": {},
     "output_type": "execute_result"
    },
    {
     "data": {
      "image/png": "[encoded data removed]",
      "text/plain": [
       "<Figure size 300x200 with 1 Axes>"
      ]
     },
     "metadata": {},
     "output_type": "display_data"
    }
   ],
   "source": [
    "T = pd.read_csv(base_dir+'/perturb.csv')\n",
    "filter_condition = (\n",
    "    (T['size'] == 128) # (T['mag'].isin([-1,-0.5,0,0.5,1])) &\n",
    ")\n",
    "T = T[filter_condition].reset_index(drop=True)\n",
    "T.loss = T.loss*1000\n",
    "\n",
    "\n",
    "# Plotting\n",
    "ax = plot.my_pointplot(T,x='mag',y='loss',hue='phase',figsize=(3, 2),linewidth=3,xlabel='Perturbation magnitude',ylabel='Lateral dev. @ batch 0 [mm]')\n",
    "ax.set_ylim([32, 36])\n",
    "# fig.savefig(os.path.join(save_fig,'perturbation.pdf'),dpi=300,bbox_inches='tight')"
   ]
  },
  {
   "cell_type": "code",
   "execution_count": null,
   "metadata": {},
   "outputs": [],
   "source": [
    "# T = pd.read_csv(base_dir+'/perturb3.csv')\n",
    "\n",
    "# filter_condition = (\n",
    "#     (T['phase'] == 'FF2'))\n",
    "# T = T[filter_condition].reset_index(drop=True)\n",
    "# T\n",
    "# sb.pointplot(x='N', y='loss', data=T,hue='mag') #,errorbar=None"
   ]
  }
 ],
 "metadata": {
  "kernelspec": {
   "display_name": "dl",
   "language": "python",
   "name": "python3"
  },
  "language_info": {
   "codemirror_mode": {
    "name": "ipython",
    "version": 3
   },
   "file_extension": ".py",
   "mimetype": "text/x-python",
   "name": "python",
   "nbconvert_exporter": "python",
   "pygments_lexer": "ipython3",
   "version": "3.11.5"
  }
 },
 "nbformat": 4,
 "nbformat_minor": 2
}
