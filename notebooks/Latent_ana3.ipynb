{
 "cells": [
  {
   "cell_type": "code",
   "execution_count": 1,
   "metadata": {},
   "outputs": [],
   "source": [
    "import os\n",
    "import sys \n",
    "sys.path.append(os.path.abspath('..'))\n",
    "sys.path.append(os.path.abspath('../../latent_analysis/'))\n",
    "sys.path.append(os.path.abspath('../../dPCA/python/'))\n",
    "import LTransform as LT\n",
    "from get_utils import get_hidden, get_dir\n",
    "from pathlib import Path\n",
    "import numpy as np\n",
    "import torch as th\n",
    "import plot as plot\n",
    "import matplotlib.pyplot as plt\n",
    "import pandas as pd\n",
    "import PcmPy as pcm\n",
    "from scipy.spatial.distance import pdist, squareform\n",
    "import seaborn as sb\n",
    "import scipy.stats as stats"
   ]
  },
  {
   "cell_type": "code",
   "execution_count": 6,
   "metadata": {},
   "outputs": [],
   "source": [
    "# Load hidden\n",
    "folder_name = 'Sim_all_inv'\n",
    "n_latent = 2\n",
    "n_muscle = 6\n",
    "phase = {'NF1':[0],'FF1':[8],'NF2':[0],'FF2':[8,-8]}\n",
    "ff_coef = [0,8,0,8,-8]\n",
    "\n",
    "results = pd.DataFrame()\n",
    "rdms = []\n",
    "tp = np.arange(15)\n",
    "\n",
    "\n",
    "for mn in range(0,20):\n",
    "    model_name = \"model{:02d}\".format(mn)\n",
    "\n",
    "    weight_file,_,_= get_dir(folder_name,model_name,'NF1',0)\n",
    "    W = th.load(weight_file)['fc.weight'].numpy()\n",
    "    U, S, Vh = np.linalg.svd(W, full_matrices=True)\n",
    "    V = Vh.T\n",
    "    P = V[:,:n_muscle] # output potent\n",
    "    N = V[:,n_muscle:] # output null\n",
    "\n",
    "    data = get_hidden(folder_name,model_name,phase,ff_coef,demean=False)\n",
    "\n",
    "    # Apply PCA\n",
    "    Data_prep =  {'x_ld':[],'x':[]}\n",
    "    for i in range(len(data)):\n",
    "        X = data[i]\n",
    "\n",
    "        \n",
    "        #if i==0:\n",
    "        mean_dat = np.mean(X,axis=0,keepdims=True)\n",
    "        X = X-mean_dat\n",
    "        #norm_dat = np.linalg.norm(X,axis=0,keepdims=True)\n",
    "        norm_dat = np.linalg.norm(X.reshape(8*100,-1),axis=0,keepdims=True)[:,None,:]\n",
    "        X = X/norm_dat\n",
    "\n",
    "\n",
    "        #X = X@P\n",
    "        #X = X@N\n",
    "\n",
    "        if i==0:\n",
    "            T = LT.Transform(num_latent=n_latent)\n",
    "            T.fit(X,method='PCA')        \n",
    "            \n",
    "        x_ld = T.transform(X,ensure_orthogonality=True)\n",
    "\n",
    "        Data_prep['x_ld'].append(x_ld)\n",
    "        Data_prep['x'].append(X)\n",
    "\n",
    "    rdm = []\n",
    "\n",
    "    for k,s in enumerate(['x']): # ,'x_ld'\n",
    "        D = np.stack(Data_prep[s])\n",
    "        #dist = np.zeros((10,100))\n",
    "        #for i in range(100):\n",
    "        activity = D[:,:,tp,:]\n",
    "        dims = activity.shape\n",
    "        activity = activity.reshape(dims[0],-1)\n",
    "        #dist[:,i] = pdist(activity)\n",
    "        #rdm.append(dist)\n",
    "        rdm.append(pdist(activity))\n",
    "    rdms.append(rdm[0])"
   ]
  },
  {
   "cell_type": "markdown",
   "metadata": {},
   "source": [
    "# plot MDS"
   ]
  },
  {
   "cell_type": "code",
   "execution_count": 8,
   "metadata": {},
   "outputs": [
    {
     "data": {
      "text/plain": [
       "(20, 10)"
      ]
     },
     "execution_count": 8,
     "metadata": {},
     "output_type": "execute_result"
    }
   ],
   "source": [
    "np.stack(rdms,axis=0).shape"
   ]
  },
  {
   "cell_type": "code",
   "execution_count": 10,
   "metadata": {},
   "outputs": [
    {
     "name": "stdout",
     "output_type": "stream",
     "text": [
      "T-statistic: 2.2245651247383535\n",
      "P-value: 0.0384259005157164\n"
     ]
    },
    {
     "data": {
      "image/png": "[encoded data removed]",
      "text/plain": [
       "<Figure size 1000x500 with 2 Axes>"
      ]
     },
     "metadata": {},
     "output_type": "display_data"
    }
   ],
   "source": [
    "tp = np.arange(15)\n",
    "labels = ['NF1','FF1','NF2','FF2','FF2-']\n",
    "\n",
    "# if tp is int:\n",
    "#     rdm_avg = np.mean(np.stack(rdms,axis=0)[:,:,tp],axis=0)\n",
    "# else:\n",
    "#     rdm_avg = np.mean(np.mean(np.stack(rdms,axis=0)[:,:,tp],axis=0),axis=1)\n",
    "rdm_avg = np.mean(np.stack(rdms,axis=0),axis=0)\n",
    "rdm_m = squareform(rdm_avg)\n",
    "\n",
    "n_cond = rdm_m.shape[0]\n",
    "\n",
    "H = np.eye(n_cond) - np.ones((n_cond,n_cond))/n_cond\n",
    "G = -0.5*H@rdm_m@H\n",
    "\n",
    "# np.sum(pcm.G_to_dist(G)-rdm_m) # sanity check\n",
    "W,Glam = pcm.classical_mds(G)\n",
    "\n",
    "fig,ax = plt.subplots(1,2,figsize=(10,5))\n",
    "\n",
    "ax[0].scatter(W[:,0],W[:,1])\n",
    "for i, label in enumerate(labels):\n",
    "    ax[0].annotate(label,(W[i,0],W[i,1]))\n",
    "ax[0].set_aspect('equal')\n",
    "\n",
    "\n",
    "T = pd.DataFrame()\n",
    "\n",
    "label = ['(NF1,FF1)','(NF1,NF2)','(NF1,FF2)','(NF1,FF2-)','(FF1,NF2)','(FF1,FF2)','(FF1,FF2-)','(NF2,FF2)','(NF2,FF2-)','(FF2,FF2-)']\n",
    "select = [0,7,8]\n",
    "\n",
    "for i in range(len(rdms)):\n",
    "    for j in select:\n",
    "        # if tp is int:\n",
    "        #     d = {'m':[i],'ln':[label[j]],'d':[rdms[i][j,tp]]}\n",
    "        # else:\n",
    "        #     avg_dist = np.mean(rdms[i][j,tp])\n",
    "        #     d = {'m':[i],'ln':[label[j]],'d':[avg_dist]}\n",
    "        d = {'m':[i],'ln':[label[j]],'d':[rdms[i][j]]}\n",
    "        T = pd.concat([T,pd.DataFrame(d)],ignore_index=True)\n",
    "ax[1] = sb.barplot(x='ln',y='d',data=T,hue='ln',width=0.5) # ,order=ho,palette=color ,hue_order=ho\n",
    "\n",
    "sample1 = T.d[T.ln == '(NF1,FF1)'].to_numpy()\n",
    "sample2 = T.d[T.ln == '(NF2,FF2)'].to_numpy()\n",
    "sample3 = T.d[T.ln == '(NF2,FF2-)'].to_numpy()\n",
    "\n",
    "# Perform paired t-test\n",
    "t_statistic, p_value = stats.ttest_rel(sample3, sample2)\n",
    "\n",
    "print(\"T-statistic:\", t_statistic)\n",
    "print(\"P-value:\", p_value)"
   ]
  },
  {
   "cell_type": "code",
   "execution_count": 25,
   "metadata": {},
   "outputs": [
    {
     "name": "stdout",
     "output_type": "stream",
     "text": [
      "T-statistic: 2.8392314529841682\n",
      "P-value: 0.01048635043103869\n"
     ]
    }
   ],
   "source": []
  },
  {
   "cell_type": "code",
   "execution_count": null,
   "metadata": {},
   "outputs": [],
   "source": []
  }
 ],
 "metadata": {
  "kernelspec": {
   "display_name": "dl",
   "language": "python",
   "name": "python3"
  },
  "language_info": {
   "codemirror_mode": {
    "name": "ipython",
    "version": 3
   },
   "file_extension": ".py",
   "mimetype": "text/x-python",
   "name": "python",
   "nbconvert_exporter": "python",
   "pygments_lexer": "ipython3",
   "version": "3.11.5"
  }
 },
 "nbformat": 4,
 "nbformat_minor": 2
}
