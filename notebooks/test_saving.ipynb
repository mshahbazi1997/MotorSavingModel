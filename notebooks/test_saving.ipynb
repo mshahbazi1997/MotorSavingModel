{
 "cells": [
  {
   "cell_type": "code",
   "execution_count": 1,
   "metadata": {},
   "outputs": [],
   "source": [
    "import os\n",
    "import sys \n",
    "sys.path.append(os.path.abspath('..'))\n",
    "from plot import plot_learning\n",
    "import matplotlib.pyplot as plt"
   ]
  },
  {
   "cell_type": "code",
   "execution_count": 2,
   "metadata": {},
   "outputs": [],
   "source": [
    "# 9, 10, 11, 16, 17, 18, 19, 20, 21, 23, 26\n",
    "folder_name = 'loss26'\n",
    "\n",
    "\n",
    "#ignore = [2] # for loss16\n",
    "#ignore = [8] # for loss21\n",
    "ignore = [2,8]"
   ]
  },
  {
   "cell_type": "code",
   "execution_count": 4,
   "metadata": {},
   "outputs": [],
   "source": [
    "%matplotlib qt\n",
    "\n",
    "fig, ax = plot_learning(folder_name,num_model=20,w=1,phases=['NF1','FF1','NF2','FF2'],loss_type='angle',figsize=(7,4),ignore=ignore,show_saving=True)\n",
    "plt.tight_layout()\n",
    "plt.show()\n",
    "#fig.savefig(os.path.join(data_dir,'learning_curve_pos.png'),dpi=300)"
   ]
  }
 ],
 "metadata": {
  "kernelspec": {
   "display_name": "dl",
   "language": "python",
   "name": "python3"
  },
  "language_info": {
   "codemirror_mode": {
    "name": "ipython",
    "version": 3
   },
   "file_extension": ".py",
   "mimetype": "text/x-python",
   "name": "python",
   "nbconvert_exporter": "python",
   "pygments_lexer": "ipython3",
   "version": "3.11.5"
  },
  "orig_nbformat": 4
 },
 "nbformat": 4,
 "nbformat_minor": 2
}
