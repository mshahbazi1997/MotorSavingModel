{
 "cells": [
  {
   "cell_type": "code",
   "execution_count": 1,
   "metadata": {},
   "outputs": [],
   "source": [
    "import os\n",
    "import sys \n",
    "sys.path.append(os.path.abspath('..'))\n",
    "from utils import create_directory\n",
    "from plot import plot_learning\n",
    "import matplotlib.pyplot as plt\n",
    "#import matplotlib\n",
    "#matplotlib.get_cachedir()\n",
    "#import PyQt5.QtCore\n",
    "#print(PyQt5.QtCore.PYQT_VERSION_STR)"
   ]
  },
  {
   "cell_type": "code",
   "execution_count": 12,
   "metadata": {},
   "outputs": [],
   "source": [
    "data_dir = create_directory(directory_name='loss18')\n",
    "\n",
    "#ignore = [2,3,7,13] # loss0_if\n",
    "#ignore = [0,11,13] # pert\n",
    "ignore = []"
   ]
  },
  {
   "cell_type": "code",
   "execution_count": 13,
   "metadata": {},
   "outputs": [],
   "source": [
    "%matplotlib qt\n",
    "\n",
    "fig, ax = plot_learning(data_dir,num_model=20,w=1,phases=['NF1','FF1','NF2','FF2'],loss_type='position',figsize=(7,4),ignore=ignore,show_saving=True)\n",
    "plt.tight_layout()\n",
    "plt.show()\n",
    "#fig.savefig(os.path.join(data_dir,'learning_curve_pos.png'),dpi=300)"
   ]
  },
  {
   "cell_type": "code",
   "execution_count": 6,
   "metadata": {},
   "outputs": [],
   "source": [
    "#%matplotlib widget\n",
    "#%matplotlib inline\n",
    "%matplotlib qt\n",
    "fig, ax = plot_learning(data_dir,num_model=16,w=1,loss_type='angle',figsize=(7,4),ignore=ignore)\n",
    "plt.tight_layout()\n",
    "plt.show()\n",
    "#fig.savefig(os.path.join(data_dir,'learning_curve_ang.png'),dpi=300)"
   ]
  },
  {
   "cell_type": "code",
   "execution_count": 6,
   "metadata": {},
   "outputs": [],
   "source": [
    "#%matplotlib inline\n",
    "%matplotlib qt\n",
    "fig, ax = plot_learning(data_dir,num_model=16,w=1,loss_type='lateral',figsize=(7,4),ignore=ignore)\n",
    "plt.tight_layout()\n",
    "plt.show()\n",
    "#fig.savefig(os.path.join(data_dir,'learning_curve_lat.png'),dpi=300)"
   ]
  }
 ],
 "metadata": {
  "kernelspec": {
   "display_name": "dl",
   "language": "python",
   "name": "python3"
  },
  "language_info": {
   "codemirror_mode": {
    "name": "ipython",
    "version": 3
   },
   "file_extension": ".py",
   "mimetype": "text/x-python",
   "name": "python",
   "nbconvert_exporter": "python",
   "pygments_lexer": "ipython3",
   "version": "3.11.5"
  },
  "orig_nbformat": 4
 },
 "nbformat": 4,
 "nbformat_minor": 2
}
