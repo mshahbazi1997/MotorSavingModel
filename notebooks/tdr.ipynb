{
 "cells": [
  {
   "cell_type": "code",
   "execution_count": 2,
   "metadata": {},
   "outputs": [],
   "source": [
    "import numpy as np\n"
   ]
  },
  {
   "cell_type": "code",
   "execution_count": 3,
   "metadata": {},
   "outputs": [],
   "source": [
    "def gsog(X):\n",
    "    \"\"\"\n",
    "    Gram-Schmidt orthogonalization\n",
    "\n",
    "    Parameters:\n",
    "    - X (ndarray): Input matrix of size (d, n)\n",
    "\n",
    "    Returns:\n",
    "    - Q (ndarray): Orthogonalized matrix of size (d, m)\n",
    "    - R (ndarray): Upper triangular matrix of size (m, n)\n",
    "    \"\"\"\n",
    "\n",
    "    d, n = X.shape\n",
    "    m = min(d, n)\n",
    "\n",
    "    R = np.eye(m, n)\n",
    "    Q = np.zeros((d, m))\n",
    "    D = np.zeros(m)\n",
    "\n",
    "    for i in range(m):\n",
    "        R[0:i, i] = np.dot(np.multiply(Q[:, 0:i], 1 / D[0:i]).T, X[:, i])\n",
    "        Q[:, i] = X[:, i] - np.dot(Q[:, 0:i], R[0:i, i])\n",
    "        D[i] = np.dot(Q[:, i], Q[:, i])\n",
    "\n",
    "    R[:, m:n] = np.dot(np.multiply(Q, 1 / D).T, X[:, m:n])\n",
    "\n",
    "    return Q, R"
   ]
  },
  {
   "cell_type": "code",
   "execution_count": 85,
   "metadata": {},
   "outputs": [],
   "source": [
    "def build_TDR_subspace(before_learning_X, before_learning_N, after_learning_X=None , after_learning_N=None, TDR_options=1):\n",
    "    \"\"\"\n",
    "    Perform TDR analyses as in Sun, O'Shea et al, 2021.\n",
    "\n",
    "    Parameters:\n",
    "    - before_learning_X (ndarray): Behavioral variables before learning (C by M matrix)\n",
    "    - after_learning_X (ndarray): Behavioral variables after learning (C by M matrix)\n",
    "    - before_learning_N (ndarray): Condition-averaged, centered neural activity before learning (C by N matrix)\n",
    "    - after_learning_N (ndarray): Condition-averaged, centered neural activity after learning (C by N matrix)\n",
    "    - TDR_options (int): Indicator of whether to use before-learning data (1), after-learning data (2), or both (3)\n",
    "\n",
    "    Returns:\n",
    "    - betaNeural2Behav (ndarray): Matrix of un-orthogonalized coefficients projecting neural activity to TDR axes\n",
    "    - betaNeural2BehavOrth (ndarray): Matrix of orthogonalized coefficients projecting neural activity to TDR axes\n",
    "    - projectedStates (ndarray): Matrix of neural state coordinates on orthogonalized TDR axes\n",
    "    \"\"\"\n",
    "\n",
    "    # Now build the TDR subspace\n",
    "    if TDR_options == 1:\n",
    "        X = before_learning_X\n",
    "        N = before_learning_N\n",
    "    elif TDR_options == 2:\n",
    "        X = after_learning_X\n",
    "        N = after_learning_N\n",
    "    elif TDR_options == 3:\n",
    "        X = np.vstack((before_learning_X, after_learning_X))\n",
    "        N = np.vstack((before_learning_N, after_learning_N))\n",
    "    else:\n",
    "        raise ValueError(\"Invalid value for TDR_options. Choose 1, 2, or 3.\")\n",
    "\n",
    "    # Get ready the design matrix (behavioral variables + intercept).\n",
    "    behav = np.hstack((X, np.ones((X.shape[0], 1))))\n",
    "\n",
    "    # Regress neural data against the design matrix and compute the regression coefficients.\n",
    "    betaBehav2Neural = np.linalg.lstsq(behav, N, rcond=None)[0]\n",
    "\n",
    "    # Compute the TDR axes.\n",
    "    betaNeural2Behav = np.linalg.pinv(betaBehav2Neural)\n",
    "    betaNeural2Behav = betaNeural2Behav[:, :X.shape[1]]\n",
    "\n",
    "    # Orthogonalize the TDR axes before projection.\n",
    "    betaNeural2BehavOrth = gsog(betaNeural2Behav)\n",
    "\n",
    "    # Project before-learning and after-learning neural activity onto the TDR axes\n",
    "    projectedStates = np.vstack((before_learning_N, after_learning_N)) @ betaNeural2BehavOrth[0]\n",
    "\n",
    "    return betaNeural2Behav, betaNeural2BehavOrth, projectedStates\n"
   ]
  },
  {
   "cell_type": "code",
   "execution_count": 6,
   "metadata": {},
   "outputs": [],
   "source": [
    "a = np.random.randn(9, 6)\n",
    "Q, R = gsog(a)\n",
    "# replace and see\n",
    "#Q1, R1 = np.linalg.qr(a)"
   ]
  },
  {
   "cell_type": "code",
   "execution_count": 92,
   "metadata": {},
   "outputs": [],
   "source": [
    "# get data\n",
    "import os\n",
    "import sys \n",
    "sys.path.append(os.path.abspath('..'))\n",
    "\n",
    "from utils import create_directory\n",
    "from model import test\n",
    "from pathlib import Path\n",
    "\n",
    "\n",
    "data_dir = create_directory(directory_name='pert') # loss0_if"
   ]
  },
  {
   "cell_type": "code",
   "execution_count": 107,
   "metadata": {},
   "outputs": [],
   "source": [
    "model_num = 15\n",
    "# pert - input fix [0,11,13]\n",
    "# loss0_if - [2,3,7,13] \n",
    "model_name = \"model{:02d}\".format(model_num)\n",
    "data = []\n",
    "phases = ['NF1','FF1']\n",
    "ff = [0,8]\n",
    "\n",
    "for i,p in enumerate(phases):\n",
    "    weight_file = list(Path(data_dir).glob(f'{model_name}_phase={p}_*_weights'))[0]\n",
    "    cfg_file = list(Path(data_dir).glob(f'{model_name}_phase={p}_*_cfg.json'))[0]\n",
    "    data.append(test(cfg_file,weight_file,ff_coefficient=ff[i]))"
   ]
  },
  {
   "cell_type": "code",
   "execution_count": 108,
   "metadata": {},
   "outputs": [],
   "source": [
    "from sklearn.decomposition import PCA\n",
    "\n",
    "\n",
    "# get_data\n",
    "Data_prep =  {'X':[],'X_ldim':[],'Y':[]}\n",
    "\n",
    "\n",
    "for i in range(len(phases)):\n",
    "    \n",
    "    # behavior\n",
    "    vel = np.array(data[i]['vel'])\n",
    "    vel_norm = np.linalg.norm(vel,axis=-1)\n",
    "    max_vel_idx = np.argmax(vel_norm,axis=1)\n",
    "\n",
    "    muscle_force = np.array(data[i]['all_force'])\n",
    "    n_cond = muscle_force.shape[0]\n",
    "\n",
    "    muscle_force_at_peak_vel = muscle_force[np.arange(n_cond), max_vel_idx, :]\n",
    "    Data_prep['X'].append(muscle_force_at_peak_vel)\n",
    "\n",
    "    # low d behavior\n",
    "    # TODO: need to for the pca over all phases...\n",
    "    pca = PCA(n_components=6)\n",
    "    X_pca = pca.fit_transform(muscle_force_at_peak_vel)\n",
    "    X_pca = X_pca[:, :2]\n",
    "    Data_prep['X_ldim'].append(X_pca)\n",
    "    \n",
    "    # neural\n",
    "    go_cue_idx = 10\n",
    "    fr = np.array(data[i]['all_hidden'])\n",
    "    fr_at_go_cue = fr[:, go_cue_idx, :]\n",
    "    Data_prep['Y'].append(fr_at_go_cue)"
   ]
  },
  {
   "cell_type": "code",
   "execution_count": 109,
   "metadata": {},
   "outputs": [],
   "source": [
    "# run basic tdr\n",
    "betaNeural2Behav, betaNeural2BehavOrth, projectedStates = build_TDR_subspace(Data_prep['X_ldim'][0],Data_prep['Y'][0],after_learning_N=Data_prep['Y'][1],TDR_options=1)"
   ]
  },
  {
   "cell_type": "code",
   "execution_count": 110,
   "metadata": {},
   "outputs": [
    {
     "data": {
      "image/png": "[encoded data removed]",
      "text/plain": [
       "<Figure size 640x480 with 1 Axes>"
      ]
     },
     "metadata": {},
     "output_type": "display_data"
    }
   ],
   "source": [
    "import matplotlib.pyplot as plt\n",
    "import numpy as np\n",
    "\n",
    "# Assuming projectedStates is your (8,2) matrix\n",
    "n_cond = int(projectedStates.shape[0] / 2)\n",
    "\n",
    "\n",
    "angle_set = np.deg2rad(np.arange(0, 360, 45))  # 8 directions\n",
    "color_list = [plt.cm.brg(cond / (2 * np.pi)) for cond in angle_set]\n",
    "\n",
    "# Create a scatter plot\n",
    "plt.figure()\n",
    "for i in range(n_cond):\n",
    "    plt.plot(projectedStates[i, 0], projectedStates[i, 1], '.', markersize=30, color=color_list[i])\n",
    "    plt.plot(projectedStates[i + n_cond, 0], projectedStates[i + n_cond, 1], 'd', markersize=10, markerfacecolor=color_list[i])\n",
    "\n",
    "plt.xlabel('TDR Axis 1')\n",
    "plt.ylabel('TDR Axis 2')\n",
    "plt.title('Neural States in TDR Subspace')\n",
    "\n",
    "plt.show()\n"
   ]
  }
 ],
 "metadata": {
  "kernelspec": {
   "display_name": "dl",
   "language": "python",
   "name": "python3"
  },
  "language_info": {
   "codemirror_mode": {
    "name": "ipython",
    "version": 3
   },
   "file_extension": ".py",
   "mimetype": "text/x-python",
   "name": "python",
   "nbconvert_exporter": "python",
   "pygments_lexer": "ipython3",
   "version": "3.11.5"
  }
 },
 "nbformat": 4,
 "nbformat_minor": 2
}
