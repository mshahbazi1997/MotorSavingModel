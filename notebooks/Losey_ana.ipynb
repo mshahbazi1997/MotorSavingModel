{
 "cells": [
  {
   "cell_type": "code",
   "execution_count": 1,
   "metadata": {},
   "outputs": [],
   "source": [
    "import os\n",
    "import sys \n",
    "sys.path.append(os.path.abspath('..'))\n",
    "sys.path.append(os.path.abspath('../../latent_analysis/'))\n",
    "sys.path.append(os.path.abspath('../../dPCA/python/'))\n",
    "import LTransform as LT\n",
    "from dPCA import dPCA\n",
    "from get_utils import get_hidden, get_dir\n",
    "from pathlib import Path\n",
    "from model import test\n",
    "import numpy as np\n",
    "import torch as th\n",
    "import plot as plot\n",
    "import matplotlib.pyplot as plt"
   ]
  },
  {
   "cell_type": "code",
   "execution_count": 48,
   "metadata": {},
   "outputs": [
    {
     "name": "stdout",
     "output_type": "stream",
     "text": [
      "(6, 128)\n"
     ]
    }
   ],
   "source": [
    "# Load hidden\n",
    "folder_name = 'loss9'\n",
    "model_num = 0\n",
    "model_name = \"model{:02d}\".format(model_num)\n",
    "\n",
    "ff_coef = [8,8,8,8]\n",
    "phase = ['NF1','FF1','NF2','FF2']\n",
    "\n",
    "data = get_hidden(folder_name,model_name,phase,ff_coef,demean=True)\n",
    "\n",
    "\n",
    "# Apply SVD\n",
    "n_muscle = 6\n",
    "n_latent = 6\n",
    "\n",
    "weight_file,_,_= get_dir(folder_name,model_name,phase[0])\n",
    "W = th.load(weight_file)['fc.weight'].numpy()\n",
    "print(W.shape)\n",
    "U, S, Vh = np.linalg.svd(W, full_matrices=True)\n",
    "V = Vh.T\n",
    "P = V[:,:n_muscle] # output potent\n",
    "N = V[:,n_muscle:] # output null\n",
    "\n",
    "\n",
    "# Apply PCA\n",
    "Data_prep =  {'x_pot_ld':[],'x_null_ld':[]}\n",
    "for i in range(4):\n",
    "    X = data[i]\n",
    "    dims = X.shape\n",
    "\n",
    "    X_pot = X@P\n",
    "    X_null = X@N\n",
    "\n",
    "    X_pot = np.reshape(X_pot,newshape=dims[:-1]+(n_muscle,))\n",
    "    X_null = np.reshape(X_null,newshape=dims[:-1]+(dims[-1]-n_muscle,))\n",
    "\n",
    "    if i==0:\n",
    "        T_p = LT.Transform(num_latent=n_latent)\n",
    "        T_p.fit(X_pot,method='PCA')\n",
    "\n",
    "        T_l = LT.Transform(num_latent=n_latent)\n",
    "        T_l.fit(X_null,method='PCA')\n",
    "\n",
    "    x_pot_ld = T_p.transform(X_pot,ensure_orthogonality=True)\n",
    "    x_null_ld = T_l.transform(X_null,ensure_orthogonality=True)\n",
    "\n",
    "    Data_prep['x_pot_ld'].append(x_pot_ld)\n",
    "    Data_prep['x_null_ld'].append(x_null_ld)"
   ]
  },
  {
   "cell_type": "code",
   "execution_count": 52,
   "metadata": {},
   "outputs": [],
   "source": [
    "#%matplotlib widget\n",
    "%matplotlib qt\n",
    "# ['x', 'o', '*', 's']\n",
    "latent = [0,1,2]\n",
    "dim=2\n",
    "which_times = np.arange(10)\n",
    "which_times =[20]\n",
    "plot_scatter=1\n",
    "\n",
    "if dim==2:\n",
    "    fig,ax = plt.subplots(1,2,figsize=(10,5))\n",
    "else:\n",
    "    fig,ax = plt.subplots(1,2,figsize=(10,5),subplot_kw={'projection':'3d'})\n",
    "\n",
    "plot.plot_traj(ax[0],Data_prep['x_null_ld'],which_times=which_times,plot_scatter=plot_scatter,dim=dim,which_latent=latent)\n",
    "ax[0].set_title('null')\n",
    "\n",
    "plot.plot_traj(ax[1],Data_prep['x_pot_ld'],which_times=which_times,plot_scatter=plot_scatter,dim=dim,which_latent=latent)\n",
    "ax[1].set_title('potent')\n",
    "\n",
    "plt.tight_layout()\n",
    "plt.show()"
   ]
  }
 ],
 "metadata": {
  "kernelspec": {
   "display_name": "dl",
   "language": "python",
   "name": "python3"
  },
  "language_info": {
   "codemirror_mode": {
    "name": "ipython",
    "version": 3
   },
   "file_extension": ".py",
   "mimetype": "text/x-python",
   "name": "python",
   "nbconvert_exporter": "python",
   "pygments_lexer": "ipython3",
   "version": "3.11.5"
  }
 },
 "nbformat": 4,
 "nbformat_minor": 2
}
