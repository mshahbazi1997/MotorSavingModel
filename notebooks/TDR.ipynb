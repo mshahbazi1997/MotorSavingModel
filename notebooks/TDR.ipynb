{
 "cells": [
  {
   "cell_type": "code",
   "execution_count": 2,
   "metadata": {},
   "outputs": [],
   "source": [
    "import os\n",
    "import sys \n",
    "sys.path.append(os.path.abspath('..'))\n",
    "from pathlib import Path\n",
    "from utils import create_directory\n",
    "from model import test\n",
    "\n",
    "from tdr import *"
   ]
  },
  {
   "cell_type": "code",
   "execution_count": 5,
   "metadata": {},
   "outputs": [
    {
     "ename": "RuntimeError",
     "evalue": "Error(s) in loading state_dict for ModularPolicyGRU:\n\tMissing key(s) in state_dict: \"Wz\", \"bz\", \"Wr\", \"br\", \"Wh\", \"bh\", \"Y\", \"bY\", \"mask_Wz\", \"mask_Wr\", \"mask_Wh\", \"mask_Y\", \"mask_bz\", \"mask_br\", \"mask_bh\", \"mask_bY\". \n\tUnexpected key(s) in state_dict: \"gru.weight_ih_l0\", \"gru.weight_hh_l0\", \"gru.bias_ih_l0\", \"gru.bias_hh_l0\", \"fc.weight\", \"fc.bias\". \n\tsize mismatch for h0: copying a param with shape torch.Size([1, 1, 128]) from checkpoint, the shape in current model is torch.Size([1, 656]).",
     "output_type": "error",
     "traceback": [
      "\u001b[0;31m---------------------------------------------------------------------------\u001b[0m",
      "\u001b[0;31mRuntimeError\u001b[0m                              Traceback (most recent call last)",
      "Cell \u001b[0;32mIn[5], line 16\u001b[0m\n\u001b[1;32m     14\u001b[0m weight_file \u001b[38;5;241m=\u001b[39m \u001b[38;5;28mlist\u001b[39m(Path(data_dir)\u001b[38;5;241m.\u001b[39mglob(\u001b[38;5;124mf\u001b[39m\u001b[38;5;124m'\u001b[39m\u001b[38;5;132;01m{\u001b[39;00mmodel_name\u001b[38;5;132;01m}\u001b[39;00m\u001b[38;5;124m_phase=\u001b[39m\u001b[38;5;132;01m{\u001b[39;00mp\u001b[38;5;132;01m}\u001b[39;00m\u001b[38;5;124m_*_batch=\u001b[39m\u001b[38;5;132;01m{\u001b[39;00mbatches[i]\u001b[38;5;132;01m}\u001b[39;00m\u001b[38;5;124m_weights\u001b[39m\u001b[38;5;124m'\u001b[39m))[\u001b[38;5;241m0\u001b[39m]\n\u001b[1;32m     15\u001b[0m cfg_file \u001b[38;5;241m=\u001b[39m \u001b[38;5;28mlist\u001b[39m(Path(data_dir)\u001b[38;5;241m.\u001b[39mglob(\u001b[38;5;124mf\u001b[39m\u001b[38;5;124m'\u001b[39m\u001b[38;5;132;01m{\u001b[39;00mmodel_name\u001b[38;5;132;01m}\u001b[39;00m\u001b[38;5;124m_phase=\u001b[39m\u001b[38;5;132;01m{\u001b[39;00mp\u001b[38;5;132;01m}\u001b[39;00m\u001b[38;5;124m_*_cfg.json\u001b[39m\u001b[38;5;124m'\u001b[39m))[\u001b[38;5;241m0\u001b[39m]\n\u001b[0;32m---> 16\u001b[0m data\u001b[38;5;241m.\u001b[39mappend(\u001b[43mtest\u001b[49m\u001b[43m(\u001b[49m\u001b[43mcfg_file\u001b[49m\u001b[43m,\u001b[49m\u001b[43mweight_file\u001b[49m\u001b[43m,\u001b[49m\u001b[43mff_coefficient\u001b[49m\u001b[38;5;241;43m=\u001b[39;49m\u001b[43mff\u001b[49m\u001b[43m[\u001b[49m\u001b[43mi\u001b[49m\u001b[43m]\u001b[49m\u001b[43m,\u001b[49m\u001b[43mcalc_endpoint_force\u001b[49m\u001b[38;5;241;43m=\u001b[39;49m\u001b[38;5;28;43;01mTrue\u001b[39;49;00m\u001b[43m,\u001b[49m\u001b[43mmodular\u001b[49m\u001b[38;5;241;43m=\u001b[39;49m\u001b[43mmodular\u001b[49m\u001b[43m)\u001b[49m)\n",
      "File \u001b[0;32m~/Documents/GitHub/MotorSavingModel/model.py:169\u001b[0m, in \u001b[0;36mtest\u001b[0;34m(cfg_file, weight_file, ff_coefficient, is_channel, K, B, dT, calc_endpoint_force, modular)\u001b[0m\n\u001b[1;32m    167\u001b[0m \u001b[38;5;66;03m# load policy\u001b[39;00m\n\u001b[1;32m    168\u001b[0m policy \u001b[38;5;241m=\u001b[39m load_policy(env,modular\u001b[38;5;241m=\u001b[39mmodular)\n\u001b[0;32m--> 169\u001b[0m \u001b[43mpolicy\u001b[49m\u001b[38;5;241;43m.\u001b[39;49m\u001b[43mload_state_dict\u001b[49m\u001b[43m(\u001b[49m\u001b[43mw\u001b[49m\u001b[43m)\u001b[49m\n\u001b[1;32m    172\u001b[0m \u001b[38;5;66;03m# Run episode\u001b[39;00m\n\u001b[1;32m    173\u001b[0m data \u001b[38;5;241m=\u001b[39m run_episode(env,policy,\u001b[38;5;241m8\u001b[39m,\u001b[38;5;241m0\u001b[39m,\u001b[38;5;124m'\u001b[39m\u001b[38;5;124mtest\u001b[39m\u001b[38;5;124m'\u001b[39m,ff_coefficient\u001b[38;5;241m=\u001b[39mff_coefficient,is_channel\u001b[38;5;241m=\u001b[39mis_channel,K\u001b[38;5;241m=\u001b[39mK,B\u001b[38;5;241m=\u001b[39mB,detach\u001b[38;5;241m=\u001b[39m\u001b[38;5;28;01mTrue\u001b[39;00m,pert_prob\u001b[38;5;241m=\u001b[39m\u001b[38;5;241m0\u001b[39m,calc_endpoint_force\u001b[38;5;241m=\u001b[39mcalc_endpoint_force)\n",
      "File \u001b[0;32m~/miniconda3/envs/dl/lib/python3.11/site-packages/torch/nn/modules/module.py:2152\u001b[0m, in \u001b[0;36mModule.load_state_dict\u001b[0;34m(self, state_dict, strict, assign)\u001b[0m\n\u001b[1;32m   2147\u001b[0m         error_msgs\u001b[38;5;241m.\u001b[39minsert(\n\u001b[1;32m   2148\u001b[0m             \u001b[38;5;241m0\u001b[39m, \u001b[38;5;124m'\u001b[39m\u001b[38;5;124mMissing key(s) in state_dict: \u001b[39m\u001b[38;5;132;01m{}\u001b[39;00m\u001b[38;5;124m. \u001b[39m\u001b[38;5;124m'\u001b[39m\u001b[38;5;241m.\u001b[39mformat(\n\u001b[1;32m   2149\u001b[0m                 \u001b[38;5;124m'\u001b[39m\u001b[38;5;124m, \u001b[39m\u001b[38;5;124m'\u001b[39m\u001b[38;5;241m.\u001b[39mjoin(\u001b[38;5;124mf\u001b[39m\u001b[38;5;124m'\u001b[39m\u001b[38;5;124m\"\u001b[39m\u001b[38;5;132;01m{\u001b[39;00mk\u001b[38;5;132;01m}\u001b[39;00m\u001b[38;5;124m\"\u001b[39m\u001b[38;5;124m'\u001b[39m \u001b[38;5;28;01mfor\u001b[39;00m k \u001b[38;5;129;01min\u001b[39;00m missing_keys)))\n\u001b[1;32m   2151\u001b[0m \u001b[38;5;28;01mif\u001b[39;00m \u001b[38;5;28mlen\u001b[39m(error_msgs) \u001b[38;5;241m>\u001b[39m \u001b[38;5;241m0\u001b[39m:\n\u001b[0;32m-> 2152\u001b[0m     \u001b[38;5;28;01mraise\u001b[39;00m \u001b[38;5;167;01mRuntimeError\u001b[39;00m(\u001b[38;5;124m'\u001b[39m\u001b[38;5;124mError(s) in loading state_dict for \u001b[39m\u001b[38;5;132;01m{}\u001b[39;00m\u001b[38;5;124m:\u001b[39m\u001b[38;5;130;01m\\n\u001b[39;00m\u001b[38;5;130;01m\\t\u001b[39;00m\u001b[38;5;132;01m{}\u001b[39;00m\u001b[38;5;124m'\u001b[39m\u001b[38;5;241m.\u001b[39mformat(\n\u001b[1;32m   2153\u001b[0m                        \u001b[38;5;28mself\u001b[39m\u001b[38;5;241m.\u001b[39m\u001b[38;5;18m__class__\u001b[39m\u001b[38;5;241m.\u001b[39m\u001b[38;5;18m__name__\u001b[39m, \u001b[38;5;124m\"\u001b[39m\u001b[38;5;130;01m\\n\u001b[39;00m\u001b[38;5;130;01m\\t\u001b[39;00m\u001b[38;5;124m\"\u001b[39m\u001b[38;5;241m.\u001b[39mjoin(error_msgs)))\n\u001b[1;32m   2154\u001b[0m \u001b[38;5;28;01mreturn\u001b[39;00m _IncompatibleKeys(missing_keys, unexpected_keys)\n",
      "\u001b[0;31mRuntimeError\u001b[0m: Error(s) in loading state_dict for ModularPolicyGRU:\n\tMissing key(s) in state_dict: \"Wz\", \"bz\", \"Wr\", \"br\", \"Wh\", \"bh\", \"Y\", \"bY\", \"mask_Wz\", \"mask_Wr\", \"mask_Wh\", \"mask_Y\", \"mask_bz\", \"mask_br\", \"mask_bh\", \"mask_bY\". \n\tUnexpected key(s) in state_dict: \"gru.weight_ih_l0\", \"gru.weight_hh_l0\", \"gru.bias_ih_l0\", \"gru.bias_hh_l0\", \"fc.weight\", \"fc.bias\". \n\tsize mismatch for h0: copying a param with shape torch.Size([1, 1, 128]) from checkpoint, the shape in current model is torch.Size([1, 656])."
     ]
    }
   ],
   "source": [
    "data_dir = create_directory(directory_name='modular2') # loss0_if # modular\n",
    "modular = 1\n",
    "model_num = 7\n",
    "# pert - input fix [0,11,13]\n",
    "# loss0_if - [2,3,7,13] \n",
    "model_name = \"model{:02d}\".format(model_num)\n",
    "\n",
    "data = []\n",
    "phases = ['NF1','FF1']\n",
    "ff = [0,8]\n",
    "batches = [1000,16000]\n",
    "\n",
    "for i,p in enumerate(phases):\n",
    "    weight_file = list(Path(data_dir).glob(f'{model_name}_phase={p}_*_batch={batches[i]}_weights'))[0]\n",
    "    cfg_file = list(Path(data_dir).glob(f'{model_name}_phase={p}_*_cfg.json'))[0]\n",
    "    data.append(test(cfg_file,weight_file,ff_coefficient=ff[i],calc_endpoint_force=True,modular=modular))"
   ]
  },
  {
   "cell_type": "code",
   "execution_count": 1,
   "metadata": {},
   "outputs": [
    {
     "ename": "NameError",
     "evalue": "name 'np' is not defined",
     "output_type": "error",
     "traceback": [
      "\u001b[0;31m---------------------------------------------------------------------------\u001b[0m",
      "\u001b[0;31mNameError\u001b[0m                                 Traceback (most recent call last)",
      "Cell \u001b[0;32mIn[1], line 13\u001b[0m\n\u001b[1;32m      1\u001b[0m \u001b[38;5;66;03m#module_sizes = [128, 128, 128, 32]\u001b[39;00m\n\u001b[1;32m      2\u001b[0m \n\u001b[1;32m      3\u001b[0m \u001b[38;5;66;03m#index_neuron = np.arange(0,module_sizes[0]) # PMd\u001b[39;00m\n\u001b[0;32m   (...)\u001b[0m\n\u001b[1;32m     10\u001b[0m \n\u001b[1;32m     11\u001b[0m \u001b[38;5;66;03m# PFC, PMd, M1, S1, PPC, Spinal\u001b[39;00m\n\u001b[1;32m     12\u001b[0m module_sizes \u001b[38;5;241m=\u001b[39m [\u001b[38;5;241m128\u001b[39m, \u001b[38;5;241m128\u001b[39m, \u001b[38;5;241m128\u001b[39m, \u001b[38;5;241m128\u001b[39m, \u001b[38;5;241m128\u001b[39m, \u001b[38;5;241m16\u001b[39m]\n\u001b[0;32m---> 13\u001b[0m index_neuron \u001b[38;5;241m=\u001b[39m \u001b[43mnp\u001b[49m\u001b[38;5;241m.\u001b[39marange(\u001b[38;5;241m0\u001b[39m,module_sizes[\u001b[38;5;241m0\u001b[39m]) \u001b[38;5;66;03m# PFC\u001b[39;00m\n\u001b[1;32m     14\u001b[0m index_neuron \u001b[38;5;241m=\u001b[39m np\u001b[38;5;241m.\u001b[39marange(module_sizes[\u001b[38;5;241m0\u001b[39m],module_sizes[\u001b[38;5;241m0\u001b[39m]\u001b[38;5;241m+\u001b[39mmodule_sizes[\u001b[38;5;241m1\u001b[39m]) \u001b[38;5;66;03m# PMd\u001b[39;00m\n\u001b[1;32m     15\u001b[0m index_neuron \u001b[38;5;241m=\u001b[39m np\u001b[38;5;241m.\u001b[39marange(module_sizes[\u001b[38;5;241m0\u001b[39m]\u001b[38;5;241m+\u001b[39mmodule_sizes[\u001b[38;5;241m1\u001b[39m],module_sizes[\u001b[38;5;241m0\u001b[39m]\u001b[38;5;241m+\u001b[39mmodule_sizes[\u001b[38;5;241m1\u001b[39m]\u001b[38;5;241m+\u001b[39mmodule_sizes[\u001b[38;5;241m2\u001b[39m]) \u001b[38;5;66;03m# M1\u001b[39;00m\n",
      "\u001b[0;31mNameError\u001b[0m: name 'np' is not defined"
     ]
    }
   ],
   "source": [
    "#module_sizes = [128, 128, 128, 32]\n",
    "\n",
    "#index_neuron = np.arange(0,module_sizes[0]) # PMd\n",
    "#index_neuron = np.arange(module_sizes[0],module_sizes[0]+module_sizes[1]) # M1\n",
    "#index_neuron = np.arange(module_sizes[0]+module_sizes[1],module_sizes[0]+module_sizes[1]+module_sizes[2]) # S1\n",
    "#index_neuron = np.arange(module_sizes[0]+module_sizes[1]+module_sizes[2],module_sizes[0]+module_sizes[1]+module_sizes[2]+module_sizes[3]) # Spinal\n",
    "\n",
    "\n",
    "\n",
    "\n",
    "# PFC, PMd, M1, S1, PPC, Spinal\n",
    "module_sizes = [128, 128, 128, 128, 128, 16]\n",
    "index_neuron = np.arange(0,module_sizes[0]) # PFC\n",
    "index_neuron = np.arange(module_sizes[0],module_sizes[0]+module_sizes[1]) # PMd\n",
    "index_neuron = np.arange(module_sizes[0]+module_sizes[1],module_sizes[0]+module_sizes[1]+module_sizes[2]) # M1\n",
    "index_neuron = np.arange(module_sizes[0]+module_sizes[1]+module_sizes[2],module_sizes[0]+module_sizes[1]+module_sizes[2]+module_sizes[3]) # S1\n",
    "index_neuron = np.arange(module_sizes[0]+module_sizes[1]+module_sizes[2]+module_sizes[3],module_sizes[0]+module_sizes[1]+module_sizes[2]+module_sizes[3]+module_sizes[4]) # PPC\n",
    "index_neuron = np.arange(module_sizes[0]+module_sizes[1]+module_sizes[2]+module_sizes[3]+module_sizes[4],module_sizes[0]+module_sizes[1]+module_sizes[2]+module_sizes[3]+module_sizes[4]+module_sizes[5]) # Spinal\n",
    "\n"
   ]
  },
  {
   "cell_type": "code",
   "execution_count": 69,
   "metadata": {},
   "outputs": [],
   "source": [
    "# RUN TDR\n",
    "Data_prep = get_data(data,phases,go_cue_idx=18,force_idx=25,index_neuron=index_neuron)\n",
    "\n",
    "beforeLearningN = Data_prep['Y'][0]\n",
    "afterLearningN = Data_prep['Y'][1]\n",
    "\n",
    "# Combine beforeLearningN and afterLearningN\n",
    "combined_N = np.vstack((beforeLearningN, afterLearningN))\n",
    "\n",
    "# Calculate the mean along axis 0 (mean of each neuron across conditions)\n",
    "mean_N = np.mean(combined_N, axis=0)\n",
    "\n",
    "\n",
    "# Center beforeLearningN and afterLearningN\n",
    "beforeLearningN_center = beforeLearningN - mean_N\n",
    "afterLearningN_center = afterLearningN - mean_N\n",
    "\n",
    "before_learning_X = Data_prep['X'][0]\n",
    "after_learning_X = Data_prep['X'][1]\n",
    "\n",
    "\n",
    "betaNeural2Behav, betaNeural2BehavOrth, projectedStates = build_TDR_subspace(before_learning_X,beforeLearningN_center,\n",
    "                                                                             after_learning_N=afterLearningN_center,\n",
    "                                                                             after_learning_X=after_learning_X,\n",
    "                                                                             TDR_options=1)"
   ]
  },
  {
   "cell_type": "code",
   "execution_count": 70,
   "metadata": {},
   "outputs": [
    {
     "data": {
      "image/png": "[encoded data removed]",
      "text/plain": [
       "<Figure size 640x480 with 1 Axes>"
      ]
     },
     "metadata": {},
     "output_type": "display_data"
    }
   ],
   "source": [
    "import matplotlib.pyplot as plt\n",
    "import numpy as np\n",
    "\n",
    "# Assuming projectedStates is your (8,2) matrix\n",
    "n_cond = int(projectedStates.shape[0] / 2)\n",
    "\n",
    "\n",
    "angle_set = np.deg2rad(np.arange(0, 360, 45))  # 8 directions\n",
    "#angle_set = np.deg2rad(np.array([0,45,60,75,90,105,120,135,180,225,315]))\n",
    "color_list = [plt.cm.brg(cond / (2 * np.pi)) for cond in angle_set]\n",
    "\n",
    "# Create a scatter plot\n",
    "plt.figure()\n",
    "for i in range(n_cond):\n",
    "    plt.plot(projectedStates[i, 0], projectedStates[i, 1], '.', markersize=30, color=color_list[i])\n",
    "    plt.plot(projectedStates[i + n_cond, 0], projectedStates[i + n_cond, 1], 'd', markersize=10, markerfacecolor=color_list[i])\n",
    "\n",
    "plt.xlabel('TDR Axis 1')\n",
    "plt.ylabel('TDR Axis 2')\n",
    "plt.title('Neural States in TDR Subspace')\n",
    "\n",
    "plt.show()"
   ]
  },
  {
   "cell_type": "code",
   "execution_count": 38,
   "metadata": {},
   "outputs": [
    {
     "data": {
      "text/plain": [
       "array([[-0.08675979],\n",
       "       [-0.08222724],\n",
       "       [-0.07756741],\n",
       "       [-0.07915243],\n",
       "       [-0.08339262],\n",
       "       [-0.08475069],\n",
       "       [-0.08304053],\n",
       "       [-0.08428255],\n",
       "       [ 0.07515138],\n",
       "       [ 0.07768385],\n",
       "       [ 0.08401206],\n",
       "       [ 0.08653803],\n",
       "       [ 0.08533846],\n",
       "       [ 0.0845009 ],\n",
       "       [ 0.08592016],\n",
       "       [ 0.08202806]])"
      ]
     },
     "execution_count": 38,
     "metadata": {},
     "output_type": "execute_result"
    }
   ],
   "source": [
    "# Assuming beforeLearningN_center and afterLearningN_center are your (C, N) matrices\n",
    "# where C is the number of conditions, and N is the number of neurons\n",
    "\n",
    "# Define the uniform-shift learning axis\n",
    "uniformAxis = np.mean(afterLearningN_center, axis=0) - np.mean(beforeLearningN_center, axis=0)\n",
    "uniformAxis = uniformAxis.reshape(-1, 1)\n",
    "\n",
    "# Orthogonalize the uniform shift against the TDR axes\n",
    "uniformAxisOrth = uniformAxis - np.dot(betaNeural2BehavOrth[:, 0], uniformAxis) / np.linalg.norm(betaNeural2BehavOrth[:, 0]) ** 2 * betaNeural2BehavOrth[:, 0][:,None]\n",
    "uniformAxisOrth = uniformAxisOrth - np.dot(betaNeural2BehavOrth[:, 1], uniformAxisOrth) / np.linalg.norm(betaNeural2BehavOrth[:, 1]) ** 2 * betaNeural2BehavOrth[:, 1][:,None]\n",
    "\n",
    "# Normalize the uniform shift axis\n",
    "uniformAxisOrthNorm = uniformAxisOrth / np.linalg.norm(uniformAxisOrth)\n",
    "\n",
    "# Project neural activity onto the uniform-shift axis\n",
    "uniformStates = np.vstack((beforeLearningN_center, afterLearningN_center)) @ uniformAxisOrthNorm\n",
    "uniformStates"
   ]
  },
  {
   "cell_type": "code",
   "execution_count": null,
   "metadata": {},
   "outputs": [],
   "source": []
  }
 ],
 "metadata": {
  "kernelspec": {
   "display_name": "dl",
   "language": "python",
   "name": "python3"
  },
  "language_info": {
   "codemirror_mode": {
    "name": "ipython",
    "version": 3
   },
   "file_extension": ".py",
   "mimetype": "text/x-python",
   "name": "python",
   "nbconvert_exporter": "python",
   "pygments_lexer": "ipython3",
   "version": "3.11.5"
  },
  "orig_nbformat": 4
 },
 "nbformat": 4,
 "nbformat_minor": 2
}
