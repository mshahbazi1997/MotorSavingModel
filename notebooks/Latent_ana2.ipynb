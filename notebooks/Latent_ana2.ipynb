{
 "cells": [
  {
   "cell_type": "code",
   "execution_count": 11,
   "metadata": {},
   "outputs": [],
   "source": [
    "import os\n",
    "import sys \n",
    "sys.path.append(os.path.abspath('..'))\n",
    "sys.path.append(os.path.abspath('../../latent_analysis/'))\n",
    "import LTransform as LT\n",
    "from get_utils import get_hidden, get_dir\n",
    "from pathlib import Path\n",
    "import numpy as np\n",
    "import torch as th\n",
    "import plot as plot\n",
    "import matplotlib.pyplot as plt\n",
    "\n",
    "\n",
    "#%matplotlib widget\n",
    "%matplotlib qt"
   ]
  },
  {
   "cell_type": "code",
   "execution_count": 2,
   "metadata": {},
   "outputs": [],
   "source": [
    "# Load hidden\n",
    "folder_name = 'Sim_all_inv'\n",
    "model_num = 0\n",
    "model_name = \"model{:02d}\".format(model_num)\n",
    "\n",
    "ff_coef = [0,8,0,8,-8]\n",
    "phase = {'NF1':[0],'FF1':[8],'NF2':[0],'FF2':[8,-8]}\n",
    "\n",
    "data = get_hidden(folder_name,model_name,phase,ff_coef,demean=True)"
   ]
  },
  {
   "cell_type": "code",
   "execution_count": 3,
   "metadata": {},
   "outputs": [],
   "source": [
    "# Apply SVD\n",
    "n_muscle = 6\n",
    "n_latent = 6\n",
    "n_pot = 6\n",
    "\n",
    "# Apply PCA\n",
    "Data_prep =  {'x_ld':[],'x':[]}\n",
    "for i in range(len(data)):\n",
    "    X = data[i]\n",
    "    if i==0:\n",
    "        T = LT.Transform(num_latent=n_latent)\n",
    "        T.fit(X,method='PCA')        \n",
    "        \n",
    "    x_ld = T.transform(X,ensure_orthogonality=True)\n",
    "\n",
    "    Data_prep['x_ld'].append(x_ld)\n",
    "    Data_prep['x'].append(X)"
   ]
  },
  {
   "cell_type": "code",
   "execution_count": 4,
   "metadata": {},
   "outputs": [],
   "source": [
    "import seaborn as sns\n",
    "\n",
    "plt.figure()\n",
    "plt.bar(np.arange(len(T.variance_explained)), 100*T.variance_explained)\n",
    "plt.ylabel('[% of explained variance')\n",
    "plt.show()"
   ]
  },
  {
   "cell_type": "code",
   "execution_count": 5,
   "metadata": {},
   "outputs": [
    {
     "name": "stdout",
     "output_type": "stream",
     "text": [
      "Warning: Cannot change to a different GUI toolkit: widget. Using qt instead.\n"
     ]
    }
   ],
   "source": [
    "%matplotlib widget\n",
    "#%matplotlib qt\n",
    "# ['x', 'o', '*', 's']\n",
    "latent = [0,1,2]\n",
    "dim=2\n",
    "which_times = np.arange(10)\n",
    "which_times =[18]\n",
    "plot_scatter=1\n",
    "\n",
    "if dim==2:\n",
    "    fig,ax = plt.subplots(1,1,figsize=(5,5))\n",
    "    ax = [ax]\n",
    "else:\n",
    "    fig,ax = plt.subplots(1,1,figsize=(5,5),subplot_kw={'projection':'3d'})\n",
    "    ax = [ax]\n",
    "\n",
    "plot.plot_traj(ax[0],Data_prep['x_ld'],which_times=which_times,plot_scatter=plot_scatter,dim=dim,which_latent=latent)\n",
    "ax[0].set_title('x_ld')\n",
    "\n",
    "\n",
    "plt.tight_layout()\n",
    "plt.show()"
   ]
  },
  {
   "cell_type": "code",
   "execution_count": 6,
   "metadata": {},
   "outputs": [],
   "source": [
    "# 0-NF1, 1-FF1, 2-NF2, 3-FF2\n",
    "# 0-(0,1) NF1-FF1 \n",
    "# 1-(0,2) NF1-NF2 X\n",
    "# 2-(0,3) NF1-FF2 X\n",
    "# 3-(1,2) FF1-NF2 X\n",
    "# 4-(1,3) FF1-FF2 X\n",
    "# 5-(2,3) NF2-FF2\n",
    "\n",
    "fig,ax = plt.subplots(1,2,figsize=(10,5))\n",
    "from scipy.spatial.distance import pdist, squareform\n",
    "\n",
    "color_list = ['blue','orange','red','green','cyan','purple']\n",
    "style = ['-','-','-','-','-','-']\n",
    "label = ['NF1-FF1','NF1-NF2','NF1-FF2','FF1-NF2','FF1-FF2','NF2-FF2']\n",
    "label = ['NF1-FF1','NF1-NF2','NF1-FF2','NF1-FF3','FF1-NF2','FF1-FF2','FF1-FF3','NF2-FF2','NF2-FF3','FF2-FF3']\n",
    "\n",
    "\n",
    "for k,s in enumerate(['x','x_ld']):\n",
    "    D = np.stack(Data_prep[s])\n",
    "    dist = np.zeros((8,100,10))\n",
    "    for i in range(8):\n",
    "        for j in range(100):\n",
    "            dist[i,j,:] = pdist(D[:,i,j,:])\n",
    "\n",
    "    dist = np.mean(dist,axis=0)\n",
    "\n",
    "    x = np.linspace(0,1,dist.shape[0])\n",
    "\n",
    "    for i,d in enumerate([0,4,5,7]): # [0,5]  [1,4]\n",
    "        ax[k].plot(x,dist[:,d],label=label[d]) # ,color=color_list[d],linestyle=style[d]\n",
    "    ax[k].legend()\n",
    "    ax[k].set_xlabel('time')\n",
    "    ax[k].set_ylabel('distance')\n",
    "    ax[k].spines[['top','right']].set_visible(False)\n",
    "    ax[k].set_title(s)\n",
    "plt.tight_layout()\n",
    "plt.show()"
   ]
  },
  {
   "cell_type": "markdown",
   "metadata": {},
   "source": [
    "# better visualization"
   ]
  },
  {
   "cell_type": "code",
   "execution_count": 7,
   "metadata": {},
   "outputs": [],
   "source": [
    "import PcmPy as pcm\n",
    "\n",
    "rdm = []\n",
    "for k,s in enumerate(['x','x_ld']):\n",
    "    D = np.stack(Data_prep[s])\n",
    "    dist = np.zeros((8,100,10))\n",
    "    for i in range(8):\n",
    "        for j in range(100):\n",
    "            dist[i,j,:] = pdist(D[:,i,j,:])\n",
    "\n",
    "    dist = np.mean(dist,axis=0)\n",
    "    rdm.append(dist)"
   ]
  },
  {
   "cell_type": "code",
   "execution_count": 10,
   "metadata": {},
   "outputs": [],
   "source": [
    "import PcmPy as pcm\n",
    "labels = ['NF1','FF1','NF2','FF2','FF2-']\n",
    "\n",
    "tp = 15\n",
    "rdm_v = rdm[1][tp,:]\n",
    "rdm_m = squareform(rdm_v)\n",
    "n_cond = rdm_m.shape[0]\n",
    "\n",
    "H = np.eye(n_cond) - np.ones((n_cond,n_cond))/n_cond\n",
    "G = -0.5*H@rdm_m@H\n",
    "\n",
    "# np.sum(pcm.G_to_dist(G)-rdm_m) # sanity check\n",
    "W,Glam = pcm.classical_mds(G)\n",
    "\n",
    "fig,ax = plt.subplots(1,1,figsize=(5,5))\n",
    "\n",
    "\n",
    "plt.scatter(W[:,0],W[:,1])\n",
    "ax.set_aspect('equal')\n",
    "\n",
    "for i, label in enumerate(labels):\n",
    "    plt.annotate(label, (W[i,0],W[i,1]))\n",
    "plt.show()"
   ]
  },
  {
   "cell_type": "code",
   "execution_count": null,
   "metadata": {},
   "outputs": [],
   "source": []
  }
 ],
 "metadata": {
  "kernelspec": {
   "display_name": "dl",
   "language": "python",
   "name": "python3"
  },
  "language_info": {
   "codemirror_mode": {
    "name": "ipython",
    "version": 3
   },
   "file_extension": ".py",
   "mimetype": "text/x-python",
   "name": "python",
   "nbconvert_exporter": "python",
   "pygments_lexer": "ipython3",
   "version": "3.11.5"
  }
 },
 "nbformat": 4,
 "nbformat_minor": 2
}
