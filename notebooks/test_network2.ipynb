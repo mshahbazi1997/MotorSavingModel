{
 "cells": [
  {
   "cell_type": "code",
   "execution_count": 41,
   "metadata": {},
   "outputs": [],
   "source": [
    "import os\n",
    "import sys \n",
    "sys.path.append(os.path.abspath('..'))\n",
    "import json\n",
    "from pathlib import Path\n",
    "from get_utils import get_data,get_dir\n",
    "from model import test\n",
    "import plot as plot\n",
    "import numpy as np\n",
    "import matplotlib.pyplot as plt\n",
    "import pandas as pd\n",
    "from tqdm import tqdm\n",
    "import seaborn as sb\n",
    "\n",
    "#%matplotlib widget\n",
    "%matplotlib qt"
   ]
  },
  {
   "cell_type": "code",
   "execution_count": 47,
   "metadata": {},
   "outputs": [
    {
     "data": {
      "text/plain": [
       "<Axes: title={'center': 'proprioceptive perturbation'}, xlabel='perturbation time', ylabel='position loss'>"
      ]
     },
     "execution_count": 47,
     "metadata": {},
     "output_type": "execute_result"
    }
   ],
   "source": [
    "T = pd.read_csv(f'simulations/sim_prop_noise.csv')\n",
    "#colors=[(0.5,0,0),(1,0.4,0.4),(0.8,0.8,0.2),(0,0,0)]\n",
    "#colors=[(0.5,0,0),(0,0,0)]\n",
    "\n",
    "fig,ax = plt.subplots(1,1,figsize=(10,5))\n",
    "ax.set_ylabel('position loss')\n",
    "ax.set_xlabel('perturbation time')\n",
    "ax.set_title('proprioceptive perturbation') # proprioceptive\n",
    "sb.lineplot(data=T,x='t',y='loss',hue='phase',style='noise') # ,palette=colors\n"
   ]
  },
  {
   "cell_type": "code",
   "execution_count": null,
   "metadata": {},
   "outputs": [],
   "source": []
  }
 ],
 "metadata": {
  "kernelspec": {
   "display_name": "dl",
   "language": "python",
   "name": "python3"
  },
  "language_info": {
   "codemirror_mode": {
    "name": "ipython",
    "version": 3
   },
   "file_extension": ".py",
   "mimetype": "text/x-python",
   "name": "python",
   "nbconvert_exporter": "python",
   "pygments_lexer": "ipython3",
   "version": "3.11.5"
  },
  "orig_nbformat": 4
 },
 "nbformat": 4,
 "nbformat_minor": 2
}
