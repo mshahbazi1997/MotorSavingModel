{
 "cells": [
  {
   "cell_type": "code",
   "execution_count": 16,
   "metadata": {},
   "outputs": [],
   "source": [
    "import os\n",
    "import sys \n",
    "sys.path.append(os.path.abspath('..'))\n",
    "from pathlib import Path\n",
    "from utils import create_directory\n",
    "from model import test\n",
    "\n",
    "from tdr import *"
   ]
  },
  {
   "cell_type": "code",
   "execution_count": 20,
   "metadata": {},
   "outputs": [],
   "source": [
    "data_dir = create_directory(directory_name='loss0_if') # loss0_if\n",
    "model_num = 0\n",
    "# pert - input fix [0,11,13]\n",
    "# loss0_if - [2,3,7,13] \n",
    "model_name = \"model{:02d}\".format(model_num)\n",
    "\n",
    "\n",
    "data = []\n",
    "phases = ['NF1','NF2']\n",
    "ff = [0,0]\n",
    "\n",
    "for i,p in enumerate(phases):\n",
    "    weight_file = list(Path(data_dir).glob(f'{model_name}_phase={p}_*_weights'))[0]\n",
    "    cfg_file = list(Path(data_dir).glob(f'{model_name}_phase={p}_*_cfg.json'))[0]\n",
    "    data.append(test(cfg_file,weight_file,ff_coefficient=ff[i],calc_endpoint_force=True))"
   ]
  },
  {
   "cell_type": "code",
   "execution_count": 23,
   "metadata": {},
   "outputs": [],
   "source": [
    "# RUN TDR\n",
    "Data_prep = get_data(data,phases,go_cue_idx=10,force_idx=25)\n",
    "\n",
    "beforeLearningN = Data_prep['Y'][0]\n",
    "afterLearningN = Data_prep['Y'][1]\n",
    "\n",
    "# Combine beforeLearningN and afterLearningN\n",
    "combined_N = np.vstack((beforeLearningN, afterLearningN))\n",
    "\n",
    "# Calculate the mean along axis 0 (mean of each neuron across conditions)\n",
    "mean_N = np.mean(combined_N, axis=0)\n",
    "\n",
    "\n",
    "# Center beforeLearningN and afterLearningN\n",
    "beforeLearningN_center = beforeLearningN - mean_N\n",
    "afterLearningN_center = afterLearningN - mean_N\n",
    "#beforeLearningN_center = beforeLearningN - np.mean(beforeLearningN, axis=0)\n",
    "#afterLearningN_center = afterLearningN - np.mean(afterLearningN, axis=0)\n",
    "\n",
    "\n",
    "before_learning_X = Data_prep['X'][0]\n",
    "after_learning_X = Data_prep['X'][1]\n",
    "\n",
    "\n",
    "betaNeural2Behav, betaNeural2BehavOrth, projectedStates = build_TDR_subspace(before_learning_X,beforeLearningN_center,\n",
    "                                                                             after_learning_N=afterLearningN_center,\n",
    "                                                                             after_learning_X=after_learning_X,\n",
    "                                                                             TDR_options=1)"
   ]
  },
  {
   "cell_type": "code",
   "execution_count": 24,
   "metadata": {},
   "outputs": [
    {
     "data": {
      "image/png": "[encoded data removed]",
      "text/plain": [
       "<Figure size 640x480 with 1 Axes>"
      ]
     },
     "metadata": {},
     "output_type": "display_data"
    }
   ],
   "source": [
    "import matplotlib.pyplot as plt\n",
    "import numpy as np\n",
    "\n",
    "# Assuming projectedStates is your (8,2) matrix\n",
    "n_cond = int(projectedStates.shape[0] / 2)\n",
    "\n",
    "\n",
    "angle_set = np.deg2rad(np.arange(0, 360, 45))  # 8 directions\n",
    "#angle_set = np.deg2rad(np.array([0,45,60,75,90,105,120,135,180,225,315]))\n",
    "color_list = [plt.cm.brg(cond / (2 * np.pi)) for cond in angle_set]\n",
    "\n",
    "# Create a scatter plot\n",
    "plt.figure()\n",
    "for i in range(n_cond):\n",
    "    plt.plot(projectedStates[i, 0], projectedStates[i, 1], '.', markersize=30, color=color_list[i])\n",
    "    plt.plot(projectedStates[i + n_cond, 0], projectedStates[i + n_cond, 1], 'd', markersize=10, markerfacecolor=color_list[i])\n",
    "\n",
    "plt.xlabel('TDR Axis 1')\n",
    "plt.ylabel('TDR Axis 2')\n",
    "plt.title('Neural States in TDR Subspace')\n",
    "\n",
    "plt.show()"
   ]
  },
  {
   "cell_type": "code",
   "execution_count": 8,
   "metadata": {},
   "outputs": [
    {
     "data": {
      "text/plain": [
       "array([[-0.24198112],\n",
       "       [-0.1911065 ],\n",
       "       [-0.15488283],\n",
       "       [-0.15731777],\n",
       "       [-0.20121853],\n",
       "       [-0.25643814],\n",
       "       [-0.28702676],\n",
       "       [-0.28025844],\n",
       "       [ 0.1951643 ],\n",
       "       [ 0.2662902 ],\n",
       "       [ 0.31255388],\n",
       "       [ 0.30749178],\n",
       "       [ 0.24893551],\n",
       "       [ 0.17302885],\n",
       "       [ 0.12844192],\n",
       "       [ 0.1383235 ]])"
      ]
     },
     "execution_count": 8,
     "metadata": {},
     "output_type": "execute_result"
    }
   ],
   "source": [
    "# Assuming beforeLearningN_center and afterLearningN_center are your (C, N) matrices\n",
    "# where C is the number of conditions, and N is the number of neurons\n",
    "\n",
    "# Define the uniform-shift learning axis\n",
    "uniformAxis = np.mean(afterLearningN_center, axis=0) - np.mean(beforeLearningN_center, axis=0)\n",
    "uniformAxis = uniformAxis.reshape(-1, 1)\n",
    "\n",
    "# Orthogonalize the uniform shift against the TDR axes\n",
    "uniformAxisOrth = uniformAxis - np.dot(betaNeural2BehavOrth[:, 0], uniformAxis) / np.linalg.norm(betaNeural2BehavOrth[:, 0]) ** 2 * betaNeural2BehavOrth[:, 0][:,None]\n",
    "uniformAxisOrth = uniformAxisOrth - np.dot(betaNeural2BehavOrth[:, 1], uniformAxisOrth) / np.linalg.norm(betaNeural2BehavOrth[:, 1]) ** 2 * betaNeural2BehavOrth[:, 1][:,None]\n",
    "\n",
    "# Normalize the uniform shift axis\n",
    "uniformAxisOrthNorm = uniformAxisOrth / np.linalg.norm(uniformAxisOrth)\n",
    "\n",
    "# Project neural activity onto the uniform-shift axis\n",
    "uniformStates = np.vstack((beforeLearningN_center, afterLearningN_center)) @ uniformAxisOrthNorm\n",
    "uniformStates"
   ]
  },
  {
   "cell_type": "code",
   "execution_count": null,
   "metadata": {},
   "outputs": [],
   "source": []
  }
 ],
 "metadata": {
  "kernelspec": {
   "display_name": "dl",
   "language": "python",
   "name": "python3"
  },
  "language_info": {
   "codemirror_mode": {
    "name": "ipython",
    "version": 3
   },
   "file_extension": ".py",
   "mimetype": "text/x-python",
   "name": "python",
   "nbconvert_exporter": "python",
   "pygments_lexer": "ipython3",
   "version": "3.10.13"
  },
  "orig_nbformat": 4
 },
 "nbformat": 4,
 "nbformat_minor": 2
}
