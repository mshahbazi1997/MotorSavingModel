{
 "cells": [
  {
   "cell_type": "code",
   "execution_count": 25,
   "metadata": {},
   "outputs": [],
   "source": [
    "import os\n",
    "import sys \n",
    "sys.path.append(os.path.abspath('..'))\n",
    "import json\n",
    "from pathlib import Path\n",
    "from get_utils import get_data,get_dir\n",
    "from model import test\n",
    "import plot as plot\n",
    "import numpy as np\n",
    "import matplotlib.pyplot as plt\n",
    "import pandas as pd\n",
    "from tqdm import tqdm\n",
    "import seaborn as sb\n",
    "\n",
    "\n",
    "#%matplotlib widget\n",
    "%matplotlib qt"
   ]
  },
  {
   "cell_type": "code",
   "execution_count": 29,
   "metadata": {},
   "outputs": [
    {
     "name": "stderr",
     "output_type": "stream",
     "text": [
      "simulation:  13%|█▎        | 13/100 [02:23<16:07, 11.12s/iter]"
     ]
    }
   ],
   "source": [
    "# 9, 10, 11, 16, 17, 18, 19, 20, 21, 23, 26\n",
    "#git_dir = os.path.dirname(os.getcwd())\n",
    "#save_dir = os.path.join(git_dir,'MotorSavingModel','simulation')\n",
    "\n",
    "\n",
    "folder_name = 'Sim_all_inv'\n",
    "model_name = 'model00'\n",
    "\n",
    "phase = {'NF1':[0],'NF2':[0]}\n",
    "ff_coef = None#[8,8]\n",
    "var=[0,0.07]\n",
    "n_sim=100\n",
    "\n",
    "T = pd.DataFrame()\n",
    "\n",
    "for i in tqdm(range(n_sim),desc=\"simulation\", unit=\"iter\"):\n",
    "    for v in var:\n",
    "        for t in np.linspace(0, 0.95, 20):\n",
    "            if var==0:\n",
    "                add_prop_noise=False\n",
    "            else:\n",
    "                add_prop_noise=True\n",
    "            data, loss = get_data(folder_name,model_name,phase,ff_coef,is_channel=False,add_prop_noise=add_prop_noise,var_prop_noise=v,t_prop_noise=[t,t+0.02],return_loss=True)\n",
    "            for j,key in enumerate(phase.keys()):\n",
    "                l = loss[j]['position'].item()\n",
    "                d = {'sim':[i],'t':[t],'loss':[l],'phase':[key],'noise':[v]}\n",
    "                T = pd.concat([T,pd.DataFrame(d)],ignore_index=True)\n",
    "\n",
    "T.to_csv(f'simulations/sim_prop_noise.csv',index=False)"
   ]
  },
  {
   "cell_type": "code",
   "execution_count": 28,
   "metadata": {},
   "outputs": [
    {
     "data": {
      "text/plain": [
       "<Axes: xlabel='t', ylabel='loss'>"
      ]
     },
     "execution_count": 28,
     "metadata": {},
     "output_type": "execute_result"
    }
   ],
   "source": [
    "T = pd.read_csv(f'simulations/sim_prop_noise.csv')\n",
    "#colors=[(0.5,0,0),(1,0.4,0.4),(0.8,0.8,0.2),(0,0,0)]\n",
    "#colors=[(0.5,0,0),(0,0,0)]\n",
    "\n",
    "fig,ax = plt.subplots(1,1,figsize=(10,5))\n",
    "\n",
    "sb.lineplot(data=T,x='t',y='loss',hue='phase',style='noise') # ,palette=colors\n"
   ]
  },
  {
   "cell_type": "code",
   "execution_count": null,
   "metadata": {},
   "outputs": [],
   "source": []
  }
 ],
 "metadata": {
  "kernelspec": {
   "display_name": "dl",
   "language": "python",
   "name": "python3"
  },
  "language_info": {
   "codemirror_mode": {
    "name": "ipython",
    "version": 3
   },
   "file_extension": ".py",
   "mimetype": "text/x-python",
   "name": "python",
   "nbconvert_exporter": "python",
   "pygments_lexer": "ipython3",
   "version": "3.11.5"
  },
  "orig_nbformat": 4
 },
 "nbformat": 4,
 "nbformat_minor": 2
}
