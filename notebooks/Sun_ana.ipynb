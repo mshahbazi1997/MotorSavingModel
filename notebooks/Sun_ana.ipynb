{
 "cells": [
  {
   "cell_type": "code",
   "execution_count": 10,
   "metadata": {},
   "outputs": [],
   "source": [
    "import os\n",
    "import sys \n",
    "sys.path.append(os.path.abspath('..'))\n",
    "sys.path.append(os.path.abspath('../../latent_analysis/'))\n",
    "import LTransform as LT\n",
    "from get_utils import get_hidden, get_force\n",
    "from pathlib import Path\n",
    "import numpy as np\n",
    "import torch as th\n",
    "import plot as plot\n",
    "import matplotlib.pyplot as plt\n",
    "from scipy.spatial.distance import pdist, squareform\n",
    "import pandas as pd\n",
    "import seaborn as sb\n",
    "import scipy.stats as stats\n",
    "\n",
    "#%matplotlib widget\n",
    "%matplotlib qt"
   ]
  },
  {
   "cell_type": "code",
   "execution_count": 7,
   "metadata": {},
   "outputs": [],
   "source": [
    "from tdr import gsog\n",
    "\n",
    "folder_name = 'Sim_all_inv' \n",
    "\n",
    "ff_coef = [0,8,0,8,-8]\n",
    "phase = {'NF1':[0],'FF1':[8],'NF2':[0],'FF2':[8,-8]}\n",
    "labels = ['NF1','FF1','NF2','FF2','FF2-']\n",
    "\n",
    "T = pd.DataFrame()\n",
    "\n",
    "N_idx = 10 # index of hidden activity \n",
    "F_idx = 24 # index of force\n",
    "\n",
    "rdms = []\n",
    "for mn in range(0,20):\n",
    "    model_name = \"model{:02d}\".format(mn)\n",
    "    \n",
    "    data = get_hidden(folder_name,model_name,phase,ff_coef,demean=False)\n",
    "    force = get_force(folder_name,model_name,phase,ff_coef)\n",
    "\n",
    "    for i in range(len(data)):\n",
    "        data[i] = data[i][:,N_idx,:]\n",
    "        force[i] = force[i][:,F_idx,:]\n",
    "\n",
    "    # remove overall mean\n",
    "    combined_N = np.vstack(data)\n",
    "    mean_N = np.mean(combined_N, axis=0)\n",
    "    for i in range(len(data)):\n",
    "        data[i] = data[i]-mean_N\n",
    "\n",
    "    # use NF1 to project onto TDR axes\n",
    "    X = force[0] # NF1 force \n",
    "    N = data[0] # NF1 hidden activity\n",
    "\n",
    "    X = np.hstack((X,np.ones((X.shape[0],1))))\n",
    "    beta_b2n = np.linalg.pinv(X) @ N\n",
    "\n",
    "    # Compute the TDR axes.\n",
    "    beta_n2b = np.linalg.pinv(beta_b2n)\n",
    "    beta_n2b = beta_n2b[:,:2]\n",
    "\n",
    "    # Orthogonalize the TDR axes before projection.\n",
    "    beta_n2b_orth = gsog(beta_n2b)[0]\n",
    "\n",
    "    # Project before-learning and after-learning neural activity onto the TDR axes\n",
    "    data_p = data.copy()\n",
    "    for i in range(len(data)):\n",
    "        data_p[i] = data_p[i] @ beta_n2b_orth\n",
    "    \n",
    "    # RDM\n",
    "    D = np.stack(data_p)\n",
    "    dims = D.shape\n",
    "    D = D.reshape(dims[0],-1)\n",
    "    rdms.append(pdist(D))\n",
    "\n",
    "\n",
    "    # uniform shift from NF1 to FF1\n",
    "    us = np.mean(data[1]-data[0],axis=0)\n",
    "    us = us.reshape(-1,1)\n",
    "    us.shape\n",
    "    us_orth = us - np.dot(beta_n2b_orth[:,0],us)/np.linalg.norm(beta_n2b_orth[:,0])**2 * beta_n2b_orth[:,0][:,None]\n",
    "    us_orth = us_orth - np.dot(beta_n2b_orth[:,1],us_orth)/np.linalg.norm(beta_n2b_orth[:,1])**2 * beta_n2b_orth[:,1][:,None]\n",
    "\n",
    "    # np.dot(beta_n2b_orth[:,1],us_orth) # sanity check\n",
    "    us_orth_norm = us_orth/np.linalg.norm(us_orth)\n",
    "    \n",
    "    for i,l in enumerate(labels):\n",
    "        u = data[i]@us_orth_norm\n",
    "        u = list(u.squeeze())\n",
    "        d = {'mn':mn,'phase':[l]*8,'us':u}\n",
    "        T = pd.concat([T,pd.DataFrame(d)],ignore_index=True)"
   ]
  },
  {
   "cell_type": "markdown",
   "metadata": {},
   "source": [
    "# Project on the Force space"
   ]
  },
  {
   "cell_type": "code",
   "execution_count": 21,
   "metadata": {},
   "outputs": [],
   "source": [
    "angle_set = np.deg2rad(np.arange(0, 360, 45))  # 8 directions\n",
    "#angle_set = np.deg2rad(np.array([0,45,60,75,90,105,120,135,180,225,315]))\n",
    "color_list = [plt.cm.brg(cond / (2 * np.pi)) for cond in angle_set]\n",
    "n_cond = len(angle_set)\n",
    "\n",
    "# Create a scatter plot\n",
    "plt.figure()\n",
    "for i in range(n_cond):\n",
    "    plt.plot(data_p[0][i,0], data_p[0][i,1],'.', markersize=30, color=color_list[i])\n",
    "    plt.plot(data_p[1][i,0], data_p[1][i,1],'d', markersize=10, markerfacecolor=color_list[i])\n",
    "    plt.plot(data_p[2][i,0], data_p[2][i,1],'.', markersize=30, color=color_list[i],alpha=0.5)\n",
    "    plt.plot(data_p[3][i,0], data_p[3][i,1],'d', markersize=10, markerfacecolor=color_list[i],alpha=0.5)\n",
    "    plt.plot(data_p[4][i,0], data_p[4][i,1],'>', markersize=10, markerfacecolor=color_list[i],alpha=0.5)\n",
    "\n",
    "plt.xlabel('TDR Axis 1')\n",
    "plt.ylabel('TDR Axis 2')\n",
    "plt.title('Neural States in TDR Subspace')\n",
    "\n",
    "plt.show()"
   ]
  },
  {
   "cell_type": "markdown",
   "metadata": {},
   "source": [
    "# Better visualization"
   ]
  },
  {
   "cell_type": "code",
   "execution_count": 3,
   "metadata": {},
   "outputs": [],
   "source": [
    "import PcmPy as pcm\n",
    "labels = ['NF1','FF1','NF2','FF2','FF2-']\n",
    "\n",
    "rdm_avg = np.mean(np.stack(rdms,axis=0),axis=0)\n",
    "rdm_m = squareform(rdm_avg)\n",
    "\n",
    "n_cond = rdm_m.shape[0]\n",
    "\n",
    "H = np.eye(n_cond) - np.ones((n_cond,n_cond))/n_cond\n",
    "G = -0.5*H@rdm_m@H\n",
    "\n",
    "# np.sum(pcm.G_to_dist(G)-rdm_m) # sanity check\n",
    "W,Glam = pcm.classical_mds(G)\n",
    "\n",
    "fig,ax = plt.subplots(1,1,figsize=(5,5))\n",
    "\n",
    "\n",
    "plt.scatter(W[:,0],W[:,1])\n",
    "ax.set_aspect('equal')\n",
    "\n",
    "for i, label in enumerate(labels):\n",
    "    plt.annotate(label, (W[i,0],W[i,1]))\n",
    "plt.show()"
   ]
  },
  {
   "cell_type": "code",
   "execution_count": 14,
   "metadata": {},
   "outputs": [],
   "source": [
    "# Assuming T is your DataFrame\n",
    "sb.boxplot(x='phase', y='us', data=T)\n",
    "plt.show()"
   ]
  },
  {
   "cell_type": "code",
   "execution_count": 13,
   "metadata": {},
   "outputs": [
    {
     "name": "stdout",
     "output_type": "stream",
     "text": [
      "T-statistic: 17.847697449031728\n",
      "P-value: 8.258839175135685e-40\n"
     ]
    }
   ],
   "source": [
    "sample1 = T.us[T.phase == 'NF1'].to_numpy()\n",
    "sample2 = T.us[T.phase == 'FF1'].to_numpy()\n",
    "sample3 = T.us[T.phase == 'NF2'].to_numpy()\n",
    "sample4 = T.us[T.phase == 'FF2'].to_numpy()\n",
    "sample5 = T.us[T.phase == 'FF2-'].to_numpy()\n",
    "\n",
    "# Perform paired t-test\n",
    "t_statistic, p_value = stats.ttest_rel(sample3, sample1)\n",
    "\n",
    "print(\"T-statistic:\", t_statistic)\n",
    "print(\"P-value:\", p_value)"
   ]
  },
  {
   "cell_type": "code",
   "execution_count": null,
   "metadata": {},
   "outputs": [],
   "source": []
  }
 ],
 "metadata": {
  "kernelspec": {
   "display_name": "dl",
   "language": "python",
   "name": "python3"
  },
  "language_info": {
   "codemirror_mode": {
    "name": "ipython",
    "version": 3
   },
   "file_extension": ".py",
   "mimetype": "text/x-python",
   "name": "python",
   "nbconvert_exporter": "python",
   "pygments_lexer": "ipython3",
   "version": "3.11.5"
  }
 },
 "nbformat": 4,
 "nbformat_minor": 2
}
