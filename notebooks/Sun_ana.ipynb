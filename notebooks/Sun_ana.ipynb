{
 "cells": [
  {
   "cell_type": "code",
   "execution_count": 1,
   "metadata": {},
   "outputs": [],
   "source": [
    "import os\n",
    "import sys \n",
    "sys.path.append(os.path.abspath('..'))\n",
    "from get_utils import get_data, get_dir\n",
    "import numpy as np\n",
    "import PcmPy as pcm\n",
    "import matplotlib.pyplot as plt\n",
    "from scipy.spatial.distance import pdist, squareform\n",
    "import pandas as pd\n",
    "import seaborn as sb\n",
    "import scipy.stats as stats\n",
    "from tdr import build_tdr, project_onto_map, orth_wrt_map\n",
    "import torch as th\n",
    "import numpy as np\n",
    "\n",
    "\n",
    "#%matplotlib widget\n",
    "#%matplotlib qt\n",
    "%matplotlib inline\n",
    "\n",
    "fontsize_label = 18\n",
    "fontsize_tick = 15\n",
    "fontsize_legend = 12\n",
    "\n",
    "\n",
    "\n",
    "save_fig = '/Users/mahdiyar/Diedrichsenlab Dropbox/Mahdiyar Shahbazi/Conferences/NCM2024_Mahdiyar/figures'"
   ]
  },
  {
   "cell_type": "code",
   "execution_count": 2,
   "metadata": {},
   "outputs": [],
   "source": [
    "folder_name = 'Sim_simple2'\n",
    "folder_name = 'Sim_simp_128'\n",
    "\n",
    "num_hidden = 128\n",
    "\n",
    "seed = 100\n",
    "\n",
    "ff_coef = [0,8,0,8]\n",
    "phase = {'NF1':[0],'FF1':[8],'NF2':[0],'FF2':[8]}\n",
    "labels = ['NF1','FF1','NF2','FF2']\n",
    "\n",
    "T = pd.DataFrame()\n",
    "\n",
    "N_idx = 14 # 16\n",
    "F_idx = 25 # 25\n",
    "\n",
    "rdms = []\n",
    "for mn in range(0,40):\n",
    "    if mn==19 or mn==22 or mn==32:\n",
    "        continue\n",
    "    model_name = \"model{:02d}\".format(mn)\n",
    "\n",
    "    # 0. load muscle space\n",
    "    n_muscle = 6\n",
    "    weight_file,_,_= get_dir(folder_name,model_name,'NF1',0)\n",
    "    W = th.load(weight_file)['fc.weight'].numpy()\n",
    "    _, _, Vh = np.linalg.svd(W, full_matrices=True)\n",
    "    V = Vh.T\n",
    "    P = V[:,:n_muscle] # output potent:  neurons x n_muscle\n",
    "    #N = V[:,n_muscle:].T # output null space: ...x neurons\n",
    "\n",
    "    # 1. Estimating TDR axes\n",
    "    # U2 = get_data(folder_name,model_name,{'NF1':[0]},[0]\n",
    "    #               ,batch_size=400,catch_trial_perc=0,condition='train',go_cue_random=False,seed=seed) # ,batch_size=300,catch_trial_perc=0,condition='train',go_cue_random=False,seed=seed\n",
    "    \n",
    "    # N = np.array(U2[0]['all_hidden'])[:,N_idx,:]\n",
    "    # X = np.array(U2[0]['endpoint_force'])[:,F_idx,:]\n",
    "    # tdr0 = build_tdr(X,N)\n",
    "\n",
    "    # 1. Load data\n",
    "    U = get_data(folder_name,model_name,phase,ff_coef,num_hidden=num_hidden) # ,batch_size=300,catch_trial_perc=0,condition='train',go_cue_random=False,seed=seed\n",
    "    data = []\n",
    "    force = []\n",
    "    for i in range(len(U)):\n",
    "        data.append(np.array(U[i]['all_hidden'])[:,N_idx,:])\n",
    "        force.append(np.array(U[i]['endpoint_force'])[:,F_idx,:])\n",
    "    \n",
    "    # 1.1 build TDR\n",
    "    combined_N = np.vstack(data)\n",
    "    mean_N = np.mean(combined_N, axis=0)\n",
    "\n",
    "    X = force[0] # NF1 force \n",
    "    N = data[0]-mean_N # NF1 hidden activity\n",
    "\n",
    "    tdr = build_tdr(X,N)\n",
    "    \n",
    "    # 2.1 projection onto TDR\n",
    "    data_p = project_onto_map(data,tdr,remove_mean=True)\n",
    "    \n",
    "    # RDM\n",
    "    D = np.stack(data_p)\n",
    "    dims = D.shape\n",
    "    D = D.reshape(dims[0],-1)\n",
    "    rdms.append(pdist(D))\n",
    "\n",
    "    # 2.2 uniform shift from NF1 to FF1\n",
    "    us = np.mean(data[1]-data[0],axis=0).reshape(-1,1)\n",
    "    us_orth_norm = orth_wrt_map(us,tdr) \n",
    "    #us_orth_norm = orth_wrt_map(us,P) # hear i want to try something different -P.mean(axis=0)\n",
    "\n",
    "    proj_onto_us = project_onto_map(data,us_orth_norm,remove_mean=False,mean_all=True)\n",
    "    u_mean = np.mean(np.array(proj_onto_us),axis=1).ravel()\n",
    "\n",
    "    d = {\n",
    "    'mn': [mn] * len(labels),  # Repeat mn for the length of labels\n",
    "    'phase': labels,  # Use labels directly\n",
    "    'us': u_mean.tolist()  # Convert u_mean Series to list\n",
    "    }\n",
    "\n",
    "    T = pd.concat([T, pd.DataFrame(d)], ignore_index=True)"
   ]
  },
  {
   "cell_type": "code",
   "execution_count": 4,
   "metadata": {},
   "outputs": [
    {
     "data": {
      "text/plain": [
       "<matplotlib.legend.Legend at 0x35a743a10>"
      ]
     },
     "execution_count": 4,
     "metadata": {},
     "output_type": "execute_result"
    },
    {
     "data": {
      "image/png": "[encoded data removed]",
      "text/plain": [
       "<Figure size 500x500 with 1 Axes>"
      ]
     },
     "metadata": {},
     "output_type": "display_data"
    },
    {
     "data": {
      "text/plain": [
       "<Figure size 640x480 with 0 Axes>"
      ]
     },
     "metadata": {},
     "output_type": "display_data"
    }
   ],
   "source": [
    "angle_set = np.deg2rad(np.arange(0, 360, 45))  # 8 directions\n",
    "color_list = [plt.cm.brg(cond / (2 * np.pi)) for cond in angle_set]\n",
    "n_cond = len(angle_set)\n",
    "\n",
    "# Create a scatter plot\n",
    "\n",
    "fig,ax = plt.subplots(1,1,figsize=(5,5))\n",
    "\n",
    "plt.figure()\n",
    "for i in range(n_cond):\n",
    "    ax.plot(data_p[0][i,0], data_p[0][i,1],'.', markersize=30, color=color_list[i])\n",
    "    ax.plot(data_p[1][i,0], data_p[1][i,1],'d', markersize=10, markerfacecolor=color_list[i])\n",
    "    ax.plot(data_p[2][i,0], data_p[2][i,1],'.', markersize=30, color=color_list[i],alpha=0.5)\n",
    "    ax.plot(data_p[3][i,0], data_p[3][i,1],'d', markersize=10, markerfacecolor=color_list[i],alpha=0.5)\n",
    "    if i == n_cond-1:\n",
    "        ax.plot(data_p[0][i,0], data_p[0][i,1],'.', markersize=30, color=color_list[i],label='NF1')\n",
    "        ax.plot(data_p[1][i,0], data_p[1][i,1],'d', markersize=10, markerfacecolor=color_list[i],label='FF1')\n",
    "        ax.plot(data_p[2][i,0], data_p[2][i,1],'.', markersize=30, color=color_list[i],alpha=0.5,label='NF2')\n",
    "        ax.plot(data_p[3][i,0], data_p[3][i,1],'d', markersize=10, markerfacecolor=color_list[i],alpha=0.5,label='FF2')\n",
    "\n",
    "\n",
    "\n",
    "\n",
    "ax.spines['top'].set_visible(False)\n",
    "ax.spines['right'].set_visible(False)\n",
    "ax.spines['left'].set_visible(False)\n",
    "ax.spines['bottom'].set_visible(False)\n",
    "ax.set_aspect('equal')\n",
    "ax.set_xticklabels([])\n",
    "ax.set_yticklabels([])\n",
    "ax.tick_params(left = False,bottom = False) \n",
    "ax.set_xlabel('TDR Axis 1', fontsize = fontsize_label)\n",
    "ax.set_ylabel('TDR Axis 2', fontsize = fontsize_label)\n",
    "\n",
    "ax.legend(loc='lower left', fontsize=fontsize_legend,frameon=False)\n",
    "# plt.xlabel('TDR Axis 1')\n",
    "# plt.ylabel('TDR Axis 2')\n",
    "# plt.title('Neural States in TDR Subspace')\n",
    "\n",
    "#fig.savefig(os.path.join(save_fig,'tdr.pdf'),dpi=300,bbox_inches='tight')"
   ]
  },
  {
   "cell_type": "markdown",
   "metadata": {},
   "source": [
    "# Better visualization"
   ]
  },
  {
   "cell_type": "code",
   "execution_count": 3,
   "metadata": {},
   "outputs": [
    {
     "name": "stdout",
     "output_type": "stream",
     "text": [
      "T-statistic: -8.834927464086752\n",
      "P-value: 1.5251882852535694e-10\n"
     ]
    },
    {
     "data": {
      "image/png": "[encoded data removed]",
      "text/plain": [
       "<Figure size 500x500 with 2 Axes>"
      ]
     },
     "metadata": {},
     "output_type": "display_data"
    }
   ],
   "source": [
    "# 1 . MDS\n",
    "\n",
    "rdm_avg = np.mean(np.stack(rdms,axis=0),axis=0)\n",
    "rdm_m = squareform(rdm_avg)\n",
    "\n",
    "n_cond = rdm_m.shape[0]\n",
    "\n",
    "H = np.eye(n_cond) - np.ones((n_cond,n_cond))/n_cond\n",
    "G = -0.5*H@rdm_m@H\n",
    "\n",
    "W,Glam = pcm.classical_mds(G)\n",
    "\n",
    "\n",
    "# 2 . Distance\n",
    "select = [0,5]\n",
    "label = []\n",
    "for i in range(len(labels)):\n",
    "    for j in range(i + 1, len(labels)):\n",
    "        pair = f'({labels[i]},{labels[j]})'\n",
    "        label.append(pair)\n",
    "\n",
    "L = pd.DataFrame()\n",
    "for i in range(len(rdms)):\n",
    "    for j in select:\n",
    "        d = {'m':[i],'ln':[label[j]],'d':[rdms[i][j]]}\n",
    "        L = pd.concat([L,pd.DataFrame(d)],ignore_index=True)\n",
    "\n",
    "\n",
    "\n",
    "# FIGURE\n",
    "fig,ax = plt.subplots(1,2,figsize=(5,5))\n",
    "\n",
    "# Axis 1\n",
    "ax[0].scatter(W[:,0],W[:,1])\n",
    "ax[0].set_aspect('equal')\n",
    "\n",
    "for i, label in enumerate(labels):\n",
    "    ax[0].annotate(label, (W[i,0],W[i,1]))\n",
    "\n",
    "# Axis 2\n",
    "sb.barplot(x='ln',y='d',data=L,hue='ln',width=0.5,ax=ax[1])\n",
    "\n",
    "# TTEST\n",
    "sample1 = L.d[L.ln == '(NF1,FF1)'].to_numpy()\n",
    "sample2 = L.d[L.ln == '(NF2,FF2)'].to_numpy()\n",
    "sample3 = L.d[L.ln == '(NF2,FF2-)'].to_numpy()\n",
    "\n",
    "t_statistic, p_value = stats.ttest_rel(sample1, sample2)\n",
    "\n",
    "print(\"T-statistic:\",t_statistic)\n",
    "print(\"P-value:\",p_value)"
   ]
  },
  {
   "cell_type": "code",
   "execution_count": 7,
   "metadata": {},
   "outputs": [
    {
     "name": "stdout",
     "output_type": "stream",
     "text": [
      "T-statistic: -7.490929982602078\n",
      "P-value: 4.5826156260947635e-09\n"
     ]
    }
   ],
   "source": [
    "sample1 = T.us[T.phase == 'NF1'].to_numpy()\n",
    "sample2 = T.us[T.phase == 'FF1'].to_numpy()\n",
    "sample3 = T.us[T.phase == 'NF2'].to_numpy()\n",
    "sample4 = T.us[T.phase == 'FF2'].to_numpy()\n",
    "sample5 = T.us[T.phase == 'FF2-'].to_numpy()\n",
    "\n",
    "\n",
    "# Perform paired t-test\n",
    "t_statistic, p_value = stats.ttest_rel(sample1, sample3)\n",
    "\n",
    "print(\"T-statistic:\", t_statistic)\n",
    "print(\"P-value:\", p_value)"
   ]
  },
  {
   "cell_type": "code",
   "execution_count": 5,
   "metadata": {},
   "outputs": [
    {
     "data": {
      "text/plain": [
       "TtestResult(statistic=6.712405498354692, pvalue=2.045091977555669e-06, df=19)"
      ]
     },
     "execution_count": 5,
     "metadata": {},
     "output_type": "execute_result"
    }
   ],
   "source": [
    "saving_neural = sample3-sample1\n",
    "stats.ttest_1samp(saving_neural,0)"
   ]
  },
  {
   "cell_type": "code",
   "execution_count": 3,
   "metadata": {},
   "outputs": [
    {
     "data": {
      "text/plain": [
       "TtestResult(statistic=10.83512820573988, pvalue=1.4241517849347618e-09, df=19)"
      ]
     },
     "execution_count": 3,
     "metadata": {},
     "output_type": "execute_result"
    }
   ],
   "source": [
    "from get_utils import get_loss\n",
    "\n",
    "phases = {'FF1':[8],'FF2':[8]}\n",
    "num_model = 20\n",
    "loss_type = 'position'\n",
    "folder_name = 'Sim_all_128'\n",
    "\n",
    "loss = get_loss(folder_name,num_model,phases,loss_type='position',w=1)\n",
    "\n",
    "\n",
    "\n",
    "\n",
    "\n",
    "saving_behav = np.array(loss['FF1'])[:,0] - np.array(loss['FF2'])[:,0]\n",
    "stats.ttest_1samp(saving_behav,0)"
   ]
  },
  {
   "cell_type": "code",
   "execution_count": 7,
   "metadata": {},
   "outputs": [
    {
     "data": {
      "image/png": "[encoded data removed]",
      "text/plain": [
       "<Figure size 640x480 with 1 Axes>"
      ]
     },
     "metadata": {},
     "output_type": "display_data"
    },
    {
     "name": "stdout",
     "output_type": "stream",
     "text": [
      "                            OLS Regression Results                            \n",
      "==============================================================================\n",
      "Dep. Variable:                      y   R-squared:                       0.006\n",
      "Model:                            OLS   Adj. R-squared:                 -0.049\n",
      "Method:                 Least Squares   F-statistic:                    0.1160\n",
      "Date:                Sat, 23 Mar 2024   Prob (F-statistic):              0.737\n",
      "Time:                        20:10:39   Log-Likelihood:                 26.922\n",
      "No. Observations:                  20   AIC:                            -49.84\n",
      "Df Residuals:                      18   BIC:                            -47.85\n",
      "Df Model:                           1                                         \n",
      "Covariance Type:            nonrobust                                         \n",
      "==============================================================================\n",
      "                 coef    std err          t      P>|t|      [0.025      0.975]\n",
      "------------------------------------------------------------------------------\n",
      "const          0.0847      0.040      2.130      0.047       0.001       0.168\n",
      "x1             0.0105      0.031      0.341      0.737      -0.054       0.075\n",
      "==============================================================================\n",
      "Omnibus:                        0.200   Durbin-Watson:                   2.080\n",
      "Prob(Omnibus):                  0.905   Jarque-Bera (JB):                0.401\n",
      "Skew:                           0.093   Prob(JB):                        0.818\n",
      "Kurtosis:                       2.331   Cond. No.                         5.35\n",
      "==============================================================================\n",
      "\n",
      "Notes:\n",
      "[1] Standard Errors assume that the covariance matrix of the errors is correctly specified.\n"
     ]
    }
   ],
   "source": [
    "from sklearn.linear_model import LinearRegression\n",
    "\n",
    "# Reshape the data if needed\n",
    "saving_behav = saving_behav.reshape(-1, 1)\n",
    "saving_neural = saving_neural.reshape(-1,1)\n",
    "\n",
    "# Create a linear regression model\n",
    "model = LinearRegression()\n",
    "\n",
    "# Fit the model to the data\n",
    "model.fit(saving_behav, saving_neural)\n",
    "\n",
    "# Make predictions\n",
    "predictions = model.predict(saving_behav)\n",
    "\n",
    "# Plot the data and the regression line\n",
    "plt.scatter(saving_behav, saving_neural, label='Actual data')\n",
    "plt.plot(saving_behav, predictions, color='red', label='Linear regression line')\n",
    "plt.xlabel('Saving Behavior')\n",
    "plt.ylabel('Saving Neural')\n",
    "plt.legend()\n",
    "plt.show()\n",
    "\n",
    "\n",
    "import statsmodels.api as sm\n",
    "\n",
    "saving_behav = saving_behav.reshape(-1, 1)\n",
    "\n",
    "# Add a constant term to the input for the intercept\n",
    "X = sm.add_constant(saving_behav)\n",
    "\n",
    "# Fit the model to the data using statsmodels\n",
    "model = sm.OLS(saving_neural, X).fit()\n",
    "\n",
    "# Get the summary of the regression\n",
    "print(model.summary())"
   ]
  },
  {
   "cell_type": "code",
   "execution_count": null,
   "metadata": {},
   "outputs": [],
   "source": []
  }
 ],
 "metadata": {
  "kernelspec": {
   "display_name": "dl",
   "language": "python",
   "name": "python3"
  },
  "language_info": {
   "codemirror_mode": {
    "name": "ipython",
    "version": 3
   },
   "file_extension": ".py",
   "mimetype": "text/x-python",
   "name": "python",
   "nbconvert_exporter": "python",
   "pygments_lexer": "ipython3",
   "version": "3.11.5"
  }
 },
 "nbformat": 4,
 "nbformat_minor": 2
}
