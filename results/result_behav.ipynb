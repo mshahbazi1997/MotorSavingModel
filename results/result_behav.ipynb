{
 "cells": [
  {
   "cell_type": "markdown",
   "metadata": {},
   "source": [
    "# #1: create an environment and select the kernel\n",
    "Here are the command I use for creating an env:\n",
    "\n",
    "`conda create --name MotorSavings python=3.10`\n",
    "\n",
    "Once you done that make sure that your notebook is connected to your env. You may need to close and reopen your program.\n",
    "# Install all required packages\n",
    "`pip install -r ../requirements.txt`"
   ]
  },
  {
   "cell_type": "code",
   "execution_count": 1,
   "metadata": {},
   "outputs": [
    {
     "name": "stdout",
     "output_type": "stream",
     "text": [
      "Requirement already satisfied: matplotlib==3.8.0 in /Users/mahdiyarshahbazi/miniconda3/envs/MotorSavings/lib/python3.10/site-packages (from -r ../requirements.txt (line 1)) (3.8.0)\n",
      "Requirement already satisfied: seaborn==0.13.0 in /Users/mahdiyarshahbazi/miniconda3/envs/MotorSavings/lib/python3.10/site-packages (from -r ../requirements.txt (line 2)) (0.13.0)\n",
      "Requirement already satisfied: pandas==2.1.1 in /Users/mahdiyarshahbazi/miniconda3/envs/MotorSavings/lib/python3.10/site-packages (from -r ../requirements.txt (line 3)) (2.1.1)\n",
      "Requirement already satisfied: numpy==1.26.0 in /Users/mahdiyarshahbazi/miniconda3/envs/MotorSavings/lib/python3.10/site-packages (from -r ../requirements.txt (line 4)) (1.26.0)\n",
      "Requirement already satisfied: torch<2.3,>=2.2 in /Users/mahdiyarshahbazi/miniconda3/envs/MotorSavings/lib/python3.10/site-packages (from -r ../requirements.txt (line 5)) (2.2.2)\n",
      "Requirement already satisfied: scipy==1.11.3 in /Users/mahdiyarshahbazi/miniconda3/envs/MotorSavings/lib/python3.10/site-packages (from -r ../requirements.txt (line 6)) (1.11.3)\n",
      "Requirement already satisfied: scikit-learn==1.3.2 in /Users/mahdiyarshahbazi/miniconda3/envs/MotorSavings/lib/python3.10/site-packages (from -r ../requirements.txt (line 7)) (1.3.2)\n",
      "Requirement already satisfied: motornet==0.2.0 in /Users/mahdiyarshahbazi/miniconda3/envs/MotorSavings/lib/python3.10/site-packages (from -r ../requirements.txt (line 8)) (0.2.0)\n",
      "Requirement already satisfied: tqdm==4.66.1 in /Users/mahdiyarshahbazi/miniconda3/envs/MotorSavings/lib/python3.10/site-packages (from -r ../requirements.txt (line 9)) (4.66.1)\n",
      "Requirement already satisfied: contourpy>=1.0.1 in /Users/mahdiyarshahbazi/miniconda3/envs/MotorSavings/lib/python3.10/site-packages (from matplotlib==3.8.0->-r ../requirements.txt (line 1)) (1.2.1)\n",
      "Requirement already satisfied: cycler>=0.10 in /Users/mahdiyarshahbazi/miniconda3/envs/MotorSavings/lib/python3.10/site-packages (from matplotlib==3.8.0->-r ../requirements.txt (line 1)) (0.12.1)\n",
      "Requirement already satisfied: fonttools>=4.22.0 in /Users/mahdiyarshahbazi/miniconda3/envs/MotorSavings/lib/python3.10/site-packages (from matplotlib==3.8.0->-r ../requirements.txt (line 1)) (4.51.0)\n",
      "Requirement already satisfied: kiwisolver>=1.0.1 in /Users/mahdiyarshahbazi/miniconda3/envs/MotorSavings/lib/python3.10/site-packages (from matplotlib==3.8.0->-r ../requirements.txt (line 1)) (1.4.5)\n",
      "Requirement already satisfied: packaging>=20.0 in /Users/mahdiyarshahbazi/miniconda3/envs/MotorSavings/lib/python3.10/site-packages (from matplotlib==3.8.0->-r ../requirements.txt (line 1)) (24.0)\n",
      "Requirement already satisfied: pillow>=6.2.0 in /Users/mahdiyarshahbazi/miniconda3/envs/MotorSavings/lib/python3.10/site-packages (from matplotlib==3.8.0->-r ../requirements.txt (line 1)) (10.3.0)\n",
      "Requirement already satisfied: pyparsing>=2.3.1 in /Users/mahdiyarshahbazi/miniconda3/envs/MotorSavings/lib/python3.10/site-packages (from matplotlib==3.8.0->-r ../requirements.txt (line 1)) (3.1.2)\n",
      "Requirement already satisfied: python-dateutil>=2.7 in /Users/mahdiyarshahbazi/miniconda3/envs/MotorSavings/lib/python3.10/site-packages (from matplotlib==3.8.0->-r ../requirements.txt (line 1)) (2.9.0)\n",
      "Requirement already satisfied: pytz>=2020.1 in /Users/mahdiyarshahbazi/miniconda3/envs/MotorSavings/lib/python3.10/site-packages (from pandas==2.1.1->-r ../requirements.txt (line 3)) (2024.1)\n",
      "Requirement already satisfied: tzdata>=2022.1 in /Users/mahdiyarshahbazi/miniconda3/envs/MotorSavings/lib/python3.10/site-packages (from pandas==2.1.1->-r ../requirements.txt (line 3)) (2024.1)\n",
      "Requirement already satisfied: joblib>=1.1.1 in /Users/mahdiyarshahbazi/miniconda3/envs/MotorSavings/lib/python3.10/site-packages (from scikit-learn==1.3.2->-r ../requirements.txt (line 7)) (1.4.0)\n",
      "Requirement already satisfied: threadpoolctl>=2.0.0 in /Users/mahdiyarshahbazi/miniconda3/envs/MotorSavings/lib/python3.10/site-packages (from scikit-learn==1.3.2->-r ../requirements.txt (line 7)) (3.5.0)\n",
      "Requirement already satisfied: gymnasium in /Users/mahdiyarshahbazi/miniconda3/envs/MotorSavings/lib/python3.10/site-packages (from motornet==0.2.0->-r ../requirements.txt (line 8)) (0.29.1)\n",
      "Requirement already satisfied: filelock in /Users/mahdiyarshahbazi/miniconda3/envs/MotorSavings/lib/python3.10/site-packages (from torch<2.3,>=2.2->-r ../requirements.txt (line 5)) (3.14.0)\n",
      "Requirement already satisfied: typing-extensions>=4.8.0 in /Users/mahdiyarshahbazi/miniconda3/envs/MotorSavings/lib/python3.10/site-packages (from torch<2.3,>=2.2->-r ../requirements.txt (line 5)) (4.11.0)\n",
      "Requirement already satisfied: sympy in /Users/mahdiyarshahbazi/miniconda3/envs/MotorSavings/lib/python3.10/site-packages (from torch<2.3,>=2.2->-r ../requirements.txt (line 5)) (1.12)\n",
      "Requirement already satisfied: networkx in /Users/mahdiyarshahbazi/miniconda3/envs/MotorSavings/lib/python3.10/site-packages (from torch<2.3,>=2.2->-r ../requirements.txt (line 5)) (3.3)\n",
      "Requirement already satisfied: jinja2 in /Users/mahdiyarshahbazi/miniconda3/envs/MotorSavings/lib/python3.10/site-packages (from torch<2.3,>=2.2->-r ../requirements.txt (line 5)) (3.1.3)\n",
      "Requirement already satisfied: fsspec in /Users/mahdiyarshahbazi/miniconda3/envs/MotorSavings/lib/python3.10/site-packages (from torch<2.3,>=2.2->-r ../requirements.txt (line 5)) (2024.3.1)\n",
      "Requirement already satisfied: six>=1.5 in /Users/mahdiyarshahbazi/miniconda3/envs/MotorSavings/lib/python3.10/site-packages (from python-dateutil>=2.7->matplotlib==3.8.0->-r ../requirements.txt (line 1)) (1.16.0)\n",
      "Requirement already satisfied: cloudpickle>=1.2.0 in /Users/mahdiyarshahbazi/miniconda3/envs/MotorSavings/lib/python3.10/site-packages (from gymnasium->motornet==0.2.0->-r ../requirements.txt (line 8)) (3.0.0)\n",
      "Requirement already satisfied: farama-notifications>=0.0.1 in /Users/mahdiyarshahbazi/miniconda3/envs/MotorSavings/lib/python3.10/site-packages (from gymnasium->motornet==0.2.0->-r ../requirements.txt (line 8)) (0.0.4)\n",
      "Requirement already satisfied: MarkupSafe>=2.0 in /Users/mahdiyarshahbazi/miniconda3/envs/MotorSavings/lib/python3.10/site-packages (from jinja2->torch<2.3,>=2.2->-r ../requirements.txt (line 5)) (2.1.5)\n",
      "Requirement already satisfied: mpmath>=0.19 in /Users/mahdiyarshahbazi/miniconda3/envs/MotorSavings/lib/python3.10/site-packages (from sympy->torch<2.3,>=2.2->-r ../requirements.txt (line 5)) (1.3.0)\n"
     ]
    }
   ],
   "source": [
    "!pip install -r ../requirements.txt"
   ]
  },
  {
   "cell_type": "markdown",
   "metadata": {},
   "source": [
    "# 1- Train the models"
   ]
  },
  {
   "cell_type": "code",
   "execution_count": 9,
   "metadata": {},
   "outputs": [],
   "source": [
    "import os\n",
    "import sys \n",
    "sys.path.append(os.path.abspath('..'))\n",
    "from get_utils import return_ignore, get_loss\n",
    "from plot import plot_learning\n",
    "import matplotlib.pyplot as plt\n",
    "from utils import get_initial_loss, get_rate\n",
    "import pandas as pd\n",
    "import seaborn as sb\n",
    "\n",
    "\n",
    "\n",
    "#%matplotlib qt\n",
    "#%matplotlib widget\n",
    "%matplotlib inline"
   ]
  },
  {
   "cell_type": "markdown",
   "metadata": {},
   "source": [
    "# Directory info\n",
    "This is the format that I use for generating directory when I train models. I use the network size of 128 for all analysis."
   ]
  },
  {
   "cell_type": "code",
   "execution_count": 10,
   "metadata": {},
   "outputs": [],
   "source": [
    "folder_name = 'Sim_fixed_128'\n",
    "n_model = 40 # number of simulated networks\n",
    "sizes = [16,32,64,128,256]"
   ]
  },
  {
   "cell_type": "markdown",
   "metadata": {},
   "source": [
    "# Running all models for all phases of training and for different network sizes\n",
    "This could take almost one day, depending on your system. \n",
    "### Skip this if you already have your networks  "
   ]
  },
  {
   "cell_type": "code",
   "execution_count": 8,
   "metadata": {},
   "outputs": [
    {
     "name": "stdout",
     "output_type": "stream",
     "text": [
      "model00...model01...\n",
      "\n",
      "Training growing_up:  40%|████████            | 4/10 [00:09<00:13,  2.28s/batch]Batch 4/10 Done, mean position loss: 116.10464584827423\n",
      "Batch 4/10 Done, mean position loss: 121.01237058639526\n",
      "Training growing_up:  80%|████████████████    | 8/10 [00:18<00:04,  2.39s/batch]Batch 8/10 Done, mean position loss: 104.5529465675354\n",
      "Batch 8/10 Done, mean position loss: 118.0314508676529\n",
      "Training growing_up: 100%|███████████████████| 10/10 [00:24<00:00,  2.45s/batch]\n",
      "Done...\n",
      "Training growing_up: 100%|███████████████████| 10/10 [00:24<00:00,  2.46s/batch]\n",
      "Done...\n",
      "model00...\n",
      "model01...\n",
      "Training NF1:  40%|██████████▊                | 4/10 [00:11<00:17,  2.84s/batch]Batch 4/10 Done, mean position loss: 148.9085441827774\n",
      "Training NF1:  50%|█████████████▌             | 5/10 [00:14<00:15,  3.03s/batch]Batch 4/10 Done, mean position loss: 104.66710782051086\n",
      "Training NF1:  80%|█████████████████████▌     | 8/10 [00:22<00:05,  2.68s/batch]Batch 8/10 Done, mean position loss: 144.60908389091492\n",
      "Training NF1:  90%|████████████████████████▎  | 9/10 [00:24<00:02,  2.60s/batch]Batch 8/10 Done, mean position loss: 104.63903450965881\n",
      "Training NF1: 100%|██████████████████████████| 10/10 [00:27<00:00,  2.75s/batch]\n",
      "Done...\n",
      "Training NF1: 100%|██████████████████████████| 10/10 [00:27<00:00,  2.76s/batch]\n",
      "Done...\n",
      "model00...\n",
      "model01...\n",
      "Training FF1:  40%|██████████▊                | 4/10 [00:11<00:16,  2.72s/batch]Batch 4/10 Done, mean position loss: 105.70012426376343\n",
      "Training FF1:  50%|█████████████▌             | 5/10 [00:13<00:12,  2.56s/batch]Batch 4/10 Done, mean position loss: 127.96401357650757\n",
      "Training FF1:  80%|█████████████████████▌     | 8/10 [00:21<00:05,  2.51s/batch]Batch 8/10 Done, mean position loss: 105.55382061004639\n",
      "Training FF1:  90%|████████████████████████▎  | 9/10 [00:23<00:02,  2.53s/batch]Batch 8/10 Done, mean position loss: 124.94178104400635\n",
      "Training FF1: 100%|██████████████████████████| 10/10 [00:26<00:00,  2.64s/batch]\n",
      "Done...\n",
      "Training FF1: 100%|██████████████████████████| 10/10 [00:26<00:00,  2.65s/batch]\n",
      "Done...\n",
      "model00...\n",
      "model01...\n",
      "Training NF2:  40%|██████████▊                | 4/10 [00:10<00:15,  2.61s/batch]Batch 4/10 Done, mean position loss: 131.3327478170395\n",
      "Training NF2:  50%|█████████████▌             | 5/10 [00:12<00:12,  2.55s/batch]Batch 4/10 Done, mean position loss: 104.84581875801086\n",
      "Training NF2:  80%|█████████████████████▌     | 8/10 [00:20<00:05,  2.52s/batch]Batch 8/10 Done, mean position loss: 128.0828151702881\n",
      "Training NF2:  90%|████████████████████████▎  | 9/10 [00:22<00:02,  2.42s/batch]Batch 8/10 Done, mean position loss: 104.90793466567993\n",
      "Training NF2: 100%|██████████████████████████| 10/10 [00:25<00:00,  2.50s/batch]\n",
      "Done...\n",
      "Training NF2: 100%|██████████████████████████| 10/10 [00:25<00:00,  2.55s/batch]\n",
      "Done...\n",
      "model00...\n",
      "model01...\n",
      "Training FF2:  40%|██████████▊                | 4/10 [00:10<00:15,  2.53s/batch]Batch 4/10 Done, mean position loss: 116.71983575820923\n",
      "Training FF2:  50%|█████████████▌             | 5/10 [00:12<00:12,  2.48s/batch]Batch 4/10 Done, mean position loss: 105.38892245292664\n",
      "Training FF2:  80%|█████████████████████▌     | 8/10 [00:19<00:04,  2.38s/batch]Batch 8/10 Done, mean position loss: 114.93973278999329\n",
      "Training FF2:  90%|████████████████████████▎  | 9/10 [00:21<00:02,  2.32s/batch]Batch 8/10 Done, mean position loss: 105.3811902999878\n",
      "Training FF2: 100%|██████████████████████████| 10/10 [00:24<00:00,  2.40s/batch]\n",
      "Done...\n",
      "Training FF2: 100%|██████████████████████████| 10/10 [00:24<00:00,  2.42s/batch]\n",
      "Done...\n",
      "Traceback (most recent call last):\n",
      "  File \"/Users/mahdiyarshahbazi/Documents/GitHub/MotorSavingModel/results/../model.py\", line 295, in <module>\n",
      "    futures = {executor.submit(train, model_num=iteration, ff_coefficient=ff_coeff, phase=phase, n_batch=n_batch, \n",
      "  File \"/Users/mahdiyarshahbazi/Documents/GitHub/MotorSavingModel/results/../model.py\", line 296, in <dictcomp>\n",
      "    directory_name=directory_name, train_random=train_rand[i], num_hidden=num_hidden, start_again=start_again)\n",
      "IndexError: list index out of range\n"
     ]
    }
   ],
   "source": [
    "for n_s in sizes: # sizes\n",
    "    network_siz = n_s\n",
    "    !python ../model.py {1} {network_siz} {n_model} {0} {1}"
   ]
  },
  {
   "cell_type": "markdown",
   "metadata": {},
   "source": [
    "# General things\n",
    "\n",
    "You can specify a saving directory, basically the directory in which the figure can be saved.\n",
    "The base directory is **hard-coded** in the current version of the code.\n"
   ]
  },
  {
   "cell_type": "code",
   "execution_count": 11,
   "metadata": {},
   "outputs": [],
   "source": [
    "loss_type = 'lateral' # I chose lateral deviation as the loss function\n",
    "\n",
    "\n",
    "phases = {'NF1':[0],'FF1':[8],'NF2':[0],'FF2':[8]}\n",
    "palette_colors = {'FF1':(0,0.5,0),'FF2':(0.4,0.4,0.8),'NF1':(0,0,0),'NF2':(0,0,0)}\n",
    "\n",
    "\n",
    "fontsize_label = 8\n",
    "fontsize_tick = 8\n",
    "fontsize_legend = 8\n",
    "\n",
    "base_dir = os.path.join(os.path.expanduser('~'),'Documents','Data','MotorNet')\n",
    "save_fig = '/Users/mahdiyar/Dropbox (Personal)/MotorSavings/paper/figures_raw'\n",
    "if not os.path.exists(save_fig):\n",
    "    save_fig = os.getcwd()  # Set current directory as save_dir if save_dir doesn't exist"
   ]
  },
  {
   "cell_type": "markdown",
   "metadata": {},
   "source": [
    "# #1: Learing curves for all phases"
   ]
  },
  {
   "cell_type": "code",
   "execution_count": 8,
   "metadata": {},
   "outputs": [
    {
     "data": {
      "image/png": "[encoded data removed]",
      "text/plain": [
       "<Figure size 380x220 with 1 Axes>"
      ]
     },
     "metadata": {},
     "output_type": "display_data"
    }
   ],
   "source": [
    "ignore = return_ignore(folder_name,n_model) # sometimes some of cpus fail so we want to ignore those models\n",
    "loss = get_loss(folder_name,n_model,phases,loss_type=loss_type,w=1,target=None,ignore=ignore)\n",
    "\n",
    "\n",
    "# Plot learning\n",
    "fig, ax = plot_learning(loss,figsize=(3.8,2.2),show_saving=False,gap=5000,palette_colors=palette_colors)\n",
    "\n",
    "\n",
    "ax[0].set_xlabel('# Batches', fontsize = fontsize_label)\n",
    "ax[0].set_ylabel('Lateral deviation [mm]', fontsize = fontsize_label)\n",
    "ax[0].legend(title = '',frameon = False, bbox_to_anchor= (1,1), fontsize=fontsize_legend)\n",
    "ax[0].legend().set_visible(False)\n",
    "ax[0].xaxis.set_tick_params(labelsize=fontsize_tick)\n",
    "ax[0].yaxis.set_tick_params(labelsize=fontsize_tick)\n",
    "\n",
    "ax[0].spines['top'].set_visible(False)\n",
    "ax[0].spines['right'].set_visible(False)\n",
    "plt.tick_params(left = False) \n",
    "\n",
    "plt.tight_layout()\n",
    "plt.show()\n",
    "fig.savefig(os.path.join(save_fig,'learning_curve.pdf'),dpi=300,bbox_inches='tight')"
   ]
  },
  {
   "cell_type": "markdown",
   "metadata": {},
   "source": [
    "# #2: Do we have savings? \n",
    "Get the initial values of the loss and also the learning rate. It saves the result as a dataframe so that we don't need to run it every time."
   ]
  },
  {
   "cell_type": "code",
   "execution_count": 12,
   "metadata": {},
   "outputs": [],
   "source": [
    "# Create the dataframe\n",
    "D = pd.DataFrame()\n",
    "\n",
    "for n_s in sizes:\n",
    "    network_siz = n_s\n",
    "    fn = f'Sim_fixed_{network_siz}'\n",
    "\n",
    "    ignore = return_ignore(fn,n_model)\n",
    "    loss = get_loss(fn,n_model,phases,loss_type=loss_type,w=1,target=None,ignore=ignore)\n",
    "\n",
    "    R = get_rate(loss,w=5,check_fit=False)\n",
    "    I = get_initial_loss(loss)\n",
    "\n",
    "    R['size'] = network_siz\n",
    "    I['size'] = network_siz\n",
    "\n",
    "    T = pd.concat([R,I], ignore_index=True)\n",
    "\n",
    "    D = pd.concat([D,T], ignore_index=True)\n",
    "\n",
    "D.to_csv(base_dir+'/model_loss.csv',index=False)"
   ]
  },
  {
   "cell_type": "markdown",
   "metadata": {},
   "source": [
    "# Plot the result only for network of size 128"
   ]
  },
  {
   "cell_type": "code",
   "execution_count": 27,
   "metadata": {},
   "outputs": [
    {
     "data": {
      "image/png": "[encoded data removed]",
      "text/plain": [
       "<Figure size 200x200 with 1 Axes>"
      ]
     },
     "metadata": {},
     "output_type": "display_data"
    }
   ],
   "source": [
    "# Generate the plots\n",
    "D = pd.read_csv(base_dir+'/model_loss.csv')\n",
    "feature = 'rate' # you can select 'init' or 'rate'\n",
    "\n",
    "filter_condition = (\n",
    "    (D['phase'].isin(['FF1', 'FF2'])) &\n",
    "    (D['size'] == 128) &\n",
    "    (D['feature'] == feature) # you can select 'init' or 'rate'\n",
    ")\n",
    "T = D[filter_condition].reset_index(drop=True)\n",
    "\n",
    "# plot \n",
    "fig, ax = plt.subplots(1, 1, figsize=(2, 2))\n",
    "\n",
    "for id, data in T.groupby('mn'):\n",
    "    ff1_value = data[data['phase'] == 'FF1']['value'].values[0]\n",
    "    ff2_value = data[data['phase'] == 'FF2']['value'].values[0]\n",
    "    ax.plot(['FF1', 'FF2'], [ff1_value, ff2_value], color='k',linewidth=0.5)\n",
    "    \n",
    "sb.barplot(x='phase', y='value', data=T, hue='phase', width=0.5, ax=ax, palette=palette_colors,errorbar=None)\n",
    "\n",
    "\n",
    "\n",
    "ax.spines['top'].set_visible(False)\n",
    "ax.spines['right'].set_visible(False)\n",
    "ax.xaxis.set_tick_params(labelsize=fontsize_tick)\n",
    "ax.yaxis.set_tick_params(labelsize=fontsize_tick)\n",
    "ax.tick_params(bottom=False)\n",
    "ax.set_xlabel('Phase', fontsize=fontsize_label)\n",
    "\n",
    "if feature == 'rate':\n",
    "    ax.set_ylabel('Learning rate [1/batch]', fontsize=fontsize_label)\n",
    "    #ax.set_ylim([0,0.0005])\n",
    "    fig.savefig(os.path.join(save_fig, 'saving_rate.pdf'), dpi=300, bbox_inches='tight')\n",
    "else:\n",
    "    ax.set_ylabel('Initial lateral deviation [mm]', fontsize=fontsize_label)\n",
    "    ax.set_ylim([0.02,0.04])\n",
    "    fig.savefig(os.path.join(save_fig, 'saving_init.pdf'), dpi=300, bbox_inches='tight')\n",
    "\n"
   ]
  },
  {
   "cell_type": "markdown",
   "metadata": {},
   "source": [
    "# Plot the result only for networks of all sizes"
   ]
  },
  {
   "cell_type": "code",
   "execution_count": 59,
   "metadata": {},
   "outputs": [
    {
     "data": {
      "image/png": "[encoded data removed]",
      "text/plain": [
       "<Figure size 270x180 with 1 Axes>"
      ]
     },
     "metadata": {},
     "output_type": "display_data"
    }
   ],
   "source": [
    "D = pd.read_csv(base_dir+'/model_loss.csv')\n",
    "feature = 'rate' # you can select 'init' or 'rate'\n",
    "\n",
    "filter_condition = (\n",
    "    (D['phase'].isin(['FF1', 'FF2'])) &\n",
    "    (D['feature'] == feature) # you can select 'init' or 'rate'\n",
    ")\n",
    "T = D[filter_condition].reset_index(drop=True)\n",
    "\n",
    "\n",
    "fig, ax = plt.subplots(1, 1, figsize=(2.7, 1.8))\n",
    "sb.barplot(x='size', y='value', data=T, hue='phase', width=0.5, ax=ax, palette=palette_colors) # ,errorbar=None\n",
    "\n",
    "\n",
    "ax.spines['top'].set_visible(False)\n",
    "ax.spines['right'].set_visible(False)\n",
    "ax.xaxis.set_tick_params(labelsize=fontsize_tick)\n",
    "ax.yaxis.set_tick_params(labelsize=fontsize_tick)\n",
    "ax.tick_params(bottom=False)\n",
    "ax.set_xlabel('# hidden unit', fontsize=fontsize_label)\n",
    "ax.legend().set_visible(False)\n",
    "\n",
    "if feature =='init':\n",
    "    ax.set_ylabel('Initial lateral deviation [mm]', fontsize=fontsize_label)\n",
    "    fig.savefig(os.path.join(save_fig, 'saving_all_init.pdf'), dpi=300, bbox_inches='tight')\n",
    "else:\n",
    "    ax.set_ylabel('Learning rate [1/batch]', fontsize=fontsize_label)\n",
    "    fig.savefig(os.path.join(save_fig, 'saving_all_rate.pdf'), dpi=300, bbox_inches='tight')\n",
    "\n",
    "\n",
    "#fig.savefig(os.path.join(save_fig, 'perf_vs_size.pdf'), dpi=300, bbox_inches='tight')"
   ]
  },
  {
   "cell_type": "markdown",
   "metadata": {},
   "source": [
    "# % of network that showed saving vs. network size"
   ]
  },
  {
   "cell_type": "code",
   "execution_count": 58,
   "metadata": {},
   "outputs": [
    {
     "data": {
      "image/png": "[encoded data removed]",
      "text/plain": [
       "<Figure size 270x180 with 1 Axes>"
      ]
     },
     "metadata": {},
     "output_type": "display_data"
    }
   ],
   "source": [
    "D = pd.read_csv(base_dir+'/model_loss.csv')\n",
    "feature = 'init' # you can select 'init' or 'rate'\n",
    "\n",
    "filter_condition = (\n",
    "    (D['phase'].isin(['FF1','FF2'])) &\n",
    "    (D['feature'] == feature) # you can select 'init' or 'rate'\n",
    ")\n",
    "T = D[filter_condition].reset_index(drop=True)\n",
    "\n",
    "ff1_data = T[T['phase']=='FF1']\n",
    "ff2_data = T[T['phase']=='FF2']\n",
    "\n",
    "merged_data = pd.merge(ff1_data,ff2_data,on='size',suffixes=('_ff1', '_ff2'))\n",
    "\n",
    "# Calculate the difference in 'loss'\n",
    "if feature == 'init':\n",
    "    merged_data['loss_difference'] = (merged_data['value_ff2']-merged_data['value_ff1']<0) \n",
    "else:\n",
    "    merged_data['loss_difference'] = (merged_data['value_ff2']-merged_data['value_ff1']>0)\n",
    "\n",
    "# Plotting\n",
    "fig, ax = plt.subplots(1, 1, figsize=(2.7, 1.8))\n",
    "sb.pointplot(x='size', y='loss_difference', data=merged_data, ax=ax,errorbar=None) #,errorbar=None\n",
    "ax.axhline(0.5, color='black', linestyle='--', label='Chance level')\n",
    "\n",
    "\n",
    "ax.spines['top'].set_visible(False)\n",
    "ax.spines['right'].set_visible(False)\n",
    "ax.xaxis.set_tick_params(labelsize=fontsize_tick)\n",
    "ax.yaxis.set_tick_params(labelsize=fontsize_tick)\n",
    "ax.tick_params(bottom = False) \n",
    "ax.set_xlabel('# hidden units', fontsize = fontsize_label)\n",
    "ax.set_ylabel('% of network with\\n savings', fontsize = fontsize_label)\n",
    "\n",
    "ax.legend(fontsize=fontsize_legend,loc='lower right',frameon = False)\n",
    "\n",
    "if feature == 'init':\n",
    "    fig.savefig(os.path.join(save_fig,'percent_init.pdf'),dpi=300,bbox_inches='tight')\n",
    "else:\n",
    "    fig.savefig(os.path.join(save_fig,'percent_rate.pdf'),dpi=300,bbox_inches='tight')\n",
    "\n",
    "#fig.savefig(os.path.join(save_fig,'saving_vs_size.pdf'),dpi=300,bbox_inches='tight')"
   ]
  }
 ],
 "metadata": {
  "kernelspec": {
   "display_name": "dl",
   "language": "python",
   "name": "python3"
  },
  "language_info": {
   "codemirror_mode": {
    "name": "ipython",
    "version": 3
   },
   "file_extension": ".py",
   "mimetype": "text/x-python",
   "name": "python",
   "nbconvert_exporter": "python",
   "pygments_lexer": "ipython3",
   "version": "3.11.5"
  }
 },
 "nbformat": 4,
 "nbformat_minor": 2
}
