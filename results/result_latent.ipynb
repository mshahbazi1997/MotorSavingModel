{
 "cells": [
  {
   "cell_type": "markdown",
   "metadata": {},
   "source": [
    "# 1- Train the models"
   ]
  },
  {
   "cell_type": "code",
   "execution_count": 1,
   "metadata": {},
   "outputs": [],
   "source": [
    "import os\n",
    "import sys \n",
    "sys.path.append(os.path.abspath('..'))\n",
    "from get_utils import return_ignore, get_data, get_dir\n",
    "import matplotlib.pyplot as plt\n",
    "import pandas as pd\n",
    "import seaborn as sb\n",
    "import numpy as np\n",
    "from tdr import build_tdr, project_onto_map, orth_wrt_map\n",
    "import torch as th\n",
    "import scipy.stats as stats\n",
    "import plot as plot\n",
    "from matplotlib.colors import ListedColormap\n",
    "\n",
    "\n",
    "\n",
    "\n",
    "#%matplotlib qt\n",
    "#%matplotlib widget\n",
    "%matplotlib inline"
   ]
  },
  {
   "cell_type": "markdown",
   "metadata": {},
   "source": [
    "# Directory info\n",
    "This is the format that I use for generating directory when I train models. I use the network size of 128 for all analysis."
   ]
  },
  {
   "cell_type": "code",
   "execution_count": 2,
   "metadata": {},
   "outputs": [],
   "source": [
    "n_model = 40 # number of simulated networks\n",
    "network_siz = 128\n",
    "folder_name = f'Sim_fixed_{network_siz}'"
   ]
  },
  {
   "cell_type": "markdown",
   "metadata": {},
   "source": [
    "# General things\n",
    "\n",
    "You can specify a saving directory, basically the directory in which the figure can be saved.\n",
    "The base directory is **hard-coded** in the current version of the code.\n"
   ]
  },
  {
   "cell_type": "code",
   "execution_count": 3,
   "metadata": {},
   "outputs": [],
   "source": [
    "loss_type = 'lateral' # I chose lateral deviation as the loss function\n",
    "\n",
    "\n",
    "phases = {'NF1':[0],'FF1':[8],'NF2':[0],'FF2':[8]}\n",
    "labels = ['NF1','FF1','NF2','FF2']\n",
    "palette_colors = {'FF1':(0,0.5,0),'FF2':(0.4,0.4,0.8),'NF1':(0,0,0),'NF2':(0,0,0)}\n",
    "\n",
    "\n",
    "\n",
    "fontsize_label = 8\n",
    "fontsize_tick = 8\n",
    "fontsize_legend = 8\n",
    "\n",
    "base_dir = os.path.join(os.path.expanduser('~'),'Documents','Data','MotorNet')\n",
    "save_fig = '/Users/mahdiyar/Dropbox (Personal)/MotorSavings/paper/figures_raw'\n",
    "if not os.path.exists(save_fig):\n",
    "    save_fig = os.getcwd()  # Set current directory as save_dir if save_dir doesn't exist"
   ]
  },
  {
   "cell_type": "markdown",
   "metadata": {},
   "source": [
    "# #1: Estimating TDR and uniform shift"
   ]
  },
  {
   "cell_type": "code",
   "execution_count": 4,
   "metadata": {},
   "outputs": [],
   "source": [
    "N_idx = 16 # 16 # time point just before the reach onset\n",
    "F_idx = 59 # 25 # time point just after the reach onset\n",
    "\n",
    "\n",
    "n_muscle = 6\n",
    "\n",
    "\n",
    "ignore = return_ignore(folder_name,n_model) # sometimes some of cpus fail so we want to ignore those models\n",
    "T = pd.DataFrame()\n",
    "\n",
    "data_tdr = []\n",
    "\n",
    "for mn in range(n_model):\n",
    "    model_name = \"model{:02d}\".format(mn)\n",
    "    if mn in ignore:\n",
    "        continue\n",
    "\n",
    "    # 0. Load weights\n",
    "    weight_file,_,_= get_dir(folder_name,model_name,'NF1',0)\n",
    "    W = th.load(weight_file)['fc.weight'].numpy()\n",
    "    U, S, Vh = np.linalg.svd(W, full_matrices=True)\n",
    "    V = Vh.T\n",
    "    P = V[:,:n_muscle] # output potent\n",
    "    N = V[:,n_muscle:] # output null\n",
    "    \n",
    "    # 1. Load data\n",
    "    U = get_data(folder_name,model_name,phases,n_hidden=network_siz)\n",
    "\n",
    "    data = []\n",
    "    force = []\n",
    "    for i in range(len(U)):\n",
    "        data.append(np.array(U[i]['all_hidden'])[:,N_idx,:])\n",
    "        force.append(np.array(U[i]['endpoint_force'])[:,F_idx,:])\n",
    "\n",
    "    # 1 build TDR\n",
    "    combined_N = np.vstack(data)\n",
    "    mean_N = np.mean(combined_N, axis=0)\n",
    "\n",
    "    X = force[0] # NF1 force \n",
    "    N = data[0]-mean_N # NF1 hidden activity\n",
    "\n",
    "    tdr = build_tdr(X,N)\n",
    "\n",
    "\n",
    "    # 2 projection onto TDR\n",
    "    data_p = project_onto_map(data,tdr,remove_mean=True)\n",
    "    data_tdr.append(data_p)\n",
    "\n",
    "\n",
    "    # 3 uniform shift from NF1 to FF1\n",
    "    us = np.mean(data[1]-data[0],axis=0).reshape(-1,1)\n",
    "    us_orth_norm = orth_wrt_map(us,tdr)\n",
    "    #us_orth_norm = orth_wrt_map(us,P) \n",
    "\n",
    "\n",
    "    proj_onto_us = project_onto_map(data,us_orth_norm,remove_mean=False,mean_all=True)\n",
    "    u_mean = np.mean(np.array(proj_onto_us),axis=1).ravel()\n",
    "\n",
    "    d = {\n",
    "    'mn': [mn] * len(labels),  # Repeat mn for the length of labels\n",
    "    'phase': labels,  # Use labels directly\n",
    "    'us': u_mean.tolist()  # Convert u_mean Series to list\n",
    "    }\n",
    "\n",
    "    T = pd.concat([T, pd.DataFrame(d)], ignore_index=True)"
   ]
  },
  {
   "cell_type": "markdown",
   "metadata": {},
   "source": [
    "# Plot projection on TDR"
   ]
  },
  {
   "cell_type": "code",
   "execution_count": 13,
   "metadata": {},
   "outputs": [
    {
     "data": {
      "text/plain": [
       "Text(0, 0.5, 'TDR Axis 2')"
      ]
     },
     "execution_count": 13,
     "metadata": {},
     "output_type": "execute_result"
    },
    {
     "data": {
      "image/png": "[encoded data removed]",
      "text/plain": [
       "<Figure size 250x250 with 1 Axes>"
      ]
     },
     "metadata": {},
     "output_type": "display_data"
    }
   ],
   "source": [
    "angle_set = np.deg2rad(np.arange(0, 360, 45))  # 8 directions\n",
    "color_list = [plt.cm.brg(cond / (2 * np.pi)) for cond in angle_set]\n",
    "n_cond = len(angle_set)\n",
    "\n",
    "# Create a scatter plot\n",
    "fig,ax = plt.subplots(1,1,figsize=(2.5,2.5))\n",
    "\n",
    "data_p = data_tdr[0]\n",
    "\n",
    "s1_size = 7\n",
    "s2_size = 7\n",
    "s3_size = 7\n",
    "s4_size = 7\n",
    "\n",
    "s1 = '^'\n",
    "s2 = 'v'\n",
    "s3 = '>'\n",
    "s4 = '<'\n",
    "\n",
    "s1 = 'o'\n",
    "s2 = '^'\n",
    "\n",
    "s3 = 's'\n",
    "s4 = '*'\n",
    "\n",
    "for i in range(n_cond):\n",
    "    \n",
    "    if i == 0:\n",
    "        ax.plot(data_p[0][i,0], data_p[0][i,1],s1, markersize=s1_size, color=color_list[i],alpha=0.8,label='NF1',markeredgewidth=0)\n",
    "        ax.plot(data_p[1][i,0], data_p[1][i,1],s2, markersize=s2_size, markerfacecolor=color_list[i],alpha=0.8,label='FF1',markeredgewidth=0)\n",
    "        ax.plot(data_p[2][i,0], data_p[2][i,1],s3, markersize=s3_size, color=color_list[i],alpha=0.8,label='NF2',markeredgewidth=0)\n",
    "        ax.plot(data_p[3][i,0], data_p[3][i,1],s4, markersize=s4_size, markerfacecolor=color_list[i],alpha=0.8,label='FF2',markeredgewidth=0)\n",
    "    else:\n",
    "        ax.plot(data_p[0][i,0], data_p[0][i,1],s1, markersize=s1_size, color=color_list[i],alpha=0.8,markeredgewidth=0)\n",
    "        ax.plot(data_p[1][i,0], data_p[1][i,1],s2, markersize=s2_size, markerfacecolor=color_list[i],alpha=0.8,markeredgewidth=0)\n",
    "        ax.plot(data_p[2][i,0], data_p[2][i,1],s3, markersize=s3_size, color=color_list[i],alpha=0.8,markeredgewidth=0)\n",
    "        ax.plot(data_p[3][i,0], data_p[3][i,1],s4, markersize=s4_size, markerfacecolor=color_list[i],alpha=0.8,markeredgewidth=0)\n",
    "\n",
    "ax.spines['top'].set_visible(False)\n",
    "ax.spines['right'].set_visible(False)\n",
    "ax.spines['left'].set_visible(False)\n",
    "ax.spines['bottom'].set_visible(False)\n",
    "#ax.set_aspect('equal')\n",
    "ax.set_xticklabels([])\n",
    "ax.set_yticklabels([])\n",
    "ax.tick_params(left = False,bottom = False) \n",
    "ax.set_xlabel('TDR Axis 1', fontsize = fontsize_label)\n",
    "ax.set_ylabel('TDR Axis 2', fontsize = fontsize_label)\n",
    "\n",
    "#ax.legend(fontsize=fontsize_legend,loc='lower left',frameon = False)\n",
    "#fig.savefig(os.path.join(save_fig,'tdr.pdf'),dpi=300,bbox_inches='tight')"
   ]
  },
  {
   "cell_type": "code",
   "execution_count": 14,
   "metadata": {},
   "outputs": [],
   "source": [
    "from sklearn.utils import resample\n",
    "\n",
    "def bootstrap_ci(data, n_boot=1000, ci=95):\n",
    "    \"\"\"\n",
    "    Calculate the bootstrap confidence interval.\n",
    "    \"\"\"\n",
    "    boot_means = []\n",
    "    for _ in range(n_boot):\n",
    "        boot_sample = resample(data)\n",
    "        boot_means.append(np.mean(boot_sample))\n",
    "    \n",
    "    lower = np.percentile(boot_means, (100-ci)/2)\n",
    "    upper = np.percentile(boot_means, 100-(100-ci)/2)\n",
    "    \n",
    "    return (lower, upper)\n",
    "\n",
    "def ci_func(values):\n",
    "    \"\"\"\n",
    "    Compute the lower and upper confidence interval from bootstrap sampling.\n",
    "    \"\"\"\n",
    "    ci_low, ci_high = bootstrap_ci(values)\n",
    "    return ci_low, ci_high\n"
   ]
  },
  {
   "cell_type": "markdown",
   "metadata": {},
   "source": [
    "# Plot projection on uniform shift"
   ]
  },
  {
   "cell_type": "code",
   "execution_count": 15,
   "metadata": {},
   "outputs": [
    {
     "data": {
      "text/plain": [
       "(0.0, 1.0)"
      ]
     },
     "execution_count": 15,
     "metadata": {},
     "output_type": "execute_result"
    },
    {
     "data": {
      "image/png": "[encoded data removed]",
      "text/plain": [
       "<Figure size 1200x1200 with 1 Axes>"
      ]
     },
     "metadata": {},
     "output_type": "display_data"
    }
   ],
   "source": [
    "# Assuming T is your DataFrame\n",
    "\n",
    "#fig,ax = plt.subplots(1,1,figsize=(1.2,1.2))\n",
    "fig,ax = plt.subplots(1,1,figsize=(12,12))\n",
    "\n",
    "mean_nf1 = T.loc[T['phase'] == 'NF1', 'us'].mean()\n",
    "\n",
    "\n",
    "sb.barplot(x='phase', y='us', data=T,palette=palette_colors,ax=ax,hue='phase',order=None,width=0.5,errorbar=ci_func) # ,errorbar=None\n",
    "ax.axhline(mean_nf1, color='grey',linestyle='--')\n",
    "\n",
    "\n",
    "ax.spines['top'].set_visible(False)\n",
    "ax.spines['right'].set_visible(False)\n",
    "ax.xaxis.set_tick_params(labelsize=fontsize_tick)\n",
    "ax.yaxis.set_tick_params(labelsize=fontsize_tick)\n",
    "ax.tick_params(bottom = False) \n",
    "ax.set_xlabel('', fontsize = fontsize_label)\n",
    "#ax.set_ylabel('Proj on uniform shift [AU]', fontsize = fontsize_label)\n",
    "ax.set_ylim([0,1])  # Adjust based on your data\n",
    "\n",
    "\n",
    "#fig.savefig(os.path.join(save_fig,'proj_on_us_0.pdf'),dpi=300,bbox_inches='tight')"
   ]
  },
  {
   "cell_type": "code",
   "execution_count": 31,
   "metadata": {},
   "outputs": [
    {
     "data": {
      "image/png": "[encoded data removed]",
      "text/plain": [
       "<Figure size 60x100 with 1 Axes>"
      ]
     },
     "metadata": {},
     "output_type": "display_data"
    }
   ],
   "source": [
    "# Assuming T is your DataFrame\n",
    "\n",
    "fig,ax = plt.subplots(1,1,figsize=(0.6,1))\n",
    "\n",
    "p1='NF1'\n",
    "p2='NF2'\n",
    "\n",
    "D = T[(T['phase'].isin([p1,p2]))]\n",
    "\n",
    "\n",
    "for group_id, group_data in D.groupby('mn'):\n",
    "\n",
    "    ff1_value = group_data[group_data['phase'] == p1]['us'].values[0]\n",
    "    ff2_value = group_data[group_data['phase'] == p2]['us'].values[0]\n",
    "    ax.plot([p1,p2], [ff1_value, ff2_value], color='k',linewidth=0.2)\n",
    "\n",
    "\n",
    "# sb.barplot(x='phase', y='us', data=D,palette=palette_colors,ax=ax,hue='phase',order=None,width=0.5,errorbar=None)\n",
    "# #ax.axhline(mean_nf1, color='grey',linestyle='--')\n",
    "\n",
    "# Calculating means\n",
    "mean_nf1 = D[D['phase'] == p1]['us'].mean()\n",
    "mean_nf2 = D[D['phase'] == p2]['us'].mean()\n",
    "\n",
    "# Plotting line connecting the means\n",
    "ax.plot([p1, p2], [mean_nf1, mean_nf2], color='k', linewidth=1.5)\n",
    "\n",
    "# Adding \"+\" marker at the means\n",
    "ax.plot(p1, mean_nf1, marker='+', color='k', markersize=5, mew=2)\n",
    "ax.plot(p2, mean_nf2, marker='+', color='k', markersize=5, mew=2)\n",
    "\n",
    "\n",
    "\n",
    "ax.spines['top'].set_visible(False)\n",
    "ax.spines['right'].set_visible(False)\n",
    "ax.xaxis.set_tick_params(labelsize=fontsize_tick)\n",
    "ax.yaxis.set_tick_params(labelsize=fontsize_tick)\n",
    "ax.tick_params(bottom = False) \n",
    "ax.set_xlabel('', fontsize = fontsize_label)\n",
    "ax.set_ylabel('', fontsize = fontsize_label)\n",
    "#ax.set_ylim([-0.5, 1])  # Adjust based on your data\n",
    "\n",
    "\n",
    "if p1 == 'FF1':\n",
    "    ax.set_ylim([0,1.5]) \n",
    "    fig.savefig(os.path.join(save_fig,'proj_on_us_FF.pdf'),dpi=300,bbox_inches='tight')\n",
    "else:\n",
    "    ax.set_ylim([-0.5,1])\n",
    "    fig.savefig(os.path.join(save_fig,'proj_on_us_NF.pdf'),dpi=300,bbox_inches='tight')"
   ]
  },
  {
   "cell_type": "markdown",
   "metadata": {},
   "source": [
    "# #2: Perturbation along and opposite uniform shift"
   ]
  },
  {
   "cell_type": "code",
   "execution_count": 5,
   "metadata": {},
   "outputs": [
    {
     "name": "stdout",
     "output_type": "stream",
     "text": [
      "0.5298859\n",
      "DONE!!!!\n",
      "DONE!!!!\n"
     ]
    },
    {
     "data": {
      "image/png": "[encoded data removed]",
      "text/plain": [
       "<Figure size 800x800 with 1 Axes>"
      ]
     },
     "metadata": {},
     "output_type": "display_data"
    },
    {
     "data": {
      "image/png": "[encoded data removed]",
      "text/plain": [
       "<Figure size 300x100 with 1 Axes>"
      ]
     },
     "metadata": {},
     "output_type": "display_data"
    }
   ],
   "source": [
    "N_idx = 20 # 16 # time point just before the reach onset\n",
    "F_idx = 59 # 25 # time point just after the reach onset\n",
    "\n",
    "n_muscle = 6\n",
    "\n",
    "ignore = return_ignore(folder_name,n_model) # sometimes some of cpus fail so we want to ignore those models\n",
    "T = pd.DataFrame()\n",
    "\n",
    "plot_check = True\n",
    "if plot_check:\n",
    "    #models = [3]\n",
    "    models = [3]\n",
    "else:\n",
    "    models = range(n_model)\n",
    "\n",
    "for mn in models:\n",
    "    model_name = \"model{:02d}\".format(mn)\n",
    "    if mn in ignore:\n",
    "        continue\n",
    "\n",
    "    # 0. Load weights\n",
    "    weight_file,_,_= get_dir(folder_name,model_name,'NF1',0)\n",
    "    W = th.load(weight_file)['fc.weight'].numpy()\n",
    "    U, S, Vh = np.linalg.svd(W, full_matrices=True)\n",
    "    V = Vh.T\n",
    "    P = V[:,:n_muscle] # output potent\n",
    "    N = V[:,n_muscle:] # output null\n",
    "    \n",
    "    # 1. Load data\n",
    "    U = get_data(folder_name,model_name,phases,n_hidden=network_siz)\n",
    "\n",
    "    data = []\n",
    "    force = []\n",
    "    for i in range(len(U)):\n",
    "        data.append(np.array(U[i]['all_hidden'])[:,N_idx,:])\n",
    "        force.append(np.array(U[i]['endpoint_force'])[:,F_idx,:])\n",
    "\n",
    "    # 1 build TDR\n",
    "    combined_N = np.vstack(data)\n",
    "    mean_N = np.mean(combined_N, axis=0)\n",
    "\n",
    "    X = force[0] # NF1 force \n",
    "    N = data[0]-mean_N # NF1 hidden activity\n",
    "\n",
    "    tdr = build_tdr(X,N)\n",
    "\n",
    "\n",
    "    # 2 uniform shift from NF1 to FF1\n",
    "    us = np.mean(data[1]-data[0],axis=0).reshape(-1,1)\n",
    "    us_orth_norm = orth_wrt_map(us,tdr)\n",
    "    #us_orth_norm = orth_wrt_map(us,P)\n",
    "    us_orth_norm = us\n",
    "    print(np.linalg.norm(us_orth_norm))\n",
    "\n",
    "\n",
    "    # 3. perturb hidden\n",
    "    loss_ff2_p = []\n",
    "    data_p = []\n",
    "    for dir in [1,-1]: # positive and negative perturbation\n",
    "        d_hidden = th.from_numpy(dir*us_orth_norm.T*20) # 0.6\n",
    "\n",
    "        # now lets perturb or not and calculate the saving in behavior\n",
    "        data_p_, loss_p = get_data(folder_name,model_name,{'NF2':[0]},[8],n_hidden=network_siz,disturb_hidden=True,t_disturb_hidden=N_idx/100,d_hidden=d_hidden,return_loss=True,catch_trial_perc=0) \n",
    "        loss_ff2_p.append(loss_p[0][loss_type].mean())\n",
    "        data_p.append(data_p_)\n",
    "\n",
    "    \n",
    "    data_np, loss_np = get_data(folder_name,model_name,{'NF1':[0],'NF2':[0]},[8,8],n_hidden=network_siz,return_loss=True) \n",
    "    \n",
    "    loss_ff1 = loss_np[0][loss_type].mean()\n",
    "    loss_ff2_np = loss_np[1][loss_type].mean()\n",
    "    \n",
    "\n",
    "    # make a dataframe\n",
    "    d = {'size':[network_siz]*4,'N':[N_idx]*4,'m':[mn]*4,'loss':[loss_ff1,loss_ff2_np,loss_ff2_p[0],loss_ff2_p[1]],'phase':['FF1','FF2','FF2+','FF2-']}\n",
    "    T = pd.concat([T,pd.DataFrame(d)],ignore_index=True)\n",
    "\n",
    "\n",
    "    # plot\n",
    "    n_fig = 1\n",
    "\n",
    "    if plot_check:\n",
    "        kk=0\n",
    "        fig,ax = plt.subplots(1,n_fig,figsize=(8,8))\n",
    "        ax = [ax]\n",
    "        colors = ['navy']\n",
    "        cmap = ListedColormap(colors,'regions',N=1)\n",
    "        plot.plot_simulations(ax[0],xy=data_np[1]['xy'],target_xy=data_np[1]['tg'],vel=None,plot_lat=False,cmap=cmap,s=25)\n",
    "\n",
    "        colors = ['red']\n",
    "        cmap = ListedColormap(colors,'regions',N=1)\n",
    "        plot.plot_simulations(ax[0],xy=data_p[kk][0]['xy'],target_xy=data_p[kk][0]['tg'],vel=None,plot_lat=False,cmap=cmap,s=25)\n",
    "\n",
    "\n",
    "        ax[0].spines['top'].set_visible(False)\n",
    "        ax[0].spines['right'].set_visible(False)\n",
    "        ax[0].spines['left'].set_visible(False)\n",
    "        ax[0].spines['bottom'].set_visible(False)\n",
    "\n",
    "        ax[0].set_xticklabels([])\n",
    "        ax[0].set_yticklabels([])\n",
    "        ax[0].tick_params(left = False,bottom = False) \n",
    "        ax[0].set_xlabel('', fontsize = fontsize_label)\n",
    "        ax[0].set_ylabel('', fontsize = fontsize_label)\n",
    "\n",
    "        all_axes = fig.get_axes()\n",
    "        if len(all_axes) > len(ax):  # More axes present than your main plots\n",
    "            colorbar_ax = all_axes[-1]  # Assuming the colorbar is the last axes object\n",
    "            colorbar_ax.remove()\n",
    "            colorbar_ax = all_axes[-2]  # Assuming the colorbar is the last axes object\n",
    "            colorbar_ax.remove()\n",
    "        # if kk == 0:\n",
    "        #     fig.savefig(os.path.join(save_fig,'traj_FF+.pdf'),dpi=300,bbox_inches='tight')\n",
    "        # else:\n",
    "        #     fig.savefig(os.path.join(save_fig,'traj_FF-.pdf'),dpi=300,bbox_inches='tight')\n",
    "\n",
    "\n",
    "        #muscle = np.array(data_p[kk][0]['all_action'][0,:,:])\n",
    "        muscle = np.array(data_np[1]['all_action'][0,:,:])\n",
    "        muscle2 = np.array(data_p[kk][0]['all_action'][0,:,:])\n",
    "\n",
    "        fg, ax = plt.subplots(nrows=1,ncols=1,figsize=(3,1))\n",
    "        #ax = plot.plot_activation(ax, hidden,muscle)\n",
    "\n",
    "\n",
    "        dt = 0.01\n",
    "        x = np.linspace(0, np.shape(muscle)[0]*dt, np.shape(muscle)[0])\n",
    "\n",
    "        colors = np.ones((6,4))\n",
    "        colors[0,:3] = (31/255,119/255,180/255)\n",
    "        colors[1,:3] = (255/255,127/255,14/255)\n",
    "        colors[2,:3] = (44/255,160/255,44/255)\n",
    "        colors[3,:3] = (213/255,39/255,40/255)\n",
    "        colors[4,:3] = (148/255,103/255,189/255)\n",
    "        colors[5,:3] = (122/255,21/255,0/255)\n",
    "\n",
    "        labels = ['SF','SE','EF','EE','BF','BE']\n",
    "\n",
    "        for i in range(muscle.shape[1]):\n",
    "            #ax.plot(x,muscle2[:,i]-muscle[:,i],color=colors[i],label=labels[i])\n",
    "            ax.plot(x,muscle2[:,i],color=colors[i],label=labels[i])\n",
    "\n",
    "        ax.spines['top'].set_visible(False)\n",
    "        ax.spines['right'].set_visible(False)\n",
    "        ax.tick_params(left = False,bottom = False) \n",
    "        ax.set_xlabel('Time [s]', fontsize = fontsize_label)\n",
    "        ax.set_ylabel('Force [N]', fontsize = fontsize_label)\n",
    "        ax.xaxis.set_tick_params(labelsize=fontsize_tick)\n",
    "        ax.yaxis.set_tick_params(labelsize=fontsize_tick)\n",
    "\n",
    "        ax.set_ylim([-0.01,0.12])\n",
    "        #ax.set_ylim([-0.02,0.03])\n",
    "\n",
    "        #ax.legend(fontsize=fontsize_legend,loc='upper right',bbox_to_anchor=(1.1, 1.1),frameon = False)\n",
    "\n",
    "        #fg.savefig(os.path.join(save_fig,'no_move.pdf'),dpi=300,bbox_inches='tight')\n",
    "\n",
    "                "
   ]
  },
  {
   "cell_type": "code",
   "execution_count": 39,
   "metadata": {},
   "outputs": [
    {
     "data": {
      "text/plain": [
       "6"
      ]
     },
     "execution_count": 39,
     "metadata": {},
     "output_type": "execute_result"
    }
   ],
   "source": [
    "muscle.shape[1]"
   ]
  },
  {
   "cell_type": "markdown",
   "metadata": {},
   "source": [
    "# Plot changes on the loss with or without perturbation"
   ]
  },
  {
   "cell_type": "code",
   "execution_count": 8,
   "metadata": {},
   "outputs": [
    {
     "name": "stdout",
     "output_type": "stream",
     "text": [
      "T-statistic: 8.184617875690822\n",
      "P-value: 5.376980030038036e-10\n"
     ]
    },
    {
     "data": {
      "image/png": "[encoded data removed]",
      "text/plain": [
       "<Figure size 200x200 with 1 Axes>"
      ]
     },
     "metadata": {},
     "output_type": "display_data"
    }
   ],
   "source": [
    "palette_colors2 = {'FF1':(0,0.5,0),'FF2': (0.4,0.4,0.8),'FF2+': (0.2,0.2,0.6),'FF2-': (0.6,0.6,1)}\n",
    "\n",
    "\n",
    "order = ['FF1','FF2','FF2+','FF2-']\n",
    "\n",
    "fig,ax = plt.subplots(1,1,figsize=(2,2))\n",
    "# Plot for T_pos on the first subplot\n",
    "sb.barplot(x='phase', y='loss', data=T, hue='phase', ax=ax,palette=palette_colors2,order=order,width=0.8)\n",
    "\n",
    "\n",
    "\n",
    "ax.spines['top'].set_visible(False)\n",
    "ax.spines['right'].set_visible(False)\n",
    "ax.set_ylim([0.025,0.04])\n",
    "ax.set_yticks([0.025,0.03,0.035,0.04])\n",
    "ax.xaxis.set_tick_params(labelsize=fontsize_tick)\n",
    "ax.yaxis.set_tick_params(labelsize=fontsize_tick)\n",
    "ax.tick_params(bottom = False) \n",
    "ax.set_xlabel('', fontsize = fontsize_label)\n",
    "ax.set_ylabel('Initial lateral deviation [mm]', fontsize = fontsize_label)\n",
    "\n",
    "\n",
    "\n",
    "fig.savefig(os.path.join(save_fig,'FF2_perturb_lat0.pdf'),dpi=300,bbox_inches='tight')\n",
    "\n",
    "\n",
    "L = T.pivot_table(index='m',columns='phase',values='loss')\n",
    "t_statistic, p_value = stats.ttest_rel(L['FF2'],L['FF2+'])\n",
    "print(\"T-statistic:\", t_statistic)\n",
    "print(\"P-value:\", p_value)"
   ]
  },
  {
   "cell_type": "code",
   "execution_count": 10,
   "metadata": {},
   "outputs": [
    {
     "data": {
      "text/html": [
       "<div>\n",
       "<style scoped>\n",
       "    .dataframe tbody tr th:only-of-type {\n",
       "        vertical-align: middle;\n",
       "    }\n",
       "\n",
       "    .dataframe tbody tr th {\n",
       "        vertical-align: top;\n",
       "    }\n",
       "\n",
       "    .dataframe thead th {\n",
       "        text-align: right;\n",
       "    }\n",
       "</style>\n",
       "<table border=\"1\" class=\"dataframe\">\n",
       "  <thead>\n",
       "    <tr style=\"text-align: right;\">\n",
       "      <th></th>\n",
       "      <th>size</th>\n",
       "      <th>N</th>\n",
       "      <th>m</th>\n",
       "      <th>loss</th>\n",
       "      <th>phase</th>\n",
       "    </tr>\n",
       "  </thead>\n",
       "  <tbody>\n",
       "    <tr>\n",
       "      <th>0</th>\n",
       "      <td>128</td>\n",
       "      <td>16</td>\n",
       "      <td>0</td>\n",
       "      <td>0.034499</td>\n",
       "      <td>FF1</td>\n",
       "    </tr>\n",
       "    <tr>\n",
       "      <th>1</th>\n",
       "      <td>128</td>\n",
       "      <td>16</td>\n",
       "      <td>0</td>\n",
       "      <td>0.034335</td>\n",
       "      <td>FF2</td>\n",
       "    </tr>\n",
       "    <tr>\n",
       "      <th>2</th>\n",
       "      <td>128</td>\n",
       "      <td>16</td>\n",
       "      <td>0</td>\n",
       "      <td>0.033811</td>\n",
       "      <td>FF2+</td>\n",
       "    </tr>\n",
       "    <tr>\n",
       "      <th>3</th>\n",
       "      <td>128</td>\n",
       "      <td>16</td>\n",
       "      <td>0</td>\n",
       "      <td>0.034748</td>\n",
       "      <td>FF2-</td>\n",
       "    </tr>\n",
       "    <tr>\n",
       "      <th>4</th>\n",
       "      <td>128</td>\n",
       "      <td>16</td>\n",
       "      <td>1</td>\n",
       "      <td>0.033461</td>\n",
       "      <td>FF1</td>\n",
       "    </tr>\n",
       "    <tr>\n",
       "      <th>...</th>\n",
       "      <td>...</td>\n",
       "      <td>...</td>\n",
       "      <td>...</td>\n",
       "      <td>...</td>\n",
       "      <td>...</td>\n",
       "    </tr>\n",
       "    <tr>\n",
       "      <th>155</th>\n",
       "      <td>128</td>\n",
       "      <td>16</td>\n",
       "      <td>38</td>\n",
       "      <td>0.032814</td>\n",
       "      <td>FF2-</td>\n",
       "    </tr>\n",
       "    <tr>\n",
       "      <th>156</th>\n",
       "      <td>128</td>\n",
       "      <td>16</td>\n",
       "      <td>39</td>\n",
       "      <td>0.032156</td>\n",
       "      <td>FF1</td>\n",
       "    </tr>\n",
       "    <tr>\n",
       "      <th>157</th>\n",
       "      <td>128</td>\n",
       "      <td>16</td>\n",
       "      <td>39</td>\n",
       "      <td>0.031634</td>\n",
       "      <td>FF2</td>\n",
       "    </tr>\n",
       "    <tr>\n",
       "      <th>158</th>\n",
       "      <td>128</td>\n",
       "      <td>16</td>\n",
       "      <td>39</td>\n",
       "      <td>0.029345</td>\n",
       "      <td>FF2+</td>\n",
       "    </tr>\n",
       "    <tr>\n",
       "      <th>159</th>\n",
       "      <td>128</td>\n",
       "      <td>16</td>\n",
       "      <td>39</td>\n",
       "      <td>0.033432</td>\n",
       "      <td>FF2-</td>\n",
       "    </tr>\n",
       "  </tbody>\n",
       "</table>\n",
       "<p>160 rows × 5 columns</p>\n",
       "</div>"
      ],
      "text/plain": [
       "     size   N   m      loss phase\n",
       "0     128  16   0  0.034499   FF1\n",
       "1     128  16   0  0.034335   FF2\n",
       "2     128  16   0  0.033811  FF2+\n",
       "3     128  16   0  0.034748  FF2-\n",
       "4     128  16   1  0.033461   FF1\n",
       "..    ...  ..  ..       ...   ...\n",
       "155   128  16  38  0.032814  FF2-\n",
       "156   128  16  39  0.032156   FF1\n",
       "157   128  16  39  0.031634   FF2\n",
       "158   128  16  39  0.029345  FF2+\n",
       "159   128  16  39  0.033432  FF2-\n",
       "\n",
       "[160 rows x 5 columns]"
      ]
     },
     "execution_count": 10,
     "metadata": {},
     "output_type": "execute_result"
    }
   ],
   "source": [
    "T"
   ]
  },
  {
   "cell_type": "code",
   "execution_count": 15,
   "metadata": {},
   "outputs": [
    {
     "data": {
      "image/png": "[encoded data removed]",
      "text/plain": [
       "<Figure size 100x100 with 1 Axes>"
      ]
     },
     "metadata": {},
     "output_type": "display_data"
    }
   ],
   "source": [
    "fig,ax = plt.subplots(1,1,figsize=(1.,1))\n",
    "palette_colors2 = {'FF1':(0,0.5,0),'FF2': (0.4,0.4,0.8),'FF2+': (0.2,0.2,0.6),'FF2-': (0.6,0.6,1)}\n",
    "\n",
    "\n",
    "p1='FF2'\n",
    "p2='FF2-'\n",
    "\n",
    "D = T[(T['phase'].isin([p1,p2]))]\n",
    "\n",
    "\n",
    "\n",
    "order = None\n",
    "# Plot for T_pos on the first subplot\n",
    "sb.barplot(x='phase', y='loss', data=D, hue='phase', ax=ax,palette=palette_colors2,order=None,width=0.8,errorbar=None) \n",
    "\n",
    "for group_id, group_data in D.groupby('m'):\n",
    "    p1_dat = group_data[group_data['phase'] == p1]['loss'].values[0]\n",
    "    p2_dat = group_data[group_data['phase'] == p2]['loss'].values[0]\n",
    "\n",
    "    ax.plot([p1,p2], [p1_dat, p2_dat], color='k',linewidth=0.5)\n",
    "\n",
    "\n",
    "\n",
    "ax.spines['top'].set_visible(False)\n",
    "ax.spines['right'].set_visible(False)\n",
    "ax.set_ylim([0.025,0.04])\n",
    "#ax.set_yticks([0.025,0.03,0.035,0.04])\n",
    "\n",
    "ax.xaxis.set_tick_params(labelsize=fontsize_tick)\n",
    "ax.yaxis.set_tick_params(labelsize=fontsize_tick)\n",
    "\n",
    "ax.tick_params(bottom = False) \n",
    "ax.set_xlabel('', fontsize = fontsize_label)\n",
    "ax.set_ylabel('', fontsize = fontsize_label)\n",
    " \n",
    "\n",
    "if p2=='FF2+':\n",
    "    fig.savefig(os.path.join(save_fig,'FF2_perturb_lat_pos.pdf'),dpi=300,bbox_inches='tight')\n",
    "else:\n",
    "    fig.savefig(os.path.join(save_fig,'FF2_perturb_lat_neg.pdf'),dpi=300,bbox_inches='tight')\n",
    "\n",
    "\n",
    "#fig.savefig(os.path.join(save_fig,'FF2_perturb_latneg.pdf'),dpi=300,bbox_inches='tight')\n",
    "# Display the plot\n",
    "#plt.tight_layout()  # Adjust the layout\n",
    "#plt.show()\n",
    "\n",
    "\n",
    "# L = T.pivot_table(index='m',columns='phase',values='loss')\n",
    "# t_statistic, p_value = stats.ttest_rel(L['ff2'],L['ff2_p'])\n",
    "# print(\"T-statistic:\", t_statistic)\n",
    "# print(\"P-value:\", p_value)"
   ]
  },
  {
   "cell_type": "code",
   "execution_count": null,
   "metadata": {},
   "outputs": [],
   "source": []
  }
 ],
 "metadata": {
  "kernelspec": {
   "display_name": "dl",
   "language": "python",
   "name": "python3"
  },
  "language_info": {
   "codemirror_mode": {
    "name": "ipython",
    "version": 3
   },
   "file_extension": ".py",
   "mimetype": "text/x-python",
   "name": "python",
   "nbconvert_exporter": "python",
   "pygments_lexer": "ipython3",
   "version": "3.11.5"
  }
 },
 "nbformat": 4,
 "nbformat_minor": 2
}
