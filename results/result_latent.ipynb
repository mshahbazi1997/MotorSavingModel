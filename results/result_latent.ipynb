{
 "cells": [
  {
   "cell_type": "markdown",
   "metadata": {},
   "source": [
    "# 1- Train the models"
   ]
  },
  {
   "cell_type": "code",
   "execution_count": 13,
   "metadata": {},
   "outputs": [],
   "source": [
    "import os\n",
    "import sys \n",
    "sys.path.append(os.path.abspath('..'))\n",
    "from get_utils import return_ignore, get_data\n",
    "import matplotlib.pyplot as plt\n",
    "import pandas as pd\n",
    "import seaborn as sb\n",
    "import numpy as np\n",
    "from tdr import build_tdr, project_onto_map, orth_wrt_map\n",
    "import torch as th\n",
    "import scipy.stats as stats\n",
    "\n",
    "\n",
    "\n",
    "\n",
    "#%matplotlib qt\n",
    "#%matplotlib widget\n",
    "%matplotlib inline"
   ]
  },
  {
   "cell_type": "code",
   "execution_count": 5,
   "metadata": {},
   "outputs": [],
   "source": [
    "n_model = 40 # number of simulated networks\n",
    "train_random = 0 # train of random/fixed reaches\n",
    "name=['fixed','random']"
   ]
  },
  {
   "cell_type": "markdown",
   "metadata": {},
   "source": [
    "# Directory info\n",
    "This is the format that I use for generating directory when I train models. I use the network size of 128 for all analysis."
   ]
  },
  {
   "cell_type": "code",
   "execution_count": 6,
   "metadata": {},
   "outputs": [],
   "source": [
    "network_siz = 128\n",
    "folder_name = f'Sim_{name[int(train_random)]}_{network_siz}'"
   ]
  },
  {
   "cell_type": "markdown",
   "metadata": {},
   "source": [
    "# General things\n",
    "\n",
    "You can specify a saving directory, basically the directory in which the figure can be saved.\n",
    "The base directory is **hard-coded** in the current version of the code.\n"
   ]
  },
  {
   "cell_type": "code",
   "execution_count": 7,
   "metadata": {},
   "outputs": [],
   "source": [
    "loss_type = 'lateral' # I chose lateral deviation as the loss function\n",
    "\n",
    "\n",
    "phases = {'NF1':[0],'FF1':[8],'NF2':[0],'FF2':[8]}\n",
    "labels = ['NF1','FF1','NF2','FF2']\n",
    "palette_colors = {'FF1':(0,0.5,0),'FF2':(0.4,0.4,0.8),'NF1':(0,0,0),'NF2':(0,0,0)}\n",
    "\n",
    "\n",
    "fontsize_label = 18\n",
    "fontsize_tick = 15\n",
    "fontsize_legend = 20\n",
    "\n",
    "base_dir = os.path.join(os.path.expanduser('~'),'Documents','Data','MotorNet')\n",
    "#save_fig = '/Users/mahdiyar/Diedrichsenlab Dropbox/Mahdiyar Shahbazi/Conferences/NCM2024_Mahdiyar/figures'"
   ]
  },
  {
   "cell_type": "markdown",
   "metadata": {},
   "source": [
    "# #1: Estimating TDR and uniform shift"
   ]
  },
  {
   "cell_type": "code",
   "execution_count": 18,
   "metadata": {},
   "outputs": [],
   "source": [
    "N_idx = 16 # 16 # time point just before the reach onset\n",
    "F_idx = 25 # 25 # time point just after the reach onset\n",
    "\n",
    "\n",
    "ignore = return_ignore(folder_name,n_model) # sometimes some of cpus fail so we want to ignore those models\n",
    "T = pd.DataFrame()\n",
    "\n",
    "data_tdr = []\n",
    "\n",
    "for mn in range(n_model):\n",
    "    model_name = \"model{:02d}\".format(mn)\n",
    "    if mn in ignore:\n",
    "        continue\n",
    "    \n",
    "    # 1. Load data\n",
    "    U = get_data(folder_name,model_name,phases,num_hidden=network_siz)\n",
    "\n",
    "    data = []\n",
    "    force = []\n",
    "    for i in range(len(U)):\n",
    "        data.append(np.array(U[i]['all_hidden'])[:,N_idx,:])\n",
    "        force.append(np.array(U[i]['endpoint_force'])[:,F_idx,:])\n",
    "\n",
    "    # 1 build TDR\n",
    "    combined_N = np.vstack(data)\n",
    "    mean_N = np.mean(combined_N, axis=0)\n",
    "\n",
    "    X = force[0] # NF1 force \n",
    "    N = data[0]-mean_N # NF1 hidden activity\n",
    "\n",
    "    tdr = build_tdr(X,N)\n",
    "\n",
    "\n",
    "    # 2 projection onto TDR\n",
    "    data_p = project_onto_map(data,tdr,remove_mean=True)\n",
    "    data_tdr.append(data_p)\n",
    "\n",
    "\n",
    "    # 3 uniform shift from NF1 to FF1\n",
    "    us = np.mean(data[1]-data[0],axis=0).reshape(-1,1)\n",
    "    us_orth_norm = orth_wrt_map(us,tdr) \n",
    "\n",
    "\n",
    "    proj_onto_us = project_onto_map(data,us_orth_norm,remove_mean=False,mean_all=True)\n",
    "    u_mean = np.mean(np.array(proj_onto_us),axis=1).ravel()\n",
    "\n",
    "    d = {\n",
    "    'mn': [mn] * len(labels),  # Repeat mn for the length of labels\n",
    "    'phase': labels,  # Use labels directly\n",
    "    'us': u_mean.tolist()  # Convert u_mean Series to list\n",
    "    }\n",
    "\n",
    "    T = pd.concat([T, pd.DataFrame(d)], ignore_index=True)"
   ]
  },
  {
   "cell_type": "markdown",
   "metadata": {},
   "source": [
    "# Plot projection on TDR"
   ]
  },
  {
   "cell_type": "code",
   "execution_count": 20,
   "metadata": {},
   "outputs": [
    {
     "data": {
      "text/plain": [
       "Text(0, 0.5, 'TDR Axis 2')"
      ]
     },
     "execution_count": 20,
     "metadata": {},
     "output_type": "execute_result"
    },
    {
     "data": {
      "image/png": "[encoded data removed]",
      "text/plain": [
       "<Figure size 500x500 with 1 Axes>"
      ]
     },
     "metadata": {},
     "output_type": "display_data"
    },
    {
     "data": {
      "text/plain": [
       "<Figure size 640x480 with 0 Axes>"
      ]
     },
     "metadata": {},
     "output_type": "display_data"
    }
   ],
   "source": [
    "angle_set = np.deg2rad(np.arange(0, 360, 45))  # 8 directions\n",
    "color_list = [plt.cm.brg(cond / (2 * np.pi)) for cond in angle_set]\n",
    "n_cond = len(angle_set)\n",
    "\n",
    "# Create a scatter plot\n",
    "\n",
    "fig,ax = plt.subplots(1,1,figsize=(5,5))\n",
    "\n",
    "data_p = data_tdr[0]\n",
    "\n",
    "plt.figure()\n",
    "for i in range(n_cond):\n",
    "    ax.plot(data_p[0][i,0], data_p[0][i,1],'.', markersize=30, color=color_list[i])\n",
    "    ax.plot(data_p[1][i,0], data_p[1][i,1],'d', markersize=10, markerfacecolor=color_list[i])\n",
    "    ax.plot(data_p[2][i,0], data_p[2][i,1],'.', markersize=30, color=color_list[i],alpha=0.5)\n",
    "    ax.plot(data_p[3][i,0], data_p[3][i,1],'d', markersize=10, markerfacecolor=color_list[i],alpha=0.5)\n",
    "    if i == n_cond-1:\n",
    "        ax.plot(data_p[0][i,0], data_p[0][i,1],'.', markersize=30, color=color_list[i],label='NF1')\n",
    "        ax.plot(data_p[1][i,0], data_p[1][i,1],'d', markersize=10, markerfacecolor=color_list[i],label='FF1')\n",
    "        ax.plot(data_p[2][i,0], data_p[2][i,1],'.', markersize=30, color=color_list[i],alpha=0.5,label='NF2')\n",
    "        ax.plot(data_p[3][i,0], data_p[3][i,1],'d', markersize=10, markerfacecolor=color_list[i],alpha=0.5,label='FF2')\n",
    "\n",
    "\n",
    "\n",
    "ax.spines['top'].set_visible(False)\n",
    "ax.spines['right'].set_visible(False)\n",
    "ax.spines['left'].set_visible(False)\n",
    "ax.spines['bottom'].set_visible(False)\n",
    "ax.set_aspect('equal')\n",
    "ax.set_xticklabels([])\n",
    "ax.set_yticklabels([])\n",
    "ax.tick_params(left = False,bottom = False) \n",
    "ax.set_xlabel('TDR Axis 1', fontsize = fontsize_label)\n",
    "ax.set_ylabel('TDR Axis 2', fontsize = fontsize_label)\n",
    "\n",
    "#fig.savefig(os.path.join(save_fig,'tdr.pdf'),dpi=300,bbox_inches='tight')"
   ]
  },
  {
   "cell_type": "markdown",
   "metadata": {},
   "source": [
    "# Plot projection on uniform shift"
   ]
  },
  {
   "cell_type": "code",
   "execution_count": 21,
   "metadata": {},
   "outputs": [
    {
     "data": {
      "text/plain": [
       "(0.0, 1.0)"
      ]
     },
     "execution_count": 21,
     "metadata": {},
     "output_type": "execute_result"
    },
    {
     "data": {
      "image/png": "[encoded data removed]",
      "text/plain": [
       "<Figure size 300x500 with 1 Axes>"
      ]
     },
     "metadata": {},
     "output_type": "display_data"
    }
   ],
   "source": [
    "# Assuming T is your DataFrame\n",
    "\n",
    "fig,ax = plt.subplots(1,1,figsize=(3,5))\n",
    "\n",
    "mean_nf1 = T.loc[T['phase'] == 'NF1', 'us'].mean()\n",
    "\n",
    "\n",
    "sb.barplot(x='phase', y='us', data=T,palette=palette_colors,ax=ax,hue='phase',order=None,width=0.8) # ,errorbar=None\n",
    "ax.axhline(mean_nf1, color='grey',linestyle='--')\n",
    "\n",
    "\n",
    "ax.spines['top'].set_visible(False)\n",
    "ax.spines['right'].set_visible(False)\n",
    "ax.xaxis.set_tick_params(labelsize=fontsize_tick)\n",
    "ax.yaxis.set_tick_params(labelsize=fontsize_tick)\n",
    "ax.tick_params(bottom = False) \n",
    "ax.set_xlabel('', fontsize = fontsize_label)\n",
    "ax.set_ylabel('Projection on uniform shift [AU]', fontsize = fontsize_label)\n",
    "ax.set_ylim([0,1])  # Adjust based on your data\n",
    "\n",
    "\n",
    "#fig.savefig(os.path.join(save_fig,'proj_on_us_0.pdf'),dpi=300,bbox_inches='tight')"
   ]
  },
  {
   "cell_type": "markdown",
   "metadata": {},
   "source": [
    "# #2: Perturbation along and opposite uniform shift"
   ]
  },
  {
   "cell_type": "code",
   "execution_count": 8,
   "metadata": {},
   "outputs": [],
   "source": [
    "N_idx = 16 # 16 # time point just before the reach onset\n",
    "F_idx = 25 # 25 # time point just after the reach onset\n",
    "\n",
    "ignore = return_ignore(folder_name,n_model) # sometimes some of cpus fail so we want to ignore those models\n",
    "T = pd.DataFrame()\n",
    "\n",
    "for mn in range(n_model):\n",
    "    model_name = \"model{:02d}\".format(mn)\n",
    "    if mn in ignore:\n",
    "        continue\n",
    "    \n",
    "    # 1. Load data\n",
    "    U = get_data(folder_name,model_name,phases,num_hidden=network_siz)\n",
    "\n",
    "    data = []\n",
    "    force = []\n",
    "    for i in range(len(U)):\n",
    "        data.append(np.array(U[i]['all_hidden'])[:,N_idx,:])\n",
    "        force.append(np.array(U[i]['endpoint_force'])[:,F_idx,:])\n",
    "\n",
    "    # 1 build TDR\n",
    "    combined_N = np.vstack(data)\n",
    "    mean_N = np.mean(combined_N, axis=0)\n",
    "\n",
    "    X = force[0] # NF1 force \n",
    "    N = data[0]-mean_N # NF1 hidden activity\n",
    "\n",
    "    tdr = build_tdr(X,N)\n",
    "\n",
    "\n",
    "    # 2 uniform shift from NF1 to FF1\n",
    "    us = np.mean(data[1]-data[0],axis=0).reshape(-1,1)\n",
    "    us_orth_norm = orth_wrt_map(us,tdr)\n",
    "\n",
    "\n",
    "    # 3. perturb hidden\n",
    "    loss_ff2_p = []\n",
    "    for dir in [1,-1]: # positive and negative perturbation\n",
    "        d_hidden = th.from_numpy(dir*us_orth_norm.T*1) # 0.6\n",
    "\n",
    "        # now lets perturb or not and calculate the saving in behavior\n",
    "        data_p, loss_p = get_data(folder_name,model_name,{'NF2':[0]},[8],num_hidden=network_siz,disturb_hidden=True,t_disturb_hidden=N_idx/100,d_hidden=d_hidden,return_loss=True) \n",
    "        loss_ff2_p.append(loss_p[0][loss_type].mean())\n",
    "\n",
    "    \n",
    "    data_np, loss_np = get_data(folder_name,model_name,{'NF1':[0],'NF2':[0]},[8,8],num_hidden=network_siz,return_loss=True) \n",
    "    \n",
    "    loss_ff1 = loss_np[0][loss_type].mean()\n",
    "    loss_ff2_np = loss_np[1][loss_type].mean()\n",
    "    \n",
    "\n",
    "    # make a dataframe\n",
    "    d = {'size':[network_siz]*4,'N':[N_idx]*4,'m':[mn]*4,'loss':[loss_ff1,loss_ff2_np,loss_ff2_p[0],loss_ff2_p[1]],'phase':['FF1','FF2','FF2+','FF2-']}\n",
    "    T = pd.concat([T,pd.DataFrame(d)],ignore_index=True)"
   ]
  },
  {
   "cell_type": "markdown",
   "metadata": {},
   "source": [
    "# Plot changes on the loss with or without perturbation"
   ]
  },
  {
   "cell_type": "code",
   "execution_count": 14,
   "metadata": {},
   "outputs": [
    {
     "name": "stdout",
     "output_type": "stream",
     "text": [
      "T-statistic: 9.021066969511278\n",
      "P-value: 4.351856739362939e-11\n"
     ]
    },
    {
     "data": {
      "image/png": "[encoded data removed]",
      "text/plain": [
       "<Figure size 300x500 with 1 Axes>"
      ]
     },
     "metadata": {},
     "output_type": "display_data"
    }
   ],
   "source": [
    "palette_colors2 = {'FF1':(0,0.5,0),'FF2': (0.4,0.4,0.8),'FF2+': (0.2,0.2,0.6),'FF2-': (0.6,0.6,1)}\n",
    "\n",
    "\n",
    "order = ['FF1','FF2','FF2+','FF2-']\n",
    "\n",
    "\n",
    "\n",
    "fig,ax = plt.subplots(1,1,figsize=(3,5))\n",
    "# Plot for T_pos on the first subplot\n",
    "sb.barplot(x='phase', y='loss', data=T, hue='phase', ax=ax,palette=palette_colors2,order=order,width=0.8)\n",
    "\n",
    "\n",
    "\n",
    "ax.spines['top'].set_visible(False)\n",
    "ax.spines['right'].set_visible(False)\n",
    "ax.set_ylim([0.025,0.04])\n",
    "ax.set_yticks([0.025,0.03,0.035,0.04])\n",
    "ax.xaxis.set_tick_params(labelsize=fontsize_tick)\n",
    "ax.yaxis.set_tick_params(labelsize=fontsize_tick)\n",
    "ax.tick_params(bottom = False) \n",
    "ax.set_xlabel('', fontsize = fontsize_label)\n",
    "ax.set_ylabel('Lateral deviation [mm]', fontsize = fontsize_label)\n",
    "\n",
    "\n",
    "\n",
    "#fig.savefig(os.path.join(save_fig,'FF2_perturb_lat0.pdf'),dpi=300,bbox_inches='tight')\n",
    "\n",
    "\n",
    "L = T.pivot_table(index='m',columns='phase',values='loss')\n",
    "t_statistic, p_value = stats.ttest_rel(L['FF2'],L['FF2+'])\n",
    "print(\"T-statistic:\", t_statistic)\n",
    "print(\"P-value:\", p_value)"
   ]
  }
 ],
 "metadata": {
  "kernelspec": {
   "display_name": "dl",
   "language": "python",
   "name": "python3"
  },
  "language_info": {
   "codemirror_mode": {
    "name": "ipython",
    "version": 3
   },
   "file_extension": ".py",
   "mimetype": "text/x-python",
   "name": "python",
   "nbconvert_exporter": "python",
   "pygments_lexer": "ipython3",
   "version": "3.11.5"
  }
 },
 "nbformat": 4,
 "nbformat_minor": 2
}
