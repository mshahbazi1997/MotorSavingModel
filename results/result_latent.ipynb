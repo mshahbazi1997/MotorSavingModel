{
 "cells": [
  {
   "cell_type": "markdown",
   "metadata": {},
   "source": [
    "# 1- Train the models"
   ]
  },
  {
   "cell_type": "code",
   "execution_count": 1,
   "metadata": {},
   "outputs": [],
   "source": [
    "import os\n",
    "import sys \n",
    "sys.path.append(os.path.abspath('..'))\n",
    "from get_utils import return_ignore, get_data, get_dir\n",
    "import matplotlib.pyplot as plt\n",
    "import pandas as pd\n",
    "import seaborn as sb\n",
    "import numpy as np\n",
    "from tdr import build_tdr, project_onto_map, orth_wrt_map\n",
    "import torch as th\n",
    "import plot as plot\n",
    "from matplotlib.colors import ListedColormap\n",
    "from utils import normalize_phase_data\n",
    "\n",
    "\n",
    "\n",
    "\n",
    "#%matplotlib qt\n",
    "#%matplotlib widget\n",
    "%matplotlib inline"
   ]
  },
  {
   "cell_type": "markdown",
   "metadata": {},
   "source": [
    "# Directory info\n",
    "This is the format that I use for generating directory when I train models. I use the network size of 128 for all analysis."
   ]
  },
  {
   "cell_type": "code",
   "execution_count": 2,
   "metadata": {},
   "outputs": [],
   "source": [
    "n_model = 40 # number of simulated networks\n",
    "network_siz = 128\n",
    "folder_name = f'Sim_fixed_{network_siz}'"
   ]
  },
  {
   "cell_type": "markdown",
   "metadata": {},
   "source": [
    "# General things\n",
    "\n",
    "You can specify a saving directory, basically the directory in which the figure can be saved.\n",
    "The base directory is **hard-coded** in the current version of the code.\n"
   ]
  },
  {
   "cell_type": "code",
   "execution_count": 3,
   "metadata": {},
   "outputs": [],
   "source": [
    "\n",
    "root_dir = '/Volumes/T9/MotorNet'\n",
    "\n",
    "base_dir = root_dir\n",
    "save_fig = os.path.join(os.path.expanduser('~'),'Dropbox/Projects/papers/MotorSavings/paper/figures_raw')"
   ]
  },
  {
   "cell_type": "markdown",
   "metadata": {},
   "source": [
    "# #1: Estimating TDR and uniform shift"
   ]
  },
  {
   "cell_type": "code",
   "execution_count": 4,
   "metadata": {},
   "outputs": [],
   "source": [
    "N_idx = 16 # 16 # time point just before the reach onset\n",
    "F_idx = 59 # 25 # time point just after the reach onset\n",
    "\n",
    "\n",
    "ignore = return_ignore(folder_name,n_model) # sometimes some of cpus fail so we want to ignore those models\n",
    "T = pd.DataFrame()\n",
    "\n",
    "data_tdr = []\n",
    "US = []\n",
    "\n",
    "for mn in range(n_model):\n",
    "    model_name = \"model{:02d}\".format(mn)\n",
    "    if mn in ignore:\n",
    "        US.append(None)\n",
    "        continue\n",
    "\n",
    "    # 1. Load data\n",
    "    U = get_data(folder_name,model_name,n_hidden=network_siz)\n",
    "\n",
    "    data = []\n",
    "    force = []\n",
    "    for i in range(len(U)):\n",
    "        data.append(np.array(U[i]['all_hidden'])[:,N_idx,:])\n",
    "        force.append(np.array(U[i]['endpoint_force'])[:,F_idx,:])\n",
    "\n",
    "    # 1 build TDR\n",
    "    combined_N = np.vstack(data)\n",
    "    mean_N = np.mean(combined_N, axis=0)\n",
    "\n",
    "    X = force[0] # NF1 force \n",
    "    N = data[0]-mean_N # NF1 hidden activity\n",
    "\n",
    "    tdr = build_tdr(X,N)\n",
    "\n",
    "    # 2 projection onto TDR\n",
    "    data_p = project_onto_map(data,tdr,remove_mean=True)\n",
    "    data_tdr.append(data_p)\n",
    "\n",
    "    # 3 uniform shift from NF1 to FF1\n",
    "    us = np.mean(data[1]-data[0],axis=0).reshape(-1,1)\n",
    "    us_orth, us_orth_norm = orth_wrt_map(us,tdr)\n",
    "    US.append(us_orth)\n",
    "\n",
    "    proj_onto_us = project_onto_map(data,us_orth,remove_mean=False,mean_all=True)\n",
    "    u_mean = np.mean(np.array(proj_onto_us),axis=1).ravel()\n",
    "\n",
    "    d = {\n",
    "    'mn': [mn] * 4,\n",
    "    'phase': ['NF1','FF1','NF2','FF2'],  \n",
    "    'us': u_mean.tolist()\n",
    "    }\n",
    "\n",
    "    T = pd.concat([T, pd.DataFrame(d)], ignore_index=True)"
   ]
  },
  {
   "cell_type": "markdown",
   "metadata": {},
   "source": [
    "# Plot projection on TDR"
   ]
  },
  {
   "cell_type": "code",
   "execution_count": 5,
   "metadata": {},
   "outputs": [
    {
     "data": {
      "image/png": "[encoded data removed]",
      "text/plain": [
       "<Figure size 250x250 with 1 Axes>"
      ]
     },
     "metadata": {},
     "output_type": "display_data"
    }
   ],
   "source": [
    "fig, ax = plot.plot_tdr(data_tdr[0],figsize=(2.5,2.5))\n",
    "#fig.savefig(os.path.join(save_fig,'tdr.pdf'),dpi=300,bbox_inches='tight')"
   ]
  },
  {
   "cell_type": "markdown",
   "metadata": {},
   "source": [
    "# Plot projection on uniform shift"
   ]
  },
  {
   "cell_type": "code",
   "execution_count": 6,
   "metadata": {},
   "outputs": [
    {
     "name": "stderr",
     "output_type": "stream",
     "text": [
      "No artists with labels found to put in legend.  Note that artists whose label start with an underscore are ignored when legend() is called with no argument.\n"
     ]
    },
    {
     "data": {
      "text/plain": [
       "<matplotlib.lines.Line2D at 0x36140b130>"
      ]
     },
     "execution_count": 6,
     "metadata": {},
     "output_type": "execute_result"
    },
    {
     "data": {
      "image/png": "[encoded data removed]",
      "text/plain": [
       "<Figure size 80x120 with 1 Axes>"
      ]
     },
     "metadata": {},
     "output_type": "display_data"
    }
   ],
   "source": [
    "# Apply normalization\n",
    "normalized_T,scale = normalize_phase_data(T)\n",
    "normalized_T = normalized_T[normalized_T['phase'].isin(['NF2', 'FF2'])]\n",
    "\n",
    "fig, ax = plot.my_barplot(normalized_T,x='phase',y='us',hue='phase',figsize=(0.8,1.2),width=0.8)\n",
    "ax.axhline(1, color='black',linestyle='--',linewidth=2)\n",
    "# fig.savefig(os.path.join(save_fig,'proj_on_us_0.pdf'),dpi=300,bbox_inches='tight')"
   ]
  },
  {
   "cell_type": "code",
   "execution_count": 14,
   "metadata": {},
   "outputs": [
    {
     "name": "stdout",
     "output_type": "stream",
     "text": [
      "t-statistic: 7.484771313992047, p-value: 4.6715897222228e-09\n"
     ]
    }
   ],
   "source": [
    "from scipy.stats import ttest_rel, ttest_1samp\n",
    "\n",
    "a = normalized_T[normalized_T['phase']=='NF2']['us'].values\n",
    "t_stat, p_value = ttest_1samp(a,0)\n",
    "print(f't-statistic: {t_stat}, p-value: {p_value}')"
   ]
  },
  {
   "cell_type": "markdown",
   "metadata": {},
   "source": [
    "# #2: Perturbation along and opposite uniform shift"
   ]
  },
  {
   "cell_type": "code",
   "execution_count": 17,
   "metadata": {},
   "outputs": [
    {
     "data": {
      "image/png": "[encoded data removed]",
      "text/plain": [
       "<Figure size 800x800 with 1 Axes>"
      ]
     },
     "metadata": {},
     "output_type": "display_data"
    },
    {
     "data": {
      "image/png": "[encoded data removed]",
      "text/plain": [
       "<Figure size 200x120 with 1 Axes>"
      ]
     },
     "metadata": {},
     "output_type": "display_data"
    },
    {
     "data": {
      "image/png": "[encoded data removed]",
      "text/plain": [
       "<Figure size 200x70 with 1 Axes>"
      ]
     },
     "metadata": {},
     "output_type": "display_data"
    }
   ],
   "source": [
    "N_idx = 16 # 16 # time point just before the reach onset\n",
    "F_idx = 59 # 25 # time point just after the reach onset\n",
    "i = 0\n",
    "ignore = return_ignore(folder_name,n_model)\n",
    "\n",
    "models = [3]\n",
    "\n",
    "for mn in models:\n",
    "    model_name = 'model{:02d}'.format(mn)\n",
    "    if mn in ignore:\n",
    "        continue\n",
    "    \n",
    "    us_orth = US[mn]\n",
    "    \n",
    "    # perturb hidden\n",
    "    data = []\n",
    "    for mag in [2,0,-2]: # positive and negative perturbation\n",
    "        d_hidden = th.from_numpy(mag*us_orth.T) # 0.6\n",
    "\n",
    "        # now lets perturb or not and calculate the saving in behavior\n",
    "        data_, = get_data(folder_name,model_name,{'NF2':[0]},[8],n_hidden=network_siz,disturb_hidden=True,t_disturb_hidden=N_idx/100,d_hidden=d_hidden,catch_trial_perc=0) \n",
    "        data.append(data_)\n",
    "\n",
    "    #1: plot trajectories\n",
    "    fig,ax = plt.subplots(1,1,figsize=(8,8))\n",
    "    plot.plot_simulations(ax,xy=data[0]['xy'][i][None],target_xy=data[0]['tg'][i][None],cmap=ListedColormap(['red'],N=1),s=25,color_dot=np.array([0.5,0.5,0.5,1]))\n",
    "    plot.plot_simulations(ax,xy=data[1]['xy'][i][None],target_xy=data[1]['tg'][i][None],cmap=ListedColormap(['navy'],N=1),s=25,color_dot=np.array([0.5,0.5,0.5,1]))\n",
    "    plot.plot_simulations(ax,xy=data[2]['xy'][i][None],target_xy=data[2]['tg'][i][None],cmap=ListedColormap(['red'],N=1),s=25,color_dot=np.array([0.5,0.5,0.5,1]))\n",
    "\n",
    "    #2: hidden\n",
    "    hidden_0 = np.array(data[1]['all_hidden'][i,:,:])\n",
    "    hidden_2 = np.array(data[0]['all_hidden'][i,:,:])\n",
    "    x = np.linspace(0, np.shape(hidden_0)[0]*0.01, np.shape(hidden_0)[0])-0.5\n",
    "    \n",
    "    color_hidden1 = plt.cm.coolwarm(np.linspace(0, 1, hidden_0.shape[1]))\n",
    "    #np.random.shuffle(color_hidden1)\n",
    "\n",
    "    fg, ax = plot.my_plot(x,hidden_2-hidden_0,color_hidden1,(2,1.2),labels=None,ylim=[-1.2,1.2],plot0=True,ylabel='Hidden activity [a.u.]',alpha=0.75)\n",
    "    ax.axvline(-0.36,color='k',linestyle='--',linewidth=0.75)\n",
    "    #fg.savefig(os.path.join(save_fig,'delta_hidden.pdf'),dpi=300,bbox_inches='tight')\n",
    "\n",
    "\n",
    "\n",
    "    #3: motor output\n",
    "    output_0 = np.array(data[1]['all_action'][i,:,:])\n",
    "    output_2 = np.array(data[0]['all_action'][i,:,:])\n",
    "\n",
    "    color_output = np.ones((6,4))\n",
    "    color_output[0,:3] = (31/255,119/255,180/255)\n",
    "    color_output[1,:3] = (255/255,127/255,14/255)\n",
    "    color_output[2,:3] = (44/255,160/255,44/255)\n",
    "    color_output[3,:3] = (213/255,39/255,40/255)\n",
    "    color_output[4,:3] = (148/255,103/255,189/255)\n",
    "    color_output[5,:3] = (122/255,21/255,0/255)\n",
    "\n",
    "\n",
    "    fg, ax = plot.my_plot(x,output_0-output_2,color_output,(2.,0.7),labels=None,ylim=[-0.05,0.15],plot0=True,ylabel='',linestyle=None)\n",
    "    ax.axvline(-0.36, color='k',linestyle='--',linewidth=0.5)\n",
    "    #fg.savefig(os.path.join(save_fig,'delta.pdf'),dpi=300,bbox_inches='tight')\n"
   ]
  }
 ],
 "metadata": {
  "kernelspec": {
   "display_name": "savings",
   "language": "python",
   "name": "python3"
  },
  "language_info": {
   "codemirror_mode": {
    "name": "ipython",
    "version": 3
   },
   "file_extension": ".py",
   "mimetype": "text/x-python",
   "name": "python",
   "nbconvert_exporter": "python",
   "pygments_lexer": "ipython3",
   "version": "3.10.16"
  }
 },
 "nbformat": 4,
 "nbformat_minor": 2
}
